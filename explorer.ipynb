{
 "cells": [
  {
   "cell_type": "markdown",
   "id": "c817a9a6",
   "metadata": {},
   "source": [
    "# Pré processamento dos dados\n",
    "\n",
    "- [Link dos dados](https://ckan.pbh.gov.br/dataset/ec3efaac-0ca6-4846-9e32-0ffff2d76dbb/resource/4189b28e-7592-474b-8160-e39731315c27/download/20250401_atividade_economica.csv)\n",
    "- baixar o csv e colocar na pasta `./data`"
   ]
  },
  {
   "cell_type": "code",
   "execution_count": 1,
   "id": "31002da5",
   "metadata": {},
   "outputs": [],
   "source": [
    "import pandas as pd"
   ]
  },
  {
   "cell_type": "markdown",
   "id": "60f00bc4",
   "metadata": {},
   "source": [
    "## Filtragem por bares e restaurantes"
   ]
  },
  {
   "cell_type": "code",
   "execution_count": 2,
   "id": "bd0d59b0",
   "metadata": {},
   "outputs": [],
   "source": [
    "patterns = ['bar', 'bares', 'restaurante', 'restaurantes']"
   ]
  },
  {
   "cell_type": "code",
   "execution_count": 3,
   "id": "23c11565",
   "metadata": {},
   "outputs": [],
   "source": [
    "file_path = 'data/20250401_atividade_economica.csv'  # Replace with the actual file name\n",
    "df = pd.read_csv(file_path, sep=';')"
   ]
  },
  {
   "cell_type": "markdown",
   "id": "c2782647",
   "metadata": {},
   "source": [
    "* TODO: Fix the below filter"
   ]
  },
  {
   "cell_type": "code",
   "execution_count": 4,
   "id": "30095951",
   "metadata": {},
   "outputs": [
    {
     "name": "stdout",
     "output_type": "stream",
     "text": [
      "RESTAURANTES E SIMILARES\n",
      "REPRESENTANTES COMERCIAIS E AGENTES DO COMÉRCIO DE MÁQUINAS, EQUIPAMENTOS, EMBARCAÇÕES E AERONAVES\n",
      "COMÉRCIO VAREJISTA DE EMBARCAÇÕES E OUTROS VEÍCULOS RECREATIVOS, PEÇAS E ACESSÓRIOS\n",
      "BARES E OUTROS ESTABELECIMENTOS ESPECIALIZADOS EM SERVIR BEBIDAS, SEM ENTRETENIMENTO\n",
      "BARES E OUTROS ESTABELECIMENTOS ESPECIALIZADOS EM SERVIR BEBIDAS, COM ENTRETENIMENTO \n",
      "FABRICAÇÃO DE ARTEFATOS DE CERÂMICA E BARRO COZIDO PARA USO NA CONSTRUÇÃO, EXCETO AZULEJOS E PISOS\n",
      "MANUTENÇÃO E REPARAÇÃO DE EMBARCAÇÕES PARA ESPORTE E LAZER\n",
      "CONSTRUÇÃO DE BARRAGENS E REPRESAS PARA GERAÇÃO DE ENERGIA ELÉTRICA\n"
     ]
    },
    {
     "data": {
      "text/html": [
       "<div>\n",
       "<style scoped>\n",
       "    .dataframe tbody tr th:only-of-type {\n",
       "        vertical-align: middle;\n",
       "    }\n",
       "\n",
       "    .dataframe tbody tr th {\n",
       "        vertical-align: top;\n",
       "    }\n",
       "\n",
       "    .dataframe thead th {\n",
       "        text-align: right;\n",
       "    }\n",
       "</style>\n",
       "<table border=\"1\" class=\"dataframe\">\n",
       "  <thead>\n",
       "    <tr style=\"text-align: right;\">\n",
       "      <th></th>\n",
       "      <th>CNAE_PRINCIPAL</th>\n",
       "      <th>DESCRICAO_CNAE_PRINCIPAL</th>\n",
       "    </tr>\n",
       "  </thead>\n",
       "  <tbody>\n",
       "    <tr>\n",
       "      <th>17</th>\n",
       "      <td>5611201.0</td>\n",
       "      <td>RESTAURANTES E SIMILARES</td>\n",
       "    </tr>\n",
       "    <tr>\n",
       "      <th>196</th>\n",
       "      <td>4614100.0</td>\n",
       "      <td>REPRESENTANTES COMERCIAIS E AGENTES DO COMÉRCI...</td>\n",
       "    </tr>\n",
       "    <tr>\n",
       "      <th>263</th>\n",
       "      <td>4763605.0</td>\n",
       "      <td>COMÉRCIO VAREJISTA DE EMBARCAÇÕES E OUTROS VEÍ...</td>\n",
       "    </tr>\n",
       "    <tr>\n",
       "      <th>679</th>\n",
       "      <td>5611204.0</td>\n",
       "      <td>BARES E OUTROS ESTABELECIMENTOS ESPECIALIZADOS...</td>\n",
       "    </tr>\n",
       "    <tr>\n",
       "      <th>3079</th>\n",
       "      <td>5611205.0</td>\n",
       "      <td>BARES E OUTROS ESTABELECIMENTOS ESPECIALIZADOS...</td>\n",
       "    </tr>\n",
       "    <tr>\n",
       "      <th>8921</th>\n",
       "      <td>2342702.0</td>\n",
       "      <td>FABRICAÇÃO DE ARTEFATOS DE CERÂMICA E BARRO CO...</td>\n",
       "    </tr>\n",
       "    <tr>\n",
       "      <th>17697</th>\n",
       "      <td>3317102.0</td>\n",
       "      <td>MANUTENÇÃO E REPARAÇÃO DE EMBARCAÇÕES PARA ESP...</td>\n",
       "    </tr>\n",
       "    <tr>\n",
       "      <th>43866</th>\n",
       "      <td>4221901.0</td>\n",
       "      <td>CONSTRUÇÃO DE BARRAGENS E REPRESAS PARA GERAÇÃ...</td>\n",
       "    </tr>\n",
       "  </tbody>\n",
       "</table>\n",
       "</div>"
      ],
      "text/plain": [
       "       CNAE_PRINCIPAL                           DESCRICAO_CNAE_PRINCIPAL\n",
       "17          5611201.0                           RESTAURANTES E SIMILARES\n",
       "196         4614100.0  REPRESENTANTES COMERCIAIS E AGENTES DO COMÉRCI...\n",
       "263         4763605.0  COMÉRCIO VAREJISTA DE EMBARCAÇÕES E OUTROS VEÍ...\n",
       "679         5611204.0  BARES E OUTROS ESTABELECIMENTOS ESPECIALIZADOS...\n",
       "3079        5611205.0  BARES E OUTROS ESTABELECIMENTOS ESPECIALIZADOS...\n",
       "8921        2342702.0  FABRICAÇÃO DE ARTEFATOS DE CERÂMICA E BARRO CO...\n",
       "17697       3317102.0  MANUTENÇÃO E REPARAÇÃO DE EMBARCAÇÕES PARA ESP...\n",
       "43866       4221901.0  CONSTRUÇÃO DE BARRAGENS E REPRESAS PARA GERAÇÃ..."
      ]
     },
     "execution_count": 4,
     "metadata": {},
     "output_type": "execute_result"
    }
   ],
   "source": [
    "filtered_table = df[['CNAE_PRINCIPAL', 'DESCRICAO_CNAE_PRINCIPAL']].drop_duplicates()\n",
    "filtered_table = filtered_table[filtered_table['DESCRICAO_CNAE_PRINCIPAL'].str.contains('|'.join(patterns), case=False, na=False)]\n",
    "\n",
    "for value in filtered_table['DESCRICAO_CNAE_PRINCIPAL']:\n",
    "    print(value)\n",
    "filtered_table"
   ]
  },
  {
   "cell_type": "code",
   "execution_count": 5,
   "id": "b25ea3af",
   "metadata": {},
   "outputs": [],
   "source": [
    "CNAES = [5611201, 5611204, 5611205]"
   ]
  },
  {
   "cell_type": "code",
   "execution_count": 7,
   "id": "bb8fc199",
   "metadata": {},
   "outputs": [
    {
     "data": {
      "text/plain": [
       "CNAE_PRINCIPAL\n",
       "5611201.0    8550\n",
       "5611204.0    3570\n",
       "5611205.0    1505\n",
       "Name: count, dtype: int64"
      ]
     },
     "execution_count": 7,
     "metadata": {},
     "output_type": "execute_result"
    }
   ],
   "source": [
    "filtered_df = df[df['CNAE_PRINCIPAL'].isin(CNAES)].copy()\n",
    "\n",
    "filtered_df['CNAE_PRINCIPAL'].value_counts()"
   ]
  },
  {
   "cell_type": "markdown",
   "id": "af0ccf52",
   "metadata": {},
   "source": [
    "## Formatação do Endereço"
   ]
  },
  {
   "cell_type": "code",
   "execution_count": 8,
   "id": "9869cf09",
   "metadata": {},
   "outputs": [
    {
     "data": {
      "text/html": [
       "<div>\n",
       "<style scoped>\n",
       "    .dataframe tbody tr th:only-of-type {\n",
       "        vertical-align: middle;\n",
       "    }\n",
       "\n",
       "    .dataframe tbody tr th {\n",
       "        vertical-align: top;\n",
       "    }\n",
       "\n",
       "    .dataframe thead th {\n",
       "        text-align: right;\n",
       "    }\n",
       "</style>\n",
       "<table border=\"1\" class=\"dataframe\">\n",
       "  <thead>\n",
       "    <tr style=\"text-align: right;\">\n",
       "      <th></th>\n",
       "      <th>ENDERECO_FORMATADO</th>\n",
       "    </tr>\n",
       "  </thead>\n",
       "  <tbody>\n",
       "    <tr>\n",
       "      <th>17</th>\n",
       "      <td>RUA DESEMBARGADOR REIS ALVES, 90, ANDAR: 2,</td>\n",
       "    </tr>\n",
       "    <tr>\n",
       "      <th>19</th>\n",
       "      <td>RUA LUIZ PONGELUPE, 290, C</td>\n",
       "    </tr>\n",
       "    <tr>\n",
       "      <th>29</th>\n",
       "      <td>AVE RESSACA, 118, LOJA 04</td>\n",
       "    </tr>\n",
       "    <tr>\n",
       "      <th>172</th>\n",
       "      <td>RUA DESEMBARGADOR RIBEIRO DA LUZ, 135</td>\n",
       "    </tr>\n",
       "    <tr>\n",
       "      <th>363</th>\n",
       "      <td>AVE CRISTIANO MACHADO, 1950, LOJA 36</td>\n",
       "    </tr>\n",
       "  </tbody>\n",
       "</table>\n",
       "</div>"
      ],
      "text/plain": [
       "                              ENDERECO_FORMATADO\n",
       "17   RUA DESEMBARGADOR REIS ALVES, 90, ANDAR: 2,\n",
       "19                    RUA LUIZ PONGELUPE, 290, C\n",
       "29                     AVE RESSACA, 118, LOJA 04\n",
       "172        RUA DESEMBARGADOR RIBEIRO DA LUZ, 135\n",
       "363         AVE CRISTIANO MACHADO, 1950, LOJA 36"
      ]
     },
     "execution_count": 8,
     "metadata": {},
     "output_type": "execute_result"
    }
   ],
   "source": [
    "filtered_df['ENDERECO_FORMATADO'] = (\n",
    "  filtered_df['DESC_LOGRADOURO'] + ' ' +\n",
    "  filtered_df['NOME_LOGRADOURO'] + ', ' +\n",
    "  filtered_df['NUMERO_IMOVEL'].astype(str) +\n",
    "  filtered_df['COMPLEMENTO'].apply(lambda x: f\", {x}\" if pd.notnull(x) else \"\")\n",
    ")\n",
    "\n",
    "filtered_df[['ENDERECO_FORMATADO']].head()"
   ]
  },
  {
   "cell_type": "markdown",
   "id": "2bd77f58",
   "metadata": {},
   "source": [
    "## Tabela Final"
   ]
  },
  {
   "cell_type": "code",
   "execution_count": 9,
   "id": "5282b716",
   "metadata": {},
   "outputs": [
    {
     "data": {
      "text/html": [
       "<div>\n",
       "<style scoped>\n",
       "    .dataframe tbody tr th:only-of-type {\n",
       "        vertical-align: middle;\n",
       "    }\n",
       "\n",
       "    .dataframe tbody tr th {\n",
       "        vertical-align: top;\n",
       "    }\n",
       "\n",
       "    .dataframe thead th {\n",
       "        text-align: right;\n",
       "    }\n",
       "</style>\n",
       "<table border=\"1\" class=\"dataframe\">\n",
       "  <thead>\n",
       "    <tr style=\"text-align: right;\">\n",
       "      <th></th>\n",
       "      <th>DATA_INICIO_ATIVIDADE</th>\n",
       "      <th>IND_POSSUI_ALVARA</th>\n",
       "      <th>ENDERECO_FORMATADO</th>\n",
       "      <th>NOME_FANTASIA</th>\n",
       "    </tr>\n",
       "  </thead>\n",
       "  <tbody>\n",
       "    <tr>\n",
       "      <th>19</th>\n",
       "      <td>15-10-1993</td>\n",
       "      <td>NÃO</td>\n",
       "      <td>RUA LUIZ PONGELUPE, 290, C</td>\n",
       "      <td>PIZZARIA E CHURRASCARIA VARANDA</td>\n",
       "    </tr>\n",
       "    <tr>\n",
       "      <th>29</th>\n",
       "      <td>02-05-1994</td>\n",
       "      <td>NÃO</td>\n",
       "      <td>AVE RESSACA, 118, LOJA 04</td>\n",
       "      <td>RABBIT BURGER</td>\n",
       "    </tr>\n",
       "    <tr>\n",
       "      <th>172</th>\n",
       "      <td>24-11-1993</td>\n",
       "      <td>SIM</td>\n",
       "      <td>RUA DESEMBARGADOR RIBEIRO DA LUZ, 135</td>\n",
       "      <td>TATU REI DO ANGU A  BAHIANA</td>\n",
       "    </tr>\n",
       "    <tr>\n",
       "      <th>363</th>\n",
       "      <td>01-10-1993</td>\n",
       "      <td>SIM</td>\n",
       "      <td>AVE CRISTIANO MACHADO, 1950, LOJA 36</td>\n",
       "      <td>ESPACO DA FEIJOADA</td>\n",
       "    </tr>\n",
       "    <tr>\n",
       "      <th>662</th>\n",
       "      <td>16-09-2011</td>\n",
       "      <td>SIM</td>\n",
       "      <td>RUA DOS OTONI, 222, LETRA: A,</td>\n",
       "      <td>RESTAURANTE NOVO SABOR</td>\n",
       "    </tr>\n",
       "  </tbody>\n",
       "</table>\n",
       "</div>"
      ],
      "text/plain": [
       "    DATA_INICIO_ATIVIDADE IND_POSSUI_ALVARA  \\\n",
       "19             15-10-1993               NÃO   \n",
       "29             02-05-1994               NÃO   \n",
       "172            24-11-1993               SIM   \n",
       "363            01-10-1993               SIM   \n",
       "662            16-09-2011               SIM   \n",
       "\n",
       "                        ENDERECO_FORMATADO                    NOME_FANTASIA  \n",
       "19              RUA LUIZ PONGELUPE, 290, C  PIZZARIA E CHURRASCARIA VARANDA  \n",
       "29               AVE RESSACA, 118, LOJA 04                    RABBIT BURGER  \n",
       "172  RUA DESEMBARGADOR RIBEIRO DA LUZ, 135      TATU REI DO ANGU A  BAHIANA  \n",
       "363   AVE CRISTIANO MACHADO, 1950, LOJA 36               ESPACO DA FEIJOADA  \n",
       "662          RUA DOS OTONI, 222, LETRA: A,           RESTAURANTE NOVO SABOR  "
      ]
     },
     "execution_count": 9,
     "metadata": {},
     "output_type": "execute_result"
    }
   ],
   "source": [
    "filtered_table = filtered_df[['DATA_INICIO_ATIVIDADE', 'IND_POSSUI_ALVARA', 'ENDERECO_FORMATADO', 'NOME_FANTASIA']].drop_duplicates()\n",
    "\n",
    "filtered_table = filtered_table[filtered_table['NOME_FANTASIA'].notna()]\n",
    "\n",
    "filtered_table.head()"
   ]
  }
 ],
 "metadata": {
  "kernelspec": {
   "display_name": "Python 3 (ipykernel)",
   "language": "python",
   "name": "python3"
  },
  "language_info": {
   "codemirror_mode": {
    "name": "ipython",
    "version": 3
   },
   "file_extension": ".py",
   "mimetype": "text/x-python",
   "name": "python",
   "nbconvert_exporter": "python",
   "pygments_lexer": "ipython3",
   "version": "3.11.2"
  }
 },
 "nbformat": 4,
 "nbformat_minor": 5
}
