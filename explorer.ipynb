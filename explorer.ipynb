{
 "cells": [
  {
   "cell_type": "markdown",
   "id": "c817a9a6",
   "metadata": {},
   "source": [
    "# Pré processamento dos dados\n",
    "\n",
    "- [Link dos dados](https://ckan.pbh.gov.br/dataset/ec3efaac-0ca6-4846-9e32-0ffff2d76dbb/resource/4189b28e-7592-474b-8160-e39731315c27/download/20250401_atividade_economica.csv)\n",
    "- baixar o csv e colocar na pasta `./data`"
   ]
  },
  {
   "cell_type": "code",
   "execution_count": 1,
   "id": "31002da5",
   "metadata": {},
   "outputs": [],
   "source": [
    "import pandas as pd\n",
    "import re"
   ]
  },
  {
   "cell_type": "code",
   "execution_count": 10,
   "id": "23c11565",
   "metadata": {},
   "outputs": [],
   "source": [
    "file_path = 'data/20250401_atividade_economica.csv'\n",
    "df = pd.read_csv(file_path, sep=';')"
   ]
  },
  {
   "cell_type": "code",
   "execution_count": 11,
   "id": "33308a53-9f81-4d98-82e9-273216b7a58f",
   "metadata": {},
   "outputs": [
    {
     "data": {
      "text/html": [
       "<div>\n",
       "<style scoped>\n",
       "    .dataframe tbody tr th:only-of-type {\n",
       "        vertical-align: middle;\n",
       "    }\n",
       "\n",
       "    .dataframe tbody tr th {\n",
       "        vertical-align: top;\n",
       "    }\n",
       "\n",
       "    .dataframe thead th {\n",
       "        text-align: right;\n",
       "    }\n",
       "</style>\n",
       "<table border=\"1\" class=\"dataframe\">\n",
       "  <thead>\n",
       "    <tr style=\"text-align: right;\">\n",
       "      <th></th>\n",
       "      <th>ID_ATIV_ECON_ESTABELECIMENTO</th>\n",
       "      <th>CNAE_PRINCIPAL</th>\n",
       "      <th>DESCRICAO_CNAE_PRINCIPAL</th>\n",
       "      <th>CNAE</th>\n",
       "      <th>DATA_INICIO_ATIVIDADE</th>\n",
       "      <th>NATUREZA_JURIDICA</th>\n",
       "      <th>PORTE_EMPRESA</th>\n",
       "      <th>AREA_UTILIZADA</th>\n",
       "      <th>IND_SIMPLES</th>\n",
       "      <th>IND_MEI</th>\n",
       "      <th>...</th>\n",
       "      <th>FORMA_ATUACAO</th>\n",
       "      <th>DESC_LOGRADOURO</th>\n",
       "      <th>NOME_LOGRADOURO</th>\n",
       "      <th>NUMERO_IMOVEL</th>\n",
       "      <th>COMPLEMENTO</th>\n",
       "      <th>NOME_BAIRRO</th>\n",
       "      <th>NOME</th>\n",
       "      <th>NOME_FANTASIA</th>\n",
       "      <th>CNPJ</th>\n",
       "      <th>GEOMETRIA</th>\n",
       "    </tr>\n",
       "  </thead>\n",
       "  <tbody>\n",
       "    <tr>\n",
       "      <th>0</th>\n",
       "      <td>1006</td>\n",
       "      <td>9521500.0</td>\n",
       "      <td>REPARAÇÃO E MANUTENÇÃO DE EQUIPAMENTOS ELETROE...</td>\n",
       "      <td>3314707, 4322302, 4649404, 4651601, 4669999, 4...</td>\n",
       "      <td>19-04-1994</td>\n",
       "      <td>SOCIEDADE EMPRESÁRIA LIMITADA</td>\n",
       "      <td>EMPRESA DE PEQUENO PORTE</td>\n",
       "      <td>407.0</td>\n",
       "      <td>S</td>\n",
       "      <td>N</td>\n",
       "      <td>...</td>\n",
       "      <td>ESTABELECIMENTO FIXO</td>\n",
       "      <td>RUA</td>\n",
       "      <td>NIQUELINA</td>\n",
       "      <td>874</td>\n",
       "      <td>GALPAO,</td>\n",
       "      <td>SANTA EFIGENIA</td>\n",
       "      <td>ORLANDO SERVICE LTDA</td>\n",
       "      <td>NaN</td>\n",
       "      <td>97502553000184</td>\n",
       "      <td>POINT (613854.46 7797085.18)</td>\n",
       "    </tr>\n",
       "    <tr>\n",
       "      <th>1</th>\n",
       "      <td>1007</td>\n",
       "      <td>4755502.0</td>\n",
       "      <td>COMERCIO VAREJISTA DE ARTIGOS DE ARMARINHO</td>\n",
       "      <td>4755502, 8599604</td>\n",
       "      <td>12-04-1993</td>\n",
       "      <td>SOCIEDADE EMPRESÁRIA LIMITADA</td>\n",
       "      <td>MICROEMPRESA - ME</td>\n",
       "      <td>20.0</td>\n",
       "      <td>S</td>\n",
       "      <td>N</td>\n",
       "      <td>...</td>\n",
       "      <td>ESTABELECIMENTO FIXO</td>\n",
       "      <td>RUA</td>\n",
       "      <td>DOS GUAJAJARAS</td>\n",
       "      <td>910</td>\n",
       "      <td>SALA 612</td>\n",
       "      <td>CENTRO</td>\n",
       "      <td>TARGET LTDA</td>\n",
       "      <td>NaN</td>\n",
       "      <td>70950258000134</td>\n",
       "      <td>POINT (610658.10 7796519.70)</td>\n",
       "    </tr>\n",
       "    <tr>\n",
       "      <th>2</th>\n",
       "      <td>1008</td>\n",
       "      <td>4520001.0</td>\n",
       "      <td>SERVIÇOS DE MANUTENÇÃO E REPARAÇÃO MECÂNICA DE...</td>\n",
       "      <td>4520001, 4520003, 4530703</td>\n",
       "      <td>16-11-1993</td>\n",
       "      <td>SOCIEDADE EMPRESÁRIA LIMITADA</td>\n",
       "      <td>MICROEMPRESA - ME</td>\n",
       "      <td>260.0</td>\n",
       "      <td>S</td>\n",
       "      <td>N</td>\n",
       "      <td>...</td>\n",
       "      <td>ESTABELECIMENTO FIXO</td>\n",
       "      <td>RUA</td>\n",
       "      <td>CONSELHEIRO LAFAIETE</td>\n",
       "      <td>284</td>\n",
       "      <td>NaN</td>\n",
       "      <td>SAGRADA FAMILIA</td>\n",
       "      <td>HUDSON CAR LTDA</td>\n",
       "      <td>HUDSON CAR</td>\n",
       "      <td>731235000153</td>\n",
       "      <td>POINT (612523.34 7798131.15)</td>\n",
       "    </tr>\n",
       "    <tr>\n",
       "      <th>3</th>\n",
       "      <td>1009</td>\n",
       "      <td>4616800.0</td>\n",
       "      <td>REPRESENTANTES COMERCIAIS E AGENTES DO COMÉRCI...</td>\n",
       "      <td>4616800</td>\n",
       "      <td>16-11-1992</td>\n",
       "      <td>SOCIEDADE EMPRESÁRIA LIMITADA</td>\n",
       "      <td>EMPRESA DE PEQUENO PORTE</td>\n",
       "      <td>1300.0</td>\n",
       "      <td>S</td>\n",
       "      <td>N</td>\n",
       "      <td>...</td>\n",
       "      <td>ESTABELECIMENTO FIXO</td>\n",
       "      <td>RUA</td>\n",
       "      <td>DOS TIMBIRAS</td>\n",
       "      <td>2352</td>\n",
       "      <td>SALA 01</td>\n",
       "      <td>LOURDES</td>\n",
       "      <td>SILHUETA REPRESENTACAO DE ROUPAS LTDA</td>\n",
       "      <td>GARMENT</td>\n",
       "      <td>68519362000127</td>\n",
       "      <td>POINT (610394.12 7796444.35)</td>\n",
       "    </tr>\n",
       "    <tr>\n",
       "      <th>4</th>\n",
       "      <td>1010</td>\n",
       "      <td>5822101.0</td>\n",
       "      <td>EDIÇÃO INTEGRADA À IMPRESSÃO DE JORNAIS DIÁRIOS</td>\n",
       "      <td>5822101</td>\n",
       "      <td>01-06-1993</td>\n",
       "      <td>SOCIEDADE EMPRESÁRIA LIMITADA</td>\n",
       "      <td>MICROEMPRESA - ME</td>\n",
       "      <td>30.0</td>\n",
       "      <td>N</td>\n",
       "      <td>N</td>\n",
       "      <td>...</td>\n",
       "      <td>ESTABELECIMENTO FIXO</td>\n",
       "      <td>RUA</td>\n",
       "      <td>SAO FELICIANO</td>\n",
       "      <td>73</td>\n",
       "      <td>NaN</td>\n",
       "      <td>CAICARAS</td>\n",
       "      <td>JORNAL CAICARAS LTDA</td>\n",
       "      <td>NaN</td>\n",
       "      <td>71078968000189</td>\n",
       "      <td>POINT (607875.47 7799877.16)</td>\n",
       "    </tr>\n",
       "  </tbody>\n",
       "</table>\n",
       "<p>5 rows × 22 columns</p>\n",
       "</div>"
      ],
      "text/plain": [
       "   ID_ATIV_ECON_ESTABELECIMENTO  CNAE_PRINCIPAL  \\\n",
       "0                          1006       9521500.0   \n",
       "1                          1007       4755502.0   \n",
       "2                          1008       4520001.0   \n",
       "3                          1009       4616800.0   \n",
       "4                          1010       5822101.0   \n",
       "\n",
       "                            DESCRICAO_CNAE_PRINCIPAL  \\\n",
       "0  REPARAÇÃO E MANUTENÇÃO DE EQUIPAMENTOS ELETROE...   \n",
       "1         COMERCIO VAREJISTA DE ARTIGOS DE ARMARINHO   \n",
       "2  SERVIÇOS DE MANUTENÇÃO E REPARAÇÃO MECÂNICA DE...   \n",
       "3  REPRESENTANTES COMERCIAIS E AGENTES DO COMÉRCI...   \n",
       "4    EDIÇÃO INTEGRADA À IMPRESSÃO DE JORNAIS DIÁRIOS   \n",
       "\n",
       "                                                CNAE DATA_INICIO_ATIVIDADE  \\\n",
       "0  3314707, 4322302, 4649404, 4651601, 4669999, 4...            19-04-1994   \n",
       "1                                   4755502, 8599604            12-04-1993   \n",
       "2                          4520001, 4520003, 4530703            16-11-1993   \n",
       "3                                            4616800            16-11-1992   \n",
       "4                                            5822101            01-06-1993   \n",
       "\n",
       "               NATUREZA_JURIDICA             PORTE_EMPRESA  AREA_UTILIZADA  \\\n",
       "0  SOCIEDADE EMPRESÁRIA LIMITADA  EMPRESA DE PEQUENO PORTE           407.0   \n",
       "1  SOCIEDADE EMPRESÁRIA LIMITADA         MICROEMPRESA - ME            20.0   \n",
       "2  SOCIEDADE EMPRESÁRIA LIMITADA         MICROEMPRESA - ME           260.0   \n",
       "3  SOCIEDADE EMPRESÁRIA LIMITADA  EMPRESA DE PEQUENO PORTE          1300.0   \n",
       "4  SOCIEDADE EMPRESÁRIA LIMITADA         MICROEMPRESA - ME            30.0   \n",
       "\n",
       "  IND_SIMPLES IND_MEI  ...         FORMA_ATUACAO DESC_LOGRADOURO  \\\n",
       "0           S       N  ...  ESTABELECIMENTO FIXO             RUA   \n",
       "1           S       N  ...  ESTABELECIMENTO FIXO             RUA   \n",
       "2           S       N  ...  ESTABELECIMENTO FIXO             RUA   \n",
       "3           S       N  ...  ESTABELECIMENTO FIXO             RUA   \n",
       "4           N       N  ...  ESTABELECIMENTO FIXO             RUA   \n",
       "\n",
       "        NOME_LOGRADOURO NUMERO_IMOVEL COMPLEMENTO      NOME_BAIRRO  \\\n",
       "0             NIQUELINA           874     GALPAO,   SANTA EFIGENIA   \n",
       "1        DOS GUAJAJARAS           910    SALA 612           CENTRO   \n",
       "2  CONSELHEIRO LAFAIETE           284         NaN  SAGRADA FAMILIA   \n",
       "3          DOS TIMBIRAS          2352     SALA 01          LOURDES   \n",
       "4         SAO FELICIANO            73         NaN         CAICARAS   \n",
       "\n",
       "                                    NOME NOME_FANTASIA            CNPJ  \\\n",
       "0                   ORLANDO SERVICE LTDA           NaN  97502553000184   \n",
       "1                            TARGET LTDA           NaN  70950258000134   \n",
       "2                        HUDSON CAR LTDA    HUDSON CAR    731235000153   \n",
       "3  SILHUETA REPRESENTACAO DE ROUPAS LTDA       GARMENT  68519362000127   \n",
       "4                   JORNAL CAICARAS LTDA           NaN  71078968000189   \n",
       "\n",
       "                      GEOMETRIA  \n",
       "0  POINT (613854.46 7797085.18)  \n",
       "1  POINT (610658.10 7796519.70)  \n",
       "2  POINT (612523.34 7798131.15)  \n",
       "3  POINT (610394.12 7796444.35)  \n",
       "4  POINT (607875.47 7799877.16)  \n",
       "\n",
       "[5 rows x 22 columns]"
      ]
     },
     "execution_count": 11,
     "metadata": {},
     "output_type": "execute_result"
    }
   ],
   "source": [
    "df.head()"
   ]
  },
  {
   "cell_type": "markdown",
   "id": "60f00bc4",
   "metadata": {},
   "source": [
    "## Filtragem por bares e restaurantes"
   ]
  },
  {
   "cell_type": "code",
   "execution_count": 3,
   "id": "bd0d59b0",
   "metadata": {},
   "outputs": [],
   "source": [
    "words = ['bar', 'bares', 'restaurante', 'restaurantes']"
   ]
  },
  {
   "cell_type": "markdown",
   "id": "4cc9c895-d51e-471e-8939-eae537bdf3bb",
   "metadata": {},
   "source": [
    "Constrói a expressão regex que da match em qualquer uma das palavras, se ela aparecer como uma palavra separada por espaços ou pontuações das outras:"
   ]
  },
  {
   "cell_type": "code",
   "execution_count": 4,
   "id": "bb54bf1a-b2e5-4b79-b7ca-ee8ded67ea81",
   "metadata": {},
   "outputs": [
    {
     "data": {
      "text/plain": [
       "'\\\\b(?:bar|bares|restaurante|restaurantes)\\\\b'"
      ]
     },
     "execution_count": 4,
     "metadata": {},
     "output_type": "execute_result"
    }
   ],
   "source": [
    "pattern = r'\\b(?:' + '|'.join(re.escape(word) for word in words) + r')\\b'\n",
    "pattern"
   ]
  },
  {
   "cell_type": "code",
   "execution_count": 5,
   "id": "30095951",
   "metadata": {},
   "outputs": [
    {
     "name": "stdout",
     "output_type": "stream",
     "text": [
      "RESTAURANTES E SIMILARES\n",
      "BARES E OUTROS ESTABELECIMENTOS ESPECIALIZADOS EM SERVIR BEBIDAS, SEM ENTRETENIMENTO\n",
      "BARES E OUTROS ESTABELECIMENTOS ESPECIALIZADOS EM SERVIR BEBIDAS, COM ENTRETENIMENTO \n"
     ]
    },
    {
     "data": {
      "text/html": [
       "<div>\n",
       "<style scoped>\n",
       "    .dataframe tbody tr th:only-of-type {\n",
       "        vertical-align: middle;\n",
       "    }\n",
       "\n",
       "    .dataframe tbody tr th {\n",
       "        vertical-align: top;\n",
       "    }\n",
       "\n",
       "    .dataframe thead th {\n",
       "        text-align: right;\n",
       "    }\n",
       "</style>\n",
       "<table border=\"1\" class=\"dataframe\">\n",
       "  <thead>\n",
       "    <tr style=\"text-align: right;\">\n",
       "      <th></th>\n",
       "      <th>CNAE_PRINCIPAL</th>\n",
       "      <th>DESCRICAO_CNAE_PRINCIPAL</th>\n",
       "    </tr>\n",
       "  </thead>\n",
       "  <tbody>\n",
       "    <tr>\n",
       "      <th>17</th>\n",
       "      <td>5611201.0</td>\n",
       "      <td>RESTAURANTES E SIMILARES</td>\n",
       "    </tr>\n",
       "    <tr>\n",
       "      <th>679</th>\n",
       "      <td>5611204.0</td>\n",
       "      <td>BARES E OUTROS ESTABELECIMENTOS ESPECIALIZADOS...</td>\n",
       "    </tr>\n",
       "    <tr>\n",
       "      <th>3079</th>\n",
       "      <td>5611205.0</td>\n",
       "      <td>BARES E OUTROS ESTABELECIMENTOS ESPECIALIZADOS...</td>\n",
       "    </tr>\n",
       "  </tbody>\n",
       "</table>\n",
       "</div>"
      ],
      "text/plain": [
       "      CNAE_PRINCIPAL                           DESCRICAO_CNAE_PRINCIPAL\n",
       "17         5611201.0                           RESTAURANTES E SIMILARES\n",
       "679        5611204.0  BARES E OUTROS ESTABELECIMENTOS ESPECIALIZADOS...\n",
       "3079       5611205.0  BARES E OUTROS ESTABELECIMENTOS ESPECIALIZADOS..."
      ]
     },
     "execution_count": 5,
     "metadata": {},
     "output_type": "execute_result"
    }
   ],
   "source": [
    "filtered_table = df[['CNAE_PRINCIPAL', 'DESCRICAO_CNAE_PRINCIPAL']].drop_duplicates()\n",
    "filtered_table = filtered_table[filtered_table['DESCRICAO_CNAE_PRINCIPAL'].str.contains(pattern, case=False, na=False)]\n",
    "\n",
    "for value in filtered_table['DESCRICAO_CNAE_PRINCIPAL']:\n",
    "    print(value)\n",
    "filtered_table"
   ]
  },
  {
   "cell_type": "code",
   "execution_count": 6,
   "id": "b25ea3af",
   "metadata": {},
   "outputs": [
    {
     "data": {
      "text/plain": [
       "[5611201, 5611204, 5611205]"
      ]
     },
     "execution_count": 6,
     "metadata": {},
     "output_type": "execute_result"
    }
   ],
   "source": [
    "CNAES = [int(cnae) for cnae in filtered_table['CNAE_PRINCIPAL']]\n",
    "CNAES"
   ]
  },
  {
   "cell_type": "code",
   "execution_count": 7,
   "id": "bb8fc199",
   "metadata": {},
   "outputs": [
    {
     "data": {
      "text/plain": [
       "CNAE_PRINCIPAL\n",
       "5611201.0    8550\n",
       "5611204.0    3570\n",
       "5611205.0    1505\n",
       "Name: count, dtype: int64"
      ]
     },
     "execution_count": 7,
     "metadata": {},
     "output_type": "execute_result"
    }
   ],
   "source": [
    "filtered_df = df[df['CNAE_PRINCIPAL'].isin(CNAES)].copy()\n",
    "\n",
    "filtered_df['CNAE_PRINCIPAL'].value_counts()"
   ]
  },
  {
   "cell_type": "markdown",
   "id": "af0ccf52",
   "metadata": {},
   "source": [
    "## Formatação do Endereço"
   ]
  },
  {
   "cell_type": "code",
   "execution_count": 8,
   "id": "9869cf09",
   "metadata": {},
   "outputs": [
    {
     "data": {
      "text/html": [
       "<div>\n",
       "<style scoped>\n",
       "    .dataframe tbody tr th:only-of-type {\n",
       "        vertical-align: middle;\n",
       "    }\n",
       "\n",
       "    .dataframe tbody tr th {\n",
       "        vertical-align: top;\n",
       "    }\n",
       "\n",
       "    .dataframe thead th {\n",
       "        text-align: right;\n",
       "    }\n",
       "</style>\n",
       "<table border=\"1\" class=\"dataframe\">\n",
       "  <thead>\n",
       "    <tr style=\"text-align: right;\">\n",
       "      <th></th>\n",
       "      <th>ENDERECO_FORMATADO</th>\n",
       "    </tr>\n",
       "  </thead>\n",
       "  <tbody>\n",
       "    <tr>\n",
       "      <th>17</th>\n",
       "      <td>RUA DESEMBARGADOR REIS ALVES, 90, ANDAR: 2,</td>\n",
       "    </tr>\n",
       "    <tr>\n",
       "      <th>19</th>\n",
       "      <td>RUA LUIZ PONGELUPE, 290, C</td>\n",
       "    </tr>\n",
       "    <tr>\n",
       "      <th>29</th>\n",
       "      <td>AVE RESSACA, 118, LOJA 04</td>\n",
       "    </tr>\n",
       "    <tr>\n",
       "      <th>172</th>\n",
       "      <td>RUA DESEMBARGADOR RIBEIRO DA LUZ, 135</td>\n",
       "    </tr>\n",
       "    <tr>\n",
       "      <th>363</th>\n",
       "      <td>AVE CRISTIANO MACHADO, 1950, LOJA 36</td>\n",
       "    </tr>\n",
       "  </tbody>\n",
       "</table>\n",
       "</div>"
      ],
      "text/plain": [
       "                              ENDERECO_FORMATADO\n",
       "17   RUA DESEMBARGADOR REIS ALVES, 90, ANDAR: 2,\n",
       "19                    RUA LUIZ PONGELUPE, 290, C\n",
       "29                     AVE RESSACA, 118, LOJA 04\n",
       "172        RUA DESEMBARGADOR RIBEIRO DA LUZ, 135\n",
       "363         AVE CRISTIANO MACHADO, 1950, LOJA 36"
      ]
     },
     "execution_count": 8,
     "metadata": {},
     "output_type": "execute_result"
    }
   ],
   "source": [
    "filtered_df['ENDERECO_FORMATADO'] = (\n",
    "  filtered_df['DESC_LOGRADOURO'] + ' ' +\n",
    "  filtered_df['NOME_LOGRADOURO'] + ', ' +\n",
    "  filtered_df['NUMERO_IMOVEL'].astype(str) +\n",
    "  filtered_df['COMPLEMENTO'].apply(lambda x: f\", {x}\" if pd.notnull(x) else \"\")\n",
    ")\n",
    "\n",
    "filtered_df[['ENDERECO_FORMATADO']].head()"
   ]
  },
  {
   "cell_type": "markdown",
   "id": "2bd77f58",
   "metadata": {},
   "source": [
    "## Tabela Final"
   ]
  },
  {
   "cell_type": "code",
   "execution_count": 9,
   "id": "5282b716",
   "metadata": {},
   "outputs": [
    {
     "data": {
      "text/html": [
       "<div>\n",
       "<style scoped>\n",
       "    .dataframe tbody tr th:only-of-type {\n",
       "        vertical-align: middle;\n",
       "    }\n",
       "\n",
       "    .dataframe tbody tr th {\n",
       "        vertical-align: top;\n",
       "    }\n",
       "\n",
       "    .dataframe thead th {\n",
       "        text-align: right;\n",
       "    }\n",
       "</style>\n",
       "<table border=\"1\" class=\"dataframe\">\n",
       "  <thead>\n",
       "    <tr style=\"text-align: right;\">\n",
       "      <th></th>\n",
       "      <th>DATA_INICIO_ATIVIDADE</th>\n",
       "      <th>IND_POSSUI_ALVARA</th>\n",
       "      <th>ENDERECO_FORMATADO</th>\n",
       "      <th>NOME_FANTASIA</th>\n",
       "    </tr>\n",
       "  </thead>\n",
       "  <tbody>\n",
       "    <tr>\n",
       "      <th>19</th>\n",
       "      <td>15-10-1993</td>\n",
       "      <td>NÃO</td>\n",
       "      <td>RUA LUIZ PONGELUPE, 290, C</td>\n",
       "      <td>PIZZARIA E CHURRASCARIA VARANDA</td>\n",
       "    </tr>\n",
       "    <tr>\n",
       "      <th>29</th>\n",
       "      <td>02-05-1994</td>\n",
       "      <td>NÃO</td>\n",
       "      <td>AVE RESSACA, 118, LOJA 04</td>\n",
       "      <td>RABBIT BURGER</td>\n",
       "    </tr>\n",
       "    <tr>\n",
       "      <th>172</th>\n",
       "      <td>24-11-1993</td>\n",
       "      <td>SIM</td>\n",
       "      <td>RUA DESEMBARGADOR RIBEIRO DA LUZ, 135</td>\n",
       "      <td>TATU REI DO ANGU A  BAHIANA</td>\n",
       "    </tr>\n",
       "    <tr>\n",
       "      <th>363</th>\n",
       "      <td>01-10-1993</td>\n",
       "      <td>SIM</td>\n",
       "      <td>AVE CRISTIANO MACHADO, 1950, LOJA 36</td>\n",
       "      <td>ESPACO DA FEIJOADA</td>\n",
       "    </tr>\n",
       "    <tr>\n",
       "      <th>662</th>\n",
       "      <td>16-09-2011</td>\n",
       "      <td>SIM</td>\n",
       "      <td>RUA DOS OTONI, 222, LETRA: A,</td>\n",
       "      <td>RESTAURANTE NOVO SABOR</td>\n",
       "    </tr>\n",
       "  </tbody>\n",
       "</table>\n",
       "</div>"
      ],
      "text/plain": [
       "    DATA_INICIO_ATIVIDADE IND_POSSUI_ALVARA  \\\n",
       "19             15-10-1993               NÃO   \n",
       "29             02-05-1994               NÃO   \n",
       "172            24-11-1993               SIM   \n",
       "363            01-10-1993               SIM   \n",
       "662            16-09-2011               SIM   \n",
       "\n",
       "                        ENDERECO_FORMATADO                    NOME_FANTASIA  \n",
       "19              RUA LUIZ PONGELUPE, 290, C  PIZZARIA E CHURRASCARIA VARANDA  \n",
       "29               AVE RESSACA, 118, LOJA 04                    RABBIT BURGER  \n",
       "172  RUA DESEMBARGADOR RIBEIRO DA LUZ, 135      TATU REI DO ANGU A  BAHIANA  \n",
       "363   AVE CRISTIANO MACHADO, 1950, LOJA 36               ESPACO DA FEIJOADA  \n",
       "662          RUA DOS OTONI, 222, LETRA: A,           RESTAURANTE NOVO SABOR  "
      ]
     },
     "execution_count": 9,
     "metadata": {},
     "output_type": "execute_result"
    }
   ],
   "source": [
    "filtered_table = filtered_df[['DATA_INICIO_ATIVIDADE', 'IND_POSSUI_ALVARA', 'ENDERECO_FORMATADO', 'NOME_FANTASIA']].drop_duplicates()\n",
    "\n",
    "filtered_table = filtered_table[filtered_table['NOME_FANTASIA'].notna()]\n",
    "\n",
    "filtered_table.head()"
   ]
  },
  {
   "cell_type": "code",
   "execution_count": 14,
   "id": "224becee-4410-4bd5-8595-cedd39398d08",
   "metadata": {},
   "outputs": [
    {
     "data": {
      "text/plain": [
       "(8663, 4)"
      ]
     },
     "execution_count": 14,
     "metadata": {},
     "output_type": "execute_result"
    }
   ],
   "source": [
    "filtered_table.shape"
   ]
  },
  {
   "cell_type": "code",
   "execution_count": 12,
   "id": "7b95e6f5-54a9-46b9-81d7-5f2a907a9950",
   "metadata": {},
   "outputs": [],
   "source": [
    "filtered_table.to_csv('data/dados.csv', index=False)"
   ]
  }
 ],
 "metadata": {
  "kernelspec": {
   "display_name": "Python 3 (ipykernel)",
   "language": "python",
   "name": "python3"
  },
  "language_info": {
   "codemirror_mode": {
    "name": "ipython",
    "version": 3
   },
   "file_extension": ".py",
   "mimetype": "text/x-python",
   "name": "python",
   "nbconvert_exporter": "python",
   "pygments_lexer": "ipython3",
   "version": "3.13.3"
  }
 },
 "nbformat": 4,
 "nbformat_minor": 5
}
