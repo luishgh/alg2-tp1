{
 "cells": [
  {
   "cell_type": "markdown",
   "id": "4253df73",
   "metadata": {},
   "source": [
    "# Notebook de Preprocessamento"
   ]
  },
  {
   "cell_type": "markdown",
   "id": "c817a9a6",
   "metadata": {},
   "source": [
    "# Pré processamento dos dados"
   ]
  },
  {
   "cell_type": "markdown",
   "id": "cff468f7",
   "metadata": {},
   "source": [
    "## Download da base de dados da PBH: \n",
    "\n",
    "Nesta sessão você vai baixar a base de dados da PBH e salvar em um arquivo CSV.\n",
    "\n",
    "você pode fazer manualmente ou via código:\n",
    "\n",
    "\n",
    "\n",
    "### Download manual\n",
    "\n",
    "- [Link dos dados](https://ckan.pbh.gov.br/dataset/ec3efaac-0ca6-4846-9e32-0ffff2d76dbb/resource/4189b28e-7592-474b-8160-e39731315c27/download/20250401_atividade_economica.csv)\n",
    "- baixar o csv e colocar na pasta `./data` com o nome de  `20250401_atividade_economica.csv`\n",
    "\n",
    "### Download via código\n",
    "\n",
    "Execute a próxima célula para baixar o arquivo CSV diretamente do CKAN da PBH e salvá-lo na pasta `./data`, com o nome de `20250401_atividade_economica.csv`."
   ]
  },
  {
   "cell_type": "code",
   "execution_count": 1,
   "id": "a1d9d7bd",
   "metadata": {},
   "outputs": [
    {
     "name": "stdout",
     "output_type": "stream",
     "text": [
      "--2025-06-08 17:28:38--  https://ckan.pbh.gov.br/dataset/ec3efaac-0ca6-4846-9e32-0ffff2d76dbb/resource/4189b28e-7592-474b-8160-e39731315c27/download/20250401_atividade_economica.csv\n",
      "Resolving ckan.pbh.gov.br (ckan.pbh.gov.br)... 170.82.174.5, 170.82.173.5\n",
      "Connecting to ckan.pbh.gov.br (ckan.pbh.gov.br)|170.82.174.5|:443... connected.\n",
      "HTTP request sent, awaiting response... 200 OK\n",
      "Length: 184789294 (176M) [text/csv]\n",
      "Saving to: ‘./data/20250401_atividade_economica.csv’\n",
      "\n",
      "./data/20250401_ati 100%[===================>] 176.23M  29.3MB/s    in 10s     \n",
      "\n",
      "2025-06-08 17:28:49 (17.6 MB/s) - ‘./data/20250401_atividade_economica.csv’ saved [184789294/184789294]\n",
      "\n"
     ]
    }
   ],
   "source": [
    "!wget --user-agent=\"Mozilla/5.0\" -O \"./data/20250401_atividade_economica.csv\" \"https://ckan.pbh.gov.br/dataset/ec3efaac-0ca6-4846-9e32-0ffff2d76dbb/resource/4189b28e-7592-474b-8160-e39731315c27/download/20250401_atividade_economica.csv\""
   ]
  },
  {
   "cell_type": "markdown",
   "id": "a12fbc71",
   "metadata": {},
   "source": [
    "## Import das Bibliotecas \n",
    "\n",
    "\n",
    "Para executar o notebook execute os imports das bibliotecas na célula abaixo.\n",
    "\n",
    "Caso alguma não esteja instalada, execute o comando `pip install -R requirements.txt`,  assim você irá instalar todas as dependências necessárias."
   ]
  },
  {
   "cell_type": "code",
   "execution_count": 2,
   "id": "31002da5",
   "metadata": {},
   "outputs": [],
   "source": [
    "from tqdm import tqdm\n",
    "import pandas as pd\n",
    "import re\n",
    "\n",
    "\n",
    "from lib.utils import salvar_pkl\n",
    "from lib.utils import normalize_name\n",
    "from lib.utils import ler_pkl\n",
    "from lib.geoinfo import geocode_single_address"
   ]
  },
  {
   "cell_type": "markdown",
   "id": "27b38a8b",
   "metadata": {},
   "source": [
    "## Leutura dos dados "
   ]
  },
  {
   "cell_type": "code",
   "execution_count": 3,
   "id": "23c11565",
   "metadata": {},
   "outputs": [
    {
     "data": {
      "text/html": [
       "<div>\n",
       "<style scoped>\n",
       "    .dataframe tbody tr th:only-of-type {\n",
       "        vertical-align: middle;\n",
       "    }\n",
       "\n",
       "    .dataframe tbody tr th {\n",
       "        vertical-align: top;\n",
       "    }\n",
       "\n",
       "    .dataframe thead th {\n",
       "        text-align: right;\n",
       "    }\n",
       "</style>\n",
       "<table border=\"1\" class=\"dataframe\">\n",
       "  <thead>\n",
       "    <tr style=\"text-align: right;\">\n",
       "      <th></th>\n",
       "      <th>ID_ATIV_ECON_ESTABELECIMENTO</th>\n",
       "      <th>CNAE_PRINCIPAL</th>\n",
       "      <th>DESCRICAO_CNAE_PRINCIPAL</th>\n",
       "      <th>CNAE</th>\n",
       "      <th>DATA_INICIO_ATIVIDADE</th>\n",
       "      <th>NATUREZA_JURIDICA</th>\n",
       "      <th>PORTE_EMPRESA</th>\n",
       "      <th>AREA_UTILIZADA</th>\n",
       "      <th>IND_SIMPLES</th>\n",
       "      <th>IND_MEI</th>\n",
       "      <th>...</th>\n",
       "      <th>FORMA_ATUACAO</th>\n",
       "      <th>DESC_LOGRADOURO</th>\n",
       "      <th>NOME_LOGRADOURO</th>\n",
       "      <th>NUMERO_IMOVEL</th>\n",
       "      <th>COMPLEMENTO</th>\n",
       "      <th>NOME_BAIRRO</th>\n",
       "      <th>NOME</th>\n",
       "      <th>NOME_FANTASIA</th>\n",
       "      <th>CNPJ</th>\n",
       "      <th>GEOMETRIA</th>\n",
       "    </tr>\n",
       "  </thead>\n",
       "  <tbody>\n",
       "    <tr>\n",
       "      <th>0</th>\n",
       "      <td>1006</td>\n",
       "      <td>9521500.0</td>\n",
       "      <td>REPARAÇÃO E MANUTENÇÃO DE EQUIPAMENTOS ELETROE...</td>\n",
       "      <td>3314707, 4322302, 4649404, 4651601, 4669999, 4...</td>\n",
       "      <td>19-04-1994</td>\n",
       "      <td>SOCIEDADE EMPRESÁRIA LIMITADA</td>\n",
       "      <td>EMPRESA DE PEQUENO PORTE</td>\n",
       "      <td>407.0</td>\n",
       "      <td>S</td>\n",
       "      <td>N</td>\n",
       "      <td>...</td>\n",
       "      <td>ESTABELECIMENTO FIXO</td>\n",
       "      <td>RUA</td>\n",
       "      <td>NIQUELINA</td>\n",
       "      <td>874</td>\n",
       "      <td>GALPAO,</td>\n",
       "      <td>SANTA EFIGENIA</td>\n",
       "      <td>ORLANDO SERVICE LTDA</td>\n",
       "      <td>NaN</td>\n",
       "      <td>97502553000184</td>\n",
       "      <td>POINT (613854.46 7797085.18)</td>\n",
       "    </tr>\n",
       "    <tr>\n",
       "      <th>1</th>\n",
       "      <td>1007</td>\n",
       "      <td>4755502.0</td>\n",
       "      <td>COMERCIO VAREJISTA DE ARTIGOS DE ARMARINHO</td>\n",
       "      <td>4755502, 8599604</td>\n",
       "      <td>12-04-1993</td>\n",
       "      <td>SOCIEDADE EMPRESÁRIA LIMITADA</td>\n",
       "      <td>MICROEMPRESA - ME</td>\n",
       "      <td>20.0</td>\n",
       "      <td>S</td>\n",
       "      <td>N</td>\n",
       "      <td>...</td>\n",
       "      <td>ESTABELECIMENTO FIXO</td>\n",
       "      <td>RUA</td>\n",
       "      <td>DOS GUAJAJARAS</td>\n",
       "      <td>910</td>\n",
       "      <td>SALA 612</td>\n",
       "      <td>CENTRO</td>\n",
       "      <td>TARGET LTDA</td>\n",
       "      <td>NaN</td>\n",
       "      <td>70950258000134</td>\n",
       "      <td>POINT (610658.10 7796519.70)</td>\n",
       "    </tr>\n",
       "    <tr>\n",
       "      <th>2</th>\n",
       "      <td>1008</td>\n",
       "      <td>4520001.0</td>\n",
       "      <td>SERVIÇOS DE MANUTENÇÃO E REPARAÇÃO MECÂNICA DE...</td>\n",
       "      <td>4520001, 4520003, 4530703</td>\n",
       "      <td>16-11-1993</td>\n",
       "      <td>SOCIEDADE EMPRESÁRIA LIMITADA</td>\n",
       "      <td>MICROEMPRESA - ME</td>\n",
       "      <td>260.0</td>\n",
       "      <td>S</td>\n",
       "      <td>N</td>\n",
       "      <td>...</td>\n",
       "      <td>ESTABELECIMENTO FIXO</td>\n",
       "      <td>RUA</td>\n",
       "      <td>CONSELHEIRO LAFAIETE</td>\n",
       "      <td>284</td>\n",
       "      <td>NaN</td>\n",
       "      <td>SAGRADA FAMILIA</td>\n",
       "      <td>HUDSON CAR LTDA</td>\n",
       "      <td>HUDSON CAR</td>\n",
       "      <td>731235000153</td>\n",
       "      <td>POINT (612523.34 7798131.15)</td>\n",
       "    </tr>\n",
       "    <tr>\n",
       "      <th>3</th>\n",
       "      <td>1009</td>\n",
       "      <td>4616800.0</td>\n",
       "      <td>REPRESENTANTES COMERCIAIS E AGENTES DO COMÉRCI...</td>\n",
       "      <td>4616800</td>\n",
       "      <td>16-11-1992</td>\n",
       "      <td>SOCIEDADE EMPRESÁRIA LIMITADA</td>\n",
       "      <td>EMPRESA DE PEQUENO PORTE</td>\n",
       "      <td>1300.0</td>\n",
       "      <td>S</td>\n",
       "      <td>N</td>\n",
       "      <td>...</td>\n",
       "      <td>ESTABELECIMENTO FIXO</td>\n",
       "      <td>RUA</td>\n",
       "      <td>DOS TIMBIRAS</td>\n",
       "      <td>2352</td>\n",
       "      <td>SALA 01</td>\n",
       "      <td>LOURDES</td>\n",
       "      <td>SILHUETA REPRESENTACAO DE ROUPAS LTDA</td>\n",
       "      <td>GARMENT</td>\n",
       "      <td>68519362000127</td>\n",
       "      <td>POINT (610394.12 7796444.35)</td>\n",
       "    </tr>\n",
       "    <tr>\n",
       "      <th>4</th>\n",
       "      <td>1010</td>\n",
       "      <td>5822101.0</td>\n",
       "      <td>EDIÇÃO INTEGRADA À IMPRESSÃO DE JORNAIS DIÁRIOS</td>\n",
       "      <td>5822101</td>\n",
       "      <td>01-06-1993</td>\n",
       "      <td>SOCIEDADE EMPRESÁRIA LIMITADA</td>\n",
       "      <td>MICROEMPRESA - ME</td>\n",
       "      <td>30.0</td>\n",
       "      <td>N</td>\n",
       "      <td>N</td>\n",
       "      <td>...</td>\n",
       "      <td>ESTABELECIMENTO FIXO</td>\n",
       "      <td>RUA</td>\n",
       "      <td>SAO FELICIANO</td>\n",
       "      <td>73</td>\n",
       "      <td>NaN</td>\n",
       "      <td>CAICARAS</td>\n",
       "      <td>JORNAL CAICARAS LTDA</td>\n",
       "      <td>NaN</td>\n",
       "      <td>71078968000189</td>\n",
       "      <td>POINT (607875.47 7799877.16)</td>\n",
       "    </tr>\n",
       "  </tbody>\n",
       "</table>\n",
       "<p>5 rows × 22 columns</p>\n",
       "</div>"
      ],
      "text/plain": [
       "   ID_ATIV_ECON_ESTABELECIMENTO  CNAE_PRINCIPAL  \\\n",
       "0                          1006       9521500.0   \n",
       "1                          1007       4755502.0   \n",
       "2                          1008       4520001.0   \n",
       "3                          1009       4616800.0   \n",
       "4                          1010       5822101.0   \n",
       "\n",
       "                            DESCRICAO_CNAE_PRINCIPAL  \\\n",
       "0  REPARAÇÃO E MANUTENÇÃO DE EQUIPAMENTOS ELETROE...   \n",
       "1         COMERCIO VAREJISTA DE ARTIGOS DE ARMARINHO   \n",
       "2  SERVIÇOS DE MANUTENÇÃO E REPARAÇÃO MECÂNICA DE...   \n",
       "3  REPRESENTANTES COMERCIAIS E AGENTES DO COMÉRCI...   \n",
       "4    EDIÇÃO INTEGRADA À IMPRESSÃO DE JORNAIS DIÁRIOS   \n",
       "\n",
       "                                                CNAE DATA_INICIO_ATIVIDADE  \\\n",
       "0  3314707, 4322302, 4649404, 4651601, 4669999, 4...            19-04-1994   \n",
       "1                                   4755502, 8599604            12-04-1993   \n",
       "2                          4520001, 4520003, 4530703            16-11-1993   \n",
       "3                                            4616800            16-11-1992   \n",
       "4                                            5822101            01-06-1993   \n",
       "\n",
       "               NATUREZA_JURIDICA             PORTE_EMPRESA  AREA_UTILIZADA  \\\n",
       "0  SOCIEDADE EMPRESÁRIA LIMITADA  EMPRESA DE PEQUENO PORTE           407.0   \n",
       "1  SOCIEDADE EMPRESÁRIA LIMITADA         MICROEMPRESA - ME            20.0   \n",
       "2  SOCIEDADE EMPRESÁRIA LIMITADA         MICROEMPRESA - ME           260.0   \n",
       "3  SOCIEDADE EMPRESÁRIA LIMITADA  EMPRESA DE PEQUENO PORTE          1300.0   \n",
       "4  SOCIEDADE EMPRESÁRIA LIMITADA         MICROEMPRESA - ME            30.0   \n",
       "\n",
       "  IND_SIMPLES IND_MEI  ...         FORMA_ATUACAO DESC_LOGRADOURO  \\\n",
       "0           S       N  ...  ESTABELECIMENTO FIXO             RUA   \n",
       "1           S       N  ...  ESTABELECIMENTO FIXO             RUA   \n",
       "2           S       N  ...  ESTABELECIMENTO FIXO             RUA   \n",
       "3           S       N  ...  ESTABELECIMENTO FIXO             RUA   \n",
       "4           N       N  ...  ESTABELECIMENTO FIXO             RUA   \n",
       "\n",
       "        NOME_LOGRADOURO NUMERO_IMOVEL COMPLEMENTO      NOME_BAIRRO  \\\n",
       "0             NIQUELINA           874     GALPAO,   SANTA EFIGENIA   \n",
       "1        DOS GUAJAJARAS           910    SALA 612           CENTRO   \n",
       "2  CONSELHEIRO LAFAIETE           284         NaN  SAGRADA FAMILIA   \n",
       "3          DOS TIMBIRAS          2352     SALA 01          LOURDES   \n",
       "4         SAO FELICIANO            73         NaN         CAICARAS   \n",
       "\n",
       "                                    NOME NOME_FANTASIA            CNPJ  \\\n",
       "0                   ORLANDO SERVICE LTDA           NaN  97502553000184   \n",
       "1                            TARGET LTDA           NaN  70950258000134   \n",
       "2                        HUDSON CAR LTDA    HUDSON CAR    731235000153   \n",
       "3  SILHUETA REPRESENTACAO DE ROUPAS LTDA       GARMENT  68519362000127   \n",
       "4                   JORNAL CAICARAS LTDA           NaN  71078968000189   \n",
       "\n",
       "                      GEOMETRIA  \n",
       "0  POINT (613854.46 7797085.18)  \n",
       "1  POINT (610658.10 7796519.70)  \n",
       "2  POINT (612523.34 7798131.15)  \n",
       "3  POINT (610394.12 7796444.35)  \n",
       "4  POINT (607875.47 7799877.16)  \n",
       "\n",
       "[5 rows x 22 columns]"
      ]
     },
     "execution_count": 3,
     "metadata": {},
     "output_type": "execute_result"
    }
   ],
   "source": [
    "file_path = 'data/20250401_atividade_economica.csv'\n",
    "df = pd.read_csv(file_path, sep=';')\n",
    "df.head()"
   ]
  },
  {
   "cell_type": "markdown",
   "id": "1ec6afb1",
   "metadata": {},
   "source": [
    "### Tratando prefixos dos Logradouros "
   ]
  },
  {
   "cell_type": "code",
   "execution_count": 4,
   "id": "0818a218",
   "metadata": {},
   "outputs": [
    {
     "data": {
      "text/plain": [
       "DESC_LOGRADOURO\n",
       "RUA    447131\n",
       "AVE     79646\n",
       "BEC      2648\n",
       "PCA      2053\n",
       "ROD      1854\n",
       "ALA      1007\n",
       "EST       296\n",
       "TRV       214\n",
       "VIA        18\n",
       "VDP         8\n",
       "LRG         3\n",
       "TRE         2\n",
       "Name: count, dtype: int64"
      ]
     },
     "execution_count": 4,
     "metadata": {},
     "output_type": "execute_result"
    }
   ],
   "source": [
    "df['DESC_LOGRADOURO'].value_counts()"
   ]
  },
  {
   "cell_type": "code",
   "execution_count": 5,
   "id": "e6d5cf5c",
   "metadata": {},
   "outputs": [
    {
     "data": {
      "text/html": [
       "<div>\n",
       "<style scoped>\n",
       "    .dataframe tbody tr th:only-of-type {\n",
       "        vertical-align: middle;\n",
       "    }\n",
       "\n",
       "    .dataframe tbody tr th {\n",
       "        vertical-align: top;\n",
       "    }\n",
       "\n",
       "    .dataframe thead th {\n",
       "        text-align: right;\n",
       "    }\n",
       "</style>\n",
       "<table border=\"1\" class=\"dataframe\">\n",
       "  <thead>\n",
       "    <tr style=\"text-align: right;\">\n",
       "      <th></th>\n",
       "      <th>ID_ATIV_ECON_ESTABELECIMENTO</th>\n",
       "      <th>CNAE_PRINCIPAL</th>\n",
       "      <th>DESCRICAO_CNAE_PRINCIPAL</th>\n",
       "      <th>CNAE</th>\n",
       "      <th>DATA_INICIO_ATIVIDADE</th>\n",
       "      <th>NATUREZA_JURIDICA</th>\n",
       "      <th>PORTE_EMPRESA</th>\n",
       "      <th>AREA_UTILIZADA</th>\n",
       "      <th>IND_SIMPLES</th>\n",
       "      <th>IND_MEI</th>\n",
       "      <th>...</th>\n",
       "      <th>FORMA_ATUACAO</th>\n",
       "      <th>DESC_LOGRADOURO</th>\n",
       "      <th>NOME_LOGRADOURO</th>\n",
       "      <th>NUMERO_IMOVEL</th>\n",
       "      <th>COMPLEMENTO</th>\n",
       "      <th>NOME_BAIRRO</th>\n",
       "      <th>NOME</th>\n",
       "      <th>NOME_FANTASIA</th>\n",
       "      <th>CNPJ</th>\n",
       "      <th>GEOMETRIA</th>\n",
       "    </tr>\n",
       "  </thead>\n",
       "  <tbody>\n",
       "    <tr>\n",
       "      <th>0</th>\n",
       "      <td>1006</td>\n",
       "      <td>9521500.0</td>\n",
       "      <td>REPARAÇÃO E MANUTENÇÃO DE EQUIPAMENTOS ELETROE...</td>\n",
       "      <td>3314707, 4322302, 4649404, 4651601, 4669999, 4...</td>\n",
       "      <td>19-04-1994</td>\n",
       "      <td>SOCIEDADE EMPRESÁRIA LIMITADA</td>\n",
       "      <td>EMPRESA DE PEQUENO PORTE</td>\n",
       "      <td>407.0</td>\n",
       "      <td>S</td>\n",
       "      <td>N</td>\n",
       "      <td>...</td>\n",
       "      <td>ESTABELECIMENTO FIXO</td>\n",
       "      <td>RUA</td>\n",
       "      <td>NIQUELINA</td>\n",
       "      <td>874</td>\n",
       "      <td>GALPAO,</td>\n",
       "      <td>SANTA EFIGENIA</td>\n",
       "      <td>ORLANDO SERVICE LTDA</td>\n",
       "      <td>NaN</td>\n",
       "      <td>97502553000184</td>\n",
       "      <td>POINT (613854.46 7797085.18)</td>\n",
       "    </tr>\n",
       "    <tr>\n",
       "      <th>1</th>\n",
       "      <td>1007</td>\n",
       "      <td>4755502.0</td>\n",
       "      <td>COMERCIO VAREJISTA DE ARTIGOS DE ARMARINHO</td>\n",
       "      <td>4755502, 8599604</td>\n",
       "      <td>12-04-1993</td>\n",
       "      <td>SOCIEDADE EMPRESÁRIA LIMITADA</td>\n",
       "      <td>MICROEMPRESA - ME</td>\n",
       "      <td>20.0</td>\n",
       "      <td>S</td>\n",
       "      <td>N</td>\n",
       "      <td>...</td>\n",
       "      <td>ESTABELECIMENTO FIXO</td>\n",
       "      <td>RUA</td>\n",
       "      <td>DOS GUAJAJARAS</td>\n",
       "      <td>910</td>\n",
       "      <td>SALA 612</td>\n",
       "      <td>CENTRO</td>\n",
       "      <td>TARGET LTDA</td>\n",
       "      <td>NaN</td>\n",
       "      <td>70950258000134</td>\n",
       "      <td>POINT (610658.10 7796519.70)</td>\n",
       "    </tr>\n",
       "    <tr>\n",
       "      <th>2</th>\n",
       "      <td>1008</td>\n",
       "      <td>4520001.0</td>\n",
       "      <td>SERVIÇOS DE MANUTENÇÃO E REPARAÇÃO MECÂNICA DE...</td>\n",
       "      <td>4520001, 4520003, 4530703</td>\n",
       "      <td>16-11-1993</td>\n",
       "      <td>SOCIEDADE EMPRESÁRIA LIMITADA</td>\n",
       "      <td>MICROEMPRESA - ME</td>\n",
       "      <td>260.0</td>\n",
       "      <td>S</td>\n",
       "      <td>N</td>\n",
       "      <td>...</td>\n",
       "      <td>ESTABELECIMENTO FIXO</td>\n",
       "      <td>RUA</td>\n",
       "      <td>CONSELHEIRO LAFAIETE</td>\n",
       "      <td>284</td>\n",
       "      <td>NaN</td>\n",
       "      <td>SAGRADA FAMILIA</td>\n",
       "      <td>HUDSON CAR LTDA</td>\n",
       "      <td>HUDSON CAR</td>\n",
       "      <td>731235000153</td>\n",
       "      <td>POINT (612523.34 7798131.15)</td>\n",
       "    </tr>\n",
       "    <tr>\n",
       "      <th>3</th>\n",
       "      <td>1009</td>\n",
       "      <td>4616800.0</td>\n",
       "      <td>REPRESENTANTES COMERCIAIS E AGENTES DO COMÉRCI...</td>\n",
       "      <td>4616800</td>\n",
       "      <td>16-11-1992</td>\n",
       "      <td>SOCIEDADE EMPRESÁRIA LIMITADA</td>\n",
       "      <td>EMPRESA DE PEQUENO PORTE</td>\n",
       "      <td>1300.0</td>\n",
       "      <td>S</td>\n",
       "      <td>N</td>\n",
       "      <td>...</td>\n",
       "      <td>ESTABELECIMENTO FIXO</td>\n",
       "      <td>RUA</td>\n",
       "      <td>DOS TIMBIRAS</td>\n",
       "      <td>2352</td>\n",
       "      <td>SALA 01</td>\n",
       "      <td>LOURDES</td>\n",
       "      <td>SILHUETA REPRESENTACAO DE ROUPAS LTDA</td>\n",
       "      <td>GARMENT</td>\n",
       "      <td>68519362000127</td>\n",
       "      <td>POINT (610394.12 7796444.35)</td>\n",
       "    </tr>\n",
       "    <tr>\n",
       "      <th>4</th>\n",
       "      <td>1010</td>\n",
       "      <td>5822101.0</td>\n",
       "      <td>EDIÇÃO INTEGRADA À IMPRESSÃO DE JORNAIS DIÁRIOS</td>\n",
       "      <td>5822101</td>\n",
       "      <td>01-06-1993</td>\n",
       "      <td>SOCIEDADE EMPRESÁRIA LIMITADA</td>\n",
       "      <td>MICROEMPRESA - ME</td>\n",
       "      <td>30.0</td>\n",
       "      <td>N</td>\n",
       "      <td>N</td>\n",
       "      <td>...</td>\n",
       "      <td>ESTABELECIMENTO FIXO</td>\n",
       "      <td>RUA</td>\n",
       "      <td>SAO FELICIANO</td>\n",
       "      <td>73</td>\n",
       "      <td>NaN</td>\n",
       "      <td>CAICARAS</td>\n",
       "      <td>JORNAL CAICARAS LTDA</td>\n",
       "      <td>NaN</td>\n",
       "      <td>71078968000189</td>\n",
       "      <td>POINT (607875.47 7799877.16)</td>\n",
       "    </tr>\n",
       "    <tr>\n",
       "      <th>...</th>\n",
       "      <td>...</td>\n",
       "      <td>...</td>\n",
       "      <td>...</td>\n",
       "      <td>...</td>\n",
       "      <td>...</td>\n",
       "      <td>...</td>\n",
       "      <td>...</td>\n",
       "      <td>...</td>\n",
       "      <td>...</td>\n",
       "      <td>...</td>\n",
       "      <td>...</td>\n",
       "      <td>...</td>\n",
       "      <td>...</td>\n",
       "      <td>...</td>\n",
       "      <td>...</td>\n",
       "      <td>...</td>\n",
       "      <td>...</td>\n",
       "      <td>...</td>\n",
       "      <td>...</td>\n",
       "      <td>...</td>\n",
       "      <td>...</td>\n",
       "    </tr>\n",
       "    <tr>\n",
       "      <th>534875</th>\n",
       "      <td>460130</td>\n",
       "      <td>5229099.0</td>\n",
       "      <td>OUTRAS ATIVIDADES AUXILIARES DOS TRANSPORTES T...</td>\n",
       "      <td>5229099</td>\n",
       "      <td>08-05-2024</td>\n",
       "      <td>EMPRESÁRIO (INDIVIDUAL)</td>\n",
       "      <td>MICROEMPRESA - ME</td>\n",
       "      <td>10.0</td>\n",
       "      <td>S</td>\n",
       "      <td>S</td>\n",
       "      <td>...</td>\n",
       "      <td>PORTA A PORTA, POSTOS MÓVEIS OU POR AMBULANTES</td>\n",
       "      <td>RUA</td>\n",
       "      <td>ONZE DE NOVEMBRO</td>\n",
       "      <td>92</td>\n",
       "      <td>NaN</td>\n",
       "      <td>ALPES</td>\n",
       "      <td>55.045.831 FELIPE MIRANDA ALVES</td>\n",
       "      <td>NaN</td>\n",
       "      <td>55045831000171</td>\n",
       "      <td>POINT (608364.20 7793180.59)</td>\n",
       "    </tr>\n",
       "    <tr>\n",
       "      <th>534876</th>\n",
       "      <td>460131</td>\n",
       "      <td>6201501.0</td>\n",
       "      <td>DESENVOLVIMENTO DE PROGRAMAS DE COMPUTADOR SOB...</td>\n",
       "      <td>6201501, 6202300, 6203100, 6204000</td>\n",
       "      <td>08-05-2024</td>\n",
       "      <td>SOCIEDADE EMPRESÁRIA LIMITADA</td>\n",
       "      <td>MICROEMPRESA - ME</td>\n",
       "      <td>20.0</td>\n",
       "      <td>S</td>\n",
       "      <td>N</td>\n",
       "      <td>...</td>\n",
       "      <td>ATIVIDADES DESENVOLVIDAS FORA DO ESTABELECIMEN...</td>\n",
       "      <td>RUA</td>\n",
       "      <td>RIO GRANDE DO NORTE</td>\n",
       "      <td>1435</td>\n",
       "      <td>SALA: 708 ,PAVMTO: 7</td>\n",
       "      <td>SAVASSI</td>\n",
       "      <td>MARCOS R F DOS SANTOS LTDA</td>\n",
       "      <td>NaN</td>\n",
       "      <td>55046071000117</td>\n",
       "      <td>POINT (611699.07 7795022.80)</td>\n",
       "    </tr>\n",
       "    <tr>\n",
       "      <th>534877</th>\n",
       "      <td>460132</td>\n",
       "      <td>4761001.0</td>\n",
       "      <td>COMÉRCIO VAREJISTA DE LIVROS</td>\n",
       "      <td>4761001, 5811500</td>\n",
       "      <td>08-05-2024</td>\n",
       "      <td>SOCIEDADE EMPRESÁRIA LIMITADA</td>\n",
       "      <td>DEMAIS</td>\n",
       "      <td>33.0</td>\n",
       "      <td>N</td>\n",
       "      <td>N</td>\n",
       "      <td>...</td>\n",
       "      <td>NaN</td>\n",
       "      <td>AV</td>\n",
       "      <td>CORONEL JOSE DIAS BICALHO</td>\n",
       "      <td>250</td>\n",
       "      <td>LOJA: 06</td>\n",
       "      <td>SAO LUIZ</td>\n",
       "      <td>WB2 - NEGOCIOS DIGITAIS LTDA</td>\n",
       "      <td>NaN</td>\n",
       "      <td>55046127000133</td>\n",
       "      <td>POINT (608711.71 7803934.64)</td>\n",
       "    </tr>\n",
       "    <tr>\n",
       "      <th>534878</th>\n",
       "      <td>460133</td>\n",
       "      <td>8599699.0</td>\n",
       "      <td>OUTRAS ATIVIDADES DE ENSINO NÃO ESPECIFICADAS ...</td>\n",
       "      <td>4781400, 8599699</td>\n",
       "      <td>08-05-2024</td>\n",
       "      <td>EMPRESÁRIO (INDIVIDUAL)</td>\n",
       "      <td>MICROEMPRESA - ME</td>\n",
       "      <td>10.0</td>\n",
       "      <td>S</td>\n",
       "      <td>S</td>\n",
       "      <td>...</td>\n",
       "      <td>ESTABELECIMENTO FIXO, INTERNET, TELEVENDAS</td>\n",
       "      <td>AV</td>\n",
       "      <td>OIAPOQUE</td>\n",
       "      <td>156</td>\n",
       "      <td>ANEXO 2</td>\n",
       "      <td>CENTRO</td>\n",
       "      <td>55.045.904 CAMILA VITORIA PEREIRA DE ALMEIDA</td>\n",
       "      <td>NaN</td>\n",
       "      <td>55045904000125</td>\n",
       "      <td>POINT (611008.61 7797737.66)</td>\n",
       "    </tr>\n",
       "    <tr>\n",
       "      <th>534879</th>\n",
       "      <td>460134</td>\n",
       "      <td>1096100.0</td>\n",
       "      <td>FABRICAÇÃO DE ALIMENTOS E PRATOS PRONTOS</td>\n",
       "      <td>1052000, 1091101, 1091102, 1094500, 1096100, 4...</td>\n",
       "      <td>08-05-2024</td>\n",
       "      <td>EMPRESÁRIO (INDIVIDUAL)</td>\n",
       "      <td>MICROEMPRESA - ME</td>\n",
       "      <td>10.0</td>\n",
       "      <td>S</td>\n",
       "      <td>S</td>\n",
       "      <td>...</td>\n",
       "      <td>EM LOCAL FIXO FORA DE LOJA, INTERNET, TELEVENDAS</td>\n",
       "      <td>RUA</td>\n",
       "      <td>TURFA</td>\n",
       "      <td>1109</td>\n",
       "      <td>APT 404</td>\n",
       "      <td>BARROCA</td>\n",
       "      <td>55.046.129 LORENNA LUISA OLIVEIRA DE SOUZA COR...</td>\n",
       "      <td>NaN</td>\n",
       "      <td>55046129000122</td>\n",
       "      <td>POINT (608440.54 7795740.37)</td>\n",
       "    </tr>\n",
       "  </tbody>\n",
       "</table>\n",
       "<p>534880 rows × 22 columns</p>\n",
       "</div>"
      ],
      "text/plain": [
       "        ID_ATIV_ECON_ESTABELECIMENTO  CNAE_PRINCIPAL  \\\n",
       "0                               1006       9521500.0   \n",
       "1                               1007       4755502.0   \n",
       "2                               1008       4520001.0   \n",
       "3                               1009       4616800.0   \n",
       "4                               1010       5822101.0   \n",
       "...                              ...             ...   \n",
       "534875                        460130       5229099.0   \n",
       "534876                        460131       6201501.0   \n",
       "534877                        460132       4761001.0   \n",
       "534878                        460133       8599699.0   \n",
       "534879                        460134       1096100.0   \n",
       "\n",
       "                                 DESCRICAO_CNAE_PRINCIPAL  \\\n",
       "0       REPARAÇÃO E MANUTENÇÃO DE EQUIPAMENTOS ELETROE...   \n",
       "1              COMERCIO VAREJISTA DE ARTIGOS DE ARMARINHO   \n",
       "2       SERVIÇOS DE MANUTENÇÃO E REPARAÇÃO MECÂNICA DE...   \n",
       "3       REPRESENTANTES COMERCIAIS E AGENTES DO COMÉRCI...   \n",
       "4         EDIÇÃO INTEGRADA À IMPRESSÃO DE JORNAIS DIÁRIOS   \n",
       "...                                                   ...   \n",
       "534875  OUTRAS ATIVIDADES AUXILIARES DOS TRANSPORTES T...   \n",
       "534876  DESENVOLVIMENTO DE PROGRAMAS DE COMPUTADOR SOB...   \n",
       "534877                       COMÉRCIO VAREJISTA DE LIVROS   \n",
       "534878  OUTRAS ATIVIDADES DE ENSINO NÃO ESPECIFICADAS ...   \n",
       "534879           FABRICAÇÃO DE ALIMENTOS E PRATOS PRONTOS   \n",
       "\n",
       "                                                     CNAE  \\\n",
       "0       3314707, 4322302, 4649404, 4651601, 4669999, 4...   \n",
       "1                                        4755502, 8599604   \n",
       "2                               4520001, 4520003, 4530703   \n",
       "3                                                 4616800   \n",
       "4                                                 5822101   \n",
       "...                                                   ...   \n",
       "534875                                            5229099   \n",
       "534876                 6201501, 6202300, 6203100, 6204000   \n",
       "534877                                   4761001, 5811500   \n",
       "534878                                   4781400, 8599699   \n",
       "534879  1052000, 1091101, 1091102, 1094500, 1096100, 4...   \n",
       "\n",
       "       DATA_INICIO_ATIVIDADE              NATUREZA_JURIDICA  \\\n",
       "0                 19-04-1994  SOCIEDADE EMPRESÁRIA LIMITADA   \n",
       "1                 12-04-1993  SOCIEDADE EMPRESÁRIA LIMITADA   \n",
       "2                 16-11-1993  SOCIEDADE EMPRESÁRIA LIMITADA   \n",
       "3                 16-11-1992  SOCIEDADE EMPRESÁRIA LIMITADA   \n",
       "4                 01-06-1993  SOCIEDADE EMPRESÁRIA LIMITADA   \n",
       "...                      ...                            ...   \n",
       "534875            08-05-2024        EMPRESÁRIO (INDIVIDUAL)   \n",
       "534876            08-05-2024  SOCIEDADE EMPRESÁRIA LIMITADA   \n",
       "534877            08-05-2024  SOCIEDADE EMPRESÁRIA LIMITADA   \n",
       "534878            08-05-2024        EMPRESÁRIO (INDIVIDUAL)   \n",
       "534879            08-05-2024        EMPRESÁRIO (INDIVIDUAL)   \n",
       "\n",
       "                   PORTE_EMPRESA  AREA_UTILIZADA IND_SIMPLES IND_MEI  ...  \\\n",
       "0       EMPRESA DE PEQUENO PORTE           407.0           S       N  ...   \n",
       "1              MICROEMPRESA - ME            20.0           S       N  ...   \n",
       "2              MICROEMPRESA - ME           260.0           S       N  ...   \n",
       "3       EMPRESA DE PEQUENO PORTE          1300.0           S       N  ...   \n",
       "4              MICROEMPRESA - ME            30.0           N       N  ...   \n",
       "...                          ...             ...         ...     ...  ...   \n",
       "534875         MICROEMPRESA - ME            10.0           S       S  ...   \n",
       "534876         MICROEMPRESA - ME            20.0           S       N  ...   \n",
       "534877                    DEMAIS            33.0           N       N  ...   \n",
       "534878         MICROEMPRESA - ME            10.0           S       S  ...   \n",
       "534879         MICROEMPRESA - ME            10.0           S       S  ...   \n",
       "\n",
       "                                            FORMA_ATUACAO DESC_LOGRADOURO  \\\n",
       "0                                    ESTABELECIMENTO FIXO             RUA   \n",
       "1                                    ESTABELECIMENTO FIXO             RUA   \n",
       "2                                    ESTABELECIMENTO FIXO             RUA   \n",
       "3                                    ESTABELECIMENTO FIXO             RUA   \n",
       "4                                    ESTABELECIMENTO FIXO             RUA   \n",
       "...                                                   ...             ...   \n",
       "534875     PORTA A PORTA, POSTOS MÓVEIS OU POR AMBULANTES             RUA   \n",
       "534876  ATIVIDADES DESENVOLVIDAS FORA DO ESTABELECIMEN...             RUA   \n",
       "534877                                                NaN              AV   \n",
       "534878         ESTABELECIMENTO FIXO, INTERNET, TELEVENDAS              AV   \n",
       "534879   EM LOCAL FIXO FORA DE LOJA, INTERNET, TELEVENDAS             RUA   \n",
       "\n",
       "                  NOME_LOGRADOURO NUMERO_IMOVEL           COMPLEMENTO  \\\n",
       "0                       NIQUELINA           874               GALPAO,   \n",
       "1                  DOS GUAJAJARAS           910              SALA 612   \n",
       "2            CONSELHEIRO LAFAIETE           284                   NaN   \n",
       "3                    DOS TIMBIRAS          2352               SALA 01   \n",
       "4                   SAO FELICIANO            73                   NaN   \n",
       "...                           ...           ...                   ...   \n",
       "534875           ONZE DE NOVEMBRO            92                   NaN   \n",
       "534876        RIO GRANDE DO NORTE          1435  SALA: 708 ,PAVMTO: 7   \n",
       "534877  CORONEL JOSE DIAS BICALHO           250              LOJA: 06   \n",
       "534878                   OIAPOQUE           156               ANEXO 2   \n",
       "534879                      TURFA          1109               APT 404   \n",
       "\n",
       "            NOME_BAIRRO                                               NOME  \\\n",
       "0        SANTA EFIGENIA                               ORLANDO SERVICE LTDA   \n",
       "1                CENTRO                                        TARGET LTDA   \n",
       "2       SAGRADA FAMILIA                                    HUDSON CAR LTDA   \n",
       "3               LOURDES              SILHUETA REPRESENTACAO DE ROUPAS LTDA   \n",
       "4              CAICARAS                               JORNAL CAICARAS LTDA   \n",
       "...                 ...                                                ...   \n",
       "534875            ALPES                    55.045.831 FELIPE MIRANDA ALVES   \n",
       "534876          SAVASSI                         MARCOS R F DOS SANTOS LTDA   \n",
       "534877         SAO LUIZ                       WB2 - NEGOCIOS DIGITAIS LTDA   \n",
       "534878           CENTRO       55.045.904 CAMILA VITORIA PEREIRA DE ALMEIDA   \n",
       "534879          BARROCA  55.046.129 LORENNA LUISA OLIVEIRA DE SOUZA COR...   \n",
       "\n",
       "       NOME_FANTASIA            CNPJ                     GEOMETRIA  \n",
       "0                NaN  97502553000184  POINT (613854.46 7797085.18)  \n",
       "1                NaN  70950258000134  POINT (610658.10 7796519.70)  \n",
       "2         HUDSON CAR    731235000153  POINT (612523.34 7798131.15)  \n",
       "3            GARMENT  68519362000127  POINT (610394.12 7796444.35)  \n",
       "4                NaN  71078968000189  POINT (607875.47 7799877.16)  \n",
       "...              ...             ...                           ...  \n",
       "534875           NaN  55045831000171  POINT (608364.20 7793180.59)  \n",
       "534876           NaN  55046071000117  POINT (611699.07 7795022.80)  \n",
       "534877           NaN  55046127000133  POINT (608711.71 7803934.64)  \n",
       "534878           NaN  55045904000125  POINT (611008.61 7797737.66)  \n",
       "534879           NaN  55046129000122  POINT (608440.54 7795740.37)  \n",
       "\n",
       "[534880 rows x 22 columns]"
      ]
     },
     "execution_count": 5,
     "metadata": {},
     "output_type": "execute_result"
    }
   ],
   "source": [
    "NOVO_LOGRADOURO = {'RUA': 'RUA', 'AVE': 'AV', 'PCA': 'PC', 'BEC': 'BC', 'ROD': 'RD', 'ALA': 'AL',\n",
    "                   'EST': 'ESTRADA', 'TRV': 'TRV', 'VIA': 'VIA', 'VDP': 'V', 'LRG': 'LRG', 'TRE': 'TRE'}\n",
    "# no dataset filtrado nao foi encontrado LRG e nem TRE, mative o mesmo\n",
    "\n",
    "df['DESC_LOGRADOURO'] = df['DESC_LOGRADOURO'].map(NOVO_LOGRADOURO)\n",
    "df"
   ]
  },
  {
   "cell_type": "markdown",
   "id": "60f00bc4",
   "metadata": {},
   "source": [
    "### Filtragem por bares e restaurantes"
   ]
  },
  {
   "cell_type": "code",
   "execution_count": 6,
   "id": "bd0d59b0",
   "metadata": {},
   "outputs": [],
   "source": [
    "words = ['bar', 'bares', 'restaurante', 'restaurantes']"
   ]
  },
  {
   "cell_type": "markdown",
   "id": "4cc9c895-d51e-471e-8939-eae537bdf3bb",
   "metadata": {},
   "source": [
    "Constrói a expressão regex que da match em qualquer uma das palavras, se ela aparecer como uma palavra separada por espaços ou pontuações das outras:"
   ]
  },
  {
   "cell_type": "code",
   "execution_count": 7,
   "id": "bb54bf1a-b2e5-4b79-b7ca-ee8ded67ea81",
   "metadata": {},
   "outputs": [
    {
     "data": {
      "text/plain": [
       "'\\\\b(?:bar|bares|restaurante|restaurantes)\\\\b'"
      ]
     },
     "execution_count": 7,
     "metadata": {},
     "output_type": "execute_result"
    }
   ],
   "source": [
    "pattern = r'\\b(?:' + '|'.join(re.escape(word) for word in words) + r')\\b'\n",
    "pattern"
   ]
  },
  {
   "cell_type": "code",
   "execution_count": 8,
   "id": "30095951",
   "metadata": {},
   "outputs": [
    {
     "name": "stdout",
     "output_type": "stream",
     "text": [
      "RESTAURANTES E SIMILARES\n",
      "BARES E OUTROS ESTABELECIMENTOS ESPECIALIZADOS EM SERVIR BEBIDAS, SEM ENTRETENIMENTO\n",
      "BARES E OUTROS ESTABELECIMENTOS ESPECIALIZADOS EM SERVIR BEBIDAS, COM ENTRETENIMENTO \n"
     ]
    },
    {
     "data": {
      "text/html": [
       "<div>\n",
       "<style scoped>\n",
       "    .dataframe tbody tr th:only-of-type {\n",
       "        vertical-align: middle;\n",
       "    }\n",
       "\n",
       "    .dataframe tbody tr th {\n",
       "        vertical-align: top;\n",
       "    }\n",
       "\n",
       "    .dataframe thead th {\n",
       "        text-align: right;\n",
       "    }\n",
       "</style>\n",
       "<table border=\"1\" class=\"dataframe\">\n",
       "  <thead>\n",
       "    <tr style=\"text-align: right;\">\n",
       "      <th></th>\n",
       "      <th>CNAE_PRINCIPAL</th>\n",
       "      <th>DESCRICAO_CNAE_PRINCIPAL</th>\n",
       "    </tr>\n",
       "  </thead>\n",
       "  <tbody>\n",
       "    <tr>\n",
       "      <th>17</th>\n",
       "      <td>5611201.0</td>\n",
       "      <td>RESTAURANTES E SIMILARES</td>\n",
       "    </tr>\n",
       "    <tr>\n",
       "      <th>679</th>\n",
       "      <td>5611204.0</td>\n",
       "      <td>BARES E OUTROS ESTABELECIMENTOS ESPECIALIZADOS...</td>\n",
       "    </tr>\n",
       "    <tr>\n",
       "      <th>3079</th>\n",
       "      <td>5611205.0</td>\n",
       "      <td>BARES E OUTROS ESTABELECIMENTOS ESPECIALIZADOS...</td>\n",
       "    </tr>\n",
       "  </tbody>\n",
       "</table>\n",
       "</div>"
      ],
      "text/plain": [
       "      CNAE_PRINCIPAL                           DESCRICAO_CNAE_PRINCIPAL\n",
       "17         5611201.0                           RESTAURANTES E SIMILARES\n",
       "679        5611204.0  BARES E OUTROS ESTABELECIMENTOS ESPECIALIZADOS...\n",
       "3079       5611205.0  BARES E OUTROS ESTABELECIMENTOS ESPECIALIZADOS..."
      ]
     },
     "execution_count": 8,
     "metadata": {},
     "output_type": "execute_result"
    }
   ],
   "source": [
    "filtered_table = df[['CNAE_PRINCIPAL', 'DESCRICAO_CNAE_PRINCIPAL']].drop_duplicates()\n",
    "filtered_table = filtered_table[filtered_table['DESCRICAO_CNAE_PRINCIPAL'].str.contains(pattern, case=False, na=False)]\n",
    "for value in filtered_table['DESCRICAO_CNAE_PRINCIPAL']:\n",
    "    print(value)\n",
    "filtered_table"
   ]
  },
  {
   "cell_type": "code",
   "execution_count": 9,
   "id": "b25ea3af",
   "metadata": {},
   "outputs": [
    {
     "data": {
      "text/plain": [
       "[5611201, 5611204, 5611205]"
      ]
     },
     "execution_count": 9,
     "metadata": {},
     "output_type": "execute_result"
    }
   ],
   "source": [
    "CNAES = [int(cnae) for cnae in filtered_table['CNAE_PRINCIPAL']]\n",
    "CNAES"
   ]
  },
  {
   "cell_type": "code",
   "execution_count": 10,
   "id": "bb8fc199",
   "metadata": {},
   "outputs": [
    {
     "data": {
      "text/plain": [
       "CNAE_PRINCIPAL\n",
       "5611201.0    8550\n",
       "5611204.0    3570\n",
       "5611205.0    1505\n",
       "Name: count, dtype: int64"
      ]
     },
     "execution_count": 10,
     "metadata": {},
     "output_type": "execute_result"
    }
   ],
   "source": [
    "filtered_df = df[df['CNAE_PRINCIPAL'].isin(CNAES)].copy()\n",
    "filtered_df['CNAE_PRINCIPAL'].value_counts()"
   ]
  },
  {
   "cell_type": "markdown",
   "id": "af0ccf52",
   "metadata": {},
   "source": [
    "### Formatação do Endereço"
   ]
  },
  {
   "cell_type": "code",
   "execution_count": 11,
   "id": "9869cf09",
   "metadata": {},
   "outputs": [
    {
     "data": {
      "text/html": [
       "<div>\n",
       "<style scoped>\n",
       "    .dataframe tbody tr th:only-of-type {\n",
       "        vertical-align: middle;\n",
       "    }\n",
       "\n",
       "    .dataframe tbody tr th {\n",
       "        vertical-align: top;\n",
       "    }\n",
       "\n",
       "    .dataframe thead th {\n",
       "        text-align: right;\n",
       "    }\n",
       "</style>\n",
       "<table border=\"1\" class=\"dataframe\">\n",
       "  <thead>\n",
       "    <tr style=\"text-align: right;\">\n",
       "      <th></th>\n",
       "      <th>ENDERECO_FORMATADO</th>\n",
       "    </tr>\n",
       "  </thead>\n",
       "  <tbody>\n",
       "    <tr>\n",
       "      <th>17</th>\n",
       "      <td>RUA DESEMBARGADOR REIS ALVES, 90</td>\n",
       "    </tr>\n",
       "    <tr>\n",
       "      <th>19</th>\n",
       "      <td>RUA LUIZ PONGELUPE, 290</td>\n",
       "    </tr>\n",
       "    <tr>\n",
       "      <th>29</th>\n",
       "      <td>AV RESSACA, 118</td>\n",
       "    </tr>\n",
       "    <tr>\n",
       "      <th>172</th>\n",
       "      <td>RUA DESEMBARGADOR RIBEIRO DA LUZ, 135</td>\n",
       "    </tr>\n",
       "    <tr>\n",
       "      <th>363</th>\n",
       "      <td>AV CRISTIANO MACHADO, 1950</td>\n",
       "    </tr>\n",
       "  </tbody>\n",
       "</table>\n",
       "</div>"
      ],
      "text/plain": [
       "                        ENDERECO_FORMATADO\n",
       "17        RUA DESEMBARGADOR REIS ALVES, 90\n",
       "19                 RUA LUIZ PONGELUPE, 290\n",
       "29                         AV RESSACA, 118\n",
       "172  RUA DESEMBARGADOR RIBEIRO DA LUZ, 135\n",
       "363             AV CRISTIANO MACHADO, 1950"
      ]
     },
     "execution_count": 11,
     "metadata": {},
     "output_type": "execute_result"
    }
   ],
   "source": [
    "filtered_df['ENDERECO_FORMATADO'] = (\n",
    "  filtered_df['DESC_LOGRADOURO'] + ' ' +\n",
    "  filtered_df['NOME_LOGRADOURO'] + ', ' +\n",
    "  filtered_df['NUMERO_IMOVEL'].astype(str)\n",
    ")\n",
    "\n",
    "filtered_df[['ENDERECO_FORMATADO']].head()"
   ]
  },
  {
   "cell_type": "markdown",
   "id": "2bd77f58",
   "metadata": {},
   "source": [
    "## Tabela Final"
   ]
  },
  {
   "cell_type": "code",
   "execution_count": 12,
   "id": "5282b716",
   "metadata": {},
   "outputs": [
    {
     "data": {
      "text/html": [
       "<div>\n",
       "<style scoped>\n",
       "    .dataframe tbody tr th:only-of-type {\n",
       "        vertical-align: middle;\n",
       "    }\n",
       "\n",
       "    .dataframe tbody tr th {\n",
       "        vertical-align: top;\n",
       "    }\n",
       "\n",
       "    .dataframe thead th {\n",
       "        text-align: right;\n",
       "    }\n",
       "</style>\n",
       "<table border=\"1\" class=\"dataframe\">\n",
       "  <thead>\n",
       "    <tr style=\"text-align: right;\">\n",
       "      <th></th>\n",
       "      <th>DATA_INICIO_ATIVIDADE</th>\n",
       "      <th>IND_POSSUI_ALVARA</th>\n",
       "      <th>ENDERECO_FORMATADO</th>\n",
       "      <th>NOME_FANTASIA</th>\n",
       "      <th>ID</th>\n",
       "    </tr>\n",
       "  </thead>\n",
       "  <tbody>\n",
       "    <tr>\n",
       "      <th>19</th>\n",
       "      <td>15-10-1993</td>\n",
       "      <td>NÃO</td>\n",
       "      <td>RUA LUIZ PONGELUPE, 290</td>\n",
       "      <td>PIZZARIA E CHURRASCARIA VARANDA</td>\n",
       "      <td>1</td>\n",
       "    </tr>\n",
       "    <tr>\n",
       "      <th>29</th>\n",
       "      <td>02-05-1994</td>\n",
       "      <td>NÃO</td>\n",
       "      <td>AV RESSACA, 118</td>\n",
       "      <td>RABBIT BURGER</td>\n",
       "      <td>2</td>\n",
       "    </tr>\n",
       "    <tr>\n",
       "      <th>172</th>\n",
       "      <td>24-11-1993</td>\n",
       "      <td>SIM</td>\n",
       "      <td>RUA DESEMBARGADOR RIBEIRO DA LUZ, 135</td>\n",
       "      <td>TATU REI DO ANGU A  BAHIANA</td>\n",
       "      <td>3</td>\n",
       "    </tr>\n",
       "    <tr>\n",
       "      <th>363</th>\n",
       "      <td>01-10-1993</td>\n",
       "      <td>SIM</td>\n",
       "      <td>AV CRISTIANO MACHADO, 1950</td>\n",
       "      <td>ESPACO DA FEIJOADA</td>\n",
       "      <td>4</td>\n",
       "    </tr>\n",
       "    <tr>\n",
       "      <th>662</th>\n",
       "      <td>16-09-2011</td>\n",
       "      <td>SIM</td>\n",
       "      <td>RUA DOS OTONI, 222</td>\n",
       "      <td>RESTAURANTE NOVO SABOR</td>\n",
       "      <td>5</td>\n",
       "    </tr>\n",
       "  </tbody>\n",
       "</table>\n",
       "</div>"
      ],
      "text/plain": [
       "    DATA_INICIO_ATIVIDADE IND_POSSUI_ALVARA  \\\n",
       "19             15-10-1993               NÃO   \n",
       "29             02-05-1994               NÃO   \n",
       "172            24-11-1993               SIM   \n",
       "363            01-10-1993               SIM   \n",
       "662            16-09-2011               SIM   \n",
       "\n",
       "                        ENDERECO_FORMATADO                    NOME_FANTASIA  \\\n",
       "19                 RUA LUIZ PONGELUPE, 290  PIZZARIA E CHURRASCARIA VARANDA   \n",
       "29                         AV RESSACA, 118                    RABBIT BURGER   \n",
       "172  RUA DESEMBARGADOR RIBEIRO DA LUZ, 135      TATU REI DO ANGU A  BAHIANA   \n",
       "363             AV CRISTIANO MACHADO, 1950               ESPACO DA FEIJOADA   \n",
       "662                     RUA DOS OTONI, 222           RESTAURANTE NOVO SABOR   \n",
       "\n",
       "     ID  \n",
       "19    1  \n",
       "29    2  \n",
       "172   3  \n",
       "363   4  \n",
       "662   5  "
      ]
     },
     "execution_count": 12,
     "metadata": {},
     "output_type": "execute_result"
    }
   ],
   "source": [
    "filtered_table = filtered_df[['DATA_INICIO_ATIVIDADE', 'IND_POSSUI_ALVARA', 'ENDERECO_FORMATADO', 'NOME_FANTASIA']].drop_duplicates()\n",
    "filtered_table = filtered_table[filtered_table['NOME_FANTASIA'].notna()]\n",
    "filtered_table['ID'] = range(1, filtered_table.shape[0]+1)\n",
    "filtered_table.head()"
   ]
  },
  {
   "cell_type": "code",
   "execution_count": 13,
   "id": "7b95e6f5-54a9-46b9-81d7-5f2a907a9950",
   "metadata": {},
   "outputs": [],
   "source": [
    "filtered_table.to_csv('data/dados_pre_tratados.csv', index=False)"
   ]
  },
  {
   "cell_type": "markdown",
   "id": "82afdb5a",
   "metadata": {},
   "source": [
    "## Coleta da Coordenada Geográfica"
   ]
  },
  {
   "cell_type": "markdown",
   "id": "800cf239",
   "metadata": {},
   "source": [
    "### Script para coletar dados do OpenStreetMap via Nominatim"
   ]
  },
  {
   "cell_type": "code",
   "execution_count": null,
   "id": "1f5f7702",
   "metadata": {},
   "outputs": [
    {
     "name": "stderr",
     "output_type": "stream",
     "text": [
      "  1%|          | 86/8657 [01:59<3:16:49,  1.38s/it]"
     ]
    },
    {
     "name": "stdout",
     "output_type": "stream",
     "text": [
      "Endereço não encontrado por Nominatim: AV ANTONIO HENRIQUE ALVES, 551, BELO HORIZONTE, MG\n"
     ]
    },
    {
     "name": "stderr",
     "output_type": "stream",
     "text": [
      "  1%|          | 102/8657 [02:24<4:50:17,  2.04s/it]"
     ]
    },
    {
     "name": "stdout",
     "output_type": "stream",
     "text": [
      "Endereço não encontrado por Nominatim: RUA BENJAMIM QUADROS, 266, BELO HORIZONTE, MG\n"
     ]
    },
    {
     "name": "stderr",
     "output_type": "stream",
     "text": [
      "  1%|          | 106/8657 [02:30<3:38:52,  1.54s/it]"
     ]
    },
    {
     "name": "stdout",
     "output_type": "stream",
     "text": [
      "Endereço não encontrado por Nominatim: RUA DO IPE ENCANTADO, 210, BELO HORIZONTE, MG\n"
     ]
    },
    {
     "name": "stderr",
     "output_type": "stream",
     "text": [
      "  2%|▏         | 133/8657 [03:12<3:18:41,  1.40s/it]"
     ]
    },
    {
     "name": "stdout",
     "output_type": "stream",
     "text": [
      "Endereço não encontrado por Nominatim: RUA MOACY SILVA, 140, BELO HORIZONTE, MG\n"
     ]
    },
    {
     "name": "stderr",
     "output_type": "stream",
     "text": [
      "  2%|▏         | 156/8657 [03:48<3:22:20,  1.43s/it]"
     ]
    },
    {
     "name": "stdout",
     "output_type": "stream",
     "text": [
      "Endereço não encontrado por Nominatim: RUA MANOEL PEDRO MIRANDA, 105, BELO HORIZONTE, MG\n"
     ]
    },
    {
     "name": "stderr",
     "output_type": "stream",
     "text": [
      "  2%|▏         | 172/8657 [04:08<2:52:07,  1.22s/it]"
     ]
    },
    {
     "name": "stdout",
     "output_type": "stream",
     "text": [
      "Endereço não encontrado por Nominatim: RUA MARIA DA MATTA CASTRO, 754, BELO HORIZONTE, MG\n"
     ]
    },
    {
     "name": "stderr",
     "output_type": "stream",
     "text": [
      "  2%|▏         | 178/8657 [04:16<2:57:13,  1.25s/it]"
     ]
    },
    {
     "name": "stdout",
     "output_type": "stream",
     "text": [
      "Endereço não encontrado por Nominatim: RUA ALEIXO LOURENCO DE GOUVEIA, 545, BELO HORIZONTE, MG\n"
     ]
    },
    {
     "name": "stderr",
     "output_type": "stream",
     "text": [
      "  2%|▏         | 189/8657 [04:31<3:18:05,  1.40s/it]"
     ]
    },
    {
     "name": "stdout",
     "output_type": "stream",
     "text": [
      "Endereço não encontrado por Nominatim: RUA JOSE PEDRO DE BRITO, 225, BELO HORIZONTE, MG\n"
     ]
    },
    {
     "name": "stderr",
     "output_type": "stream",
     "text": [
      "  2%|▏         | 193/8657 [04:37<3:13:24,  1.37s/it]"
     ]
    },
    {
     "name": "stdout",
     "output_type": "stream",
     "text": [
      "Endereço não encontrado por Nominatim: RUA DO PATRIARCA, 1045, BELO HORIZONTE, MG\n"
     ]
    },
    {
     "name": "stderr",
     "output_type": "stream",
     "text": [
      "  2%|▏         | 201/8657 [04:47<3:04:08,  1.31s/it]"
     ]
    },
    {
     "name": "stdout",
     "output_type": "stream",
     "text": [
      "Endereço não encontrado por Nominatim: RUA CECILIA MAGALHAES GOMES, 555, BELO HORIZONTE, MG\n"
     ]
    },
    {
     "name": "stderr",
     "output_type": "stream",
     "text": [
      "  2%|▏         | 209/8657 [04:58<3:02:45,  1.30s/it]"
     ]
    },
    {
     "name": "stdout",
     "output_type": "stream",
     "text": [
      "Endereço não encontrado por Nominatim: RUA SILVIO GIUSEPE ROSSO, 35, BELO HORIZONTE, MG\n"
     ]
    },
    {
     "name": "stderr",
     "output_type": "stream",
     "text": [
      "  3%|▎         | 267/8657 [06:39<11:51:46,  5.09s/it]"
     ]
    },
    {
     "name": "stdout",
     "output_type": "stream",
     "text": [
      "Endereço não encontrado por Nominatim: RUA CIBIPURUNA, 120, BELO HORIZONTE, MG\n"
     ]
    },
    {
     "name": "stderr",
     "output_type": "stream",
     "text": [
      "  3%|▎         | 277/8657 [07:09<4:05:34,  1.76s/it] "
     ]
    },
    {
     "name": "stdout",
     "output_type": "stream",
     "text": [
      "Endereço não encontrado por Nominatim: RUA AUGUSTA PASSOS MAIA, 95, BELO HORIZONTE, MG\n"
     ]
    },
    {
     "name": "stderr",
     "output_type": "stream",
     "text": [
      "  3%|▎         | 278/8657 [07:10<3:42:58,  1.60s/it]"
     ]
    },
    {
     "name": "stdout",
     "output_type": "stream",
     "text": [
      "Endereço não encontrado por Nominatim: RUA JAYME SALES, 7, BELO HORIZONTE, MG\n"
     ]
    },
    {
     "name": "stderr",
     "output_type": "stream",
     "text": [
      "  3%|▎         | 279/8657 [07:11<3:24:39,  1.47s/it]"
     ]
    },
    {
     "name": "stdout",
     "output_type": "stream",
     "text": [
      "Endereço não encontrado por Nominatim: RUA EDMON DE SOUSA MELO, 33, BELO HORIZONTE, MG\n"
     ]
    },
    {
     "name": "stderr",
     "output_type": "stream",
     "text": [
      "  3%|▎         | 291/8657 [07:27<2:43:59,  1.18s/it]"
     ]
    },
    {
     "name": "stdout",
     "output_type": "stream",
     "text": [
      "Endereço não encontrado por Nominatim: RUA SETECENTOS E VINTE E QUATRO, 41, BELO HORIZONTE, MG\n"
     ]
    },
    {
     "name": "stderr",
     "output_type": "stream",
     "text": [
      "  3%|▎         | 292/8657 [07:29<2:58:32,  1.28s/it]"
     ]
    },
    {
     "name": "stdout",
     "output_type": "stream",
     "text": [
      "Endereço não encontrado por Nominatim: RUA JONAS LINS DE OLIVEIRA, 96, BELO HORIZONTE, MG\n"
     ]
    },
    {
     "name": "stderr",
     "output_type": "stream",
     "text": [
      "  4%|▎         | 313/8657 [07:54<2:49:18,  1.22s/it]"
     ]
    },
    {
     "name": "stdout",
     "output_type": "stream",
     "text": [
      "Endereço não encontrado por Nominatim: BC DIRAO, 8, BELO HORIZONTE, MG\n"
     ]
    },
    {
     "name": "stderr",
     "output_type": "stream",
     "text": [
      "  4%|▍         | 345/8657 [08:38<2:44:01,  1.18s/it]"
     ]
    },
    {
     "name": "stdout",
     "output_type": "stream",
     "text": [
      "Endereço não encontrado por Nominatim: RUA ADRIANO CHAVES E MATOS, 486, BELO HORIZONTE, MG\n"
     ]
    },
    {
     "name": "stderr",
     "output_type": "stream",
     "text": [
      "  4%|▍         | 377/8657 [09:19<2:58:58,  1.30s/it]"
     ]
    },
    {
     "name": "stdout",
     "output_type": "stream",
     "text": [
      "Endereço não encontrado por Nominatim: RUA BARAO DO MONTE ALTO, 100, BELO HORIZONTE, MG\n"
     ]
    },
    {
     "name": "stderr",
     "output_type": "stream",
     "text": [
      "  6%|▌         | 486/8657 [11:47<3:01:47,  1.33s/it]"
     ]
    },
    {
     "name": "stdout",
     "output_type": "stream",
     "text": [
      "Endereço não encontrado por Nominatim: RUA ADRIANO CHAVES E MATOS, 486, BELO HORIZONTE, MG\n"
     ]
    },
    {
     "name": "stderr",
     "output_type": "stream",
     "text": [
      "  6%|▌         | 499/8657 [12:12<8:48:13,  3.88s/it]"
     ]
    },
    {
     "name": "stderr",
     "output_type": "stream",
     "text": [
      "  7%|▋         | 598/8657 [14:55<9:30:54,  4.25s/it]"
     ]
    },
    {
     "name": "stdout",
     "output_type": "stream",
     "text": [
      "Endereço não encontrado por Nominatim: RD STAEL MARY BICALHO MOTTA MAGALHAES, 271, BELO HORIZONTE, MG\n"
     ]
    },
    {
     "name": "stderr",
     "output_type": "stream",
     "text": [
      "  7%|▋         | 600/8657 [14:57<6:16:26,  2.80s/it]"
     ]
    },
    {
     "name": "stdout",
     "output_type": "stream",
     "text": [
      "Endereço não encontrado por Nominatim: RUA ELIAS ANTONIO JORGE, 40, BELO HORIZONTE, MG\n"
     ]
    },
    {
     "name": "stderr",
     "output_type": "stream",
     "text": [
      "  7%|▋         | 616/8657 [15:27<3:52:53,  1.74s/it]"
     ]
    },
    {
     "name": "stdout",
     "output_type": "stream",
     "text": [
      "Endereço não encontrado por Nominatim: RUA RAUL GLORIA SILVA, 93, BELO HORIZONTE, MG\n"
     ]
    },
    {
     "name": "stderr",
     "output_type": "stream",
     "text": [
      "  7%|▋         | 620/8657 [15:41<8:12:34,  3.68s/it]"
     ]
    },
    {
     "name": "stdout",
     "output_type": "stream",
     "text": [
      "Endereço não encontrado por Nominatim: RUA ARACY GUIMARAES ROSA, 329, BELO HORIZONTE, MG\n"
     ]
    },
    {
     "name": "stderr",
     "output_type": "stream",
     "text": [
      "  7%|▋         | 625/8657 [15:58<6:10:54,  2.77s/it]"
     ]
    },
    {
     "name": "stdout",
     "output_type": "stream",
     "text": [
      "Endereço não encontrado por Nominatim: AV VICENTE PIMENTEL, 358, BELO HORIZONTE, MG\n"
     ]
    },
    {
     "name": "stderr",
     "output_type": "stream",
     "text": [
      "  8%|▊         | 660/8657 [16:40<2:48:00,  1.26s/it]"
     ]
    },
    {
     "name": "stdout",
     "output_type": "stream",
     "text": [
      "Endereço não encontrado por Nominatim: RUA LOURDES GONCALVES BARBOSA, 360, BELO HORIZONTE, MG\n"
     ]
    },
    {
     "name": "stderr",
     "output_type": "stream",
     "text": [
      "  8%|▊         | 678/8657 [17:01<2:29:44,  1.13s/it]"
     ]
    },
    {
     "name": "stdout",
     "output_type": "stream",
     "text": [
      "Endereço não encontrado por Nominatim: RUA ADRIANO CHAVES E MATOS, 486, BELO HORIZONTE, MG\n"
     ]
    },
    {
     "name": "stderr",
     "output_type": "stream",
     "text": [
      "  8%|▊         | 687/8657 [17:40<7:15:11,  3.28s/it]"
     ]
    },
    {
     "name": "stdout",
     "output_type": "stream",
     "text": [
      "Endereço não encontrado por Nominatim: RUA SAO JOAO DE MERITI, 100, BELO HORIZONTE, MG\n"
     ]
    },
    {
     "name": "stderr",
     "output_type": "stream",
     "text": [
      "  8%|▊         | 702/8657 [18:22<9:18:19,  4.21s/it]"
     ]
    },
    {
     "name": "stdout",
     "output_type": "stream",
     "text": [
      "Endereço não encontrado por Nominatim: RUA PADRE JOAO LIBANIO, 90, BELO HORIZONTE, MG\n"
     ]
    },
    {
     "name": "stderr",
     "output_type": "stream",
     "text": [
      " 10%|▉         | 849/8657 [25:18<4:27:52,  2.06s/it] "
     ]
    },
    {
     "name": "stdout",
     "output_type": "stream",
     "text": [
      "Endereço não encontrado por Nominatim: RUA RADIALISTA AFONSO DE CASTRO, 53, BELO HORIZONTE, MG\n"
     ]
    },
    {
     "name": "stderr",
     "output_type": "stream",
     "text": [
      " 10%|█         | 881/8657 [26:01<3:05:21,  1.43s/it]"
     ]
    },
    {
     "name": "stdout",
     "output_type": "stream",
     "text": [
      "Endereço não encontrado por Nominatim: RUA IZABEL CRISTINA, 85, BELO HORIZONTE, MG\n"
     ]
    },
    {
     "name": "stderr",
     "output_type": "stream",
     "text": [
      " 11%|█         | 934/8657 [27:12<2:34:12,  1.20s/it]"
     ]
    },
    {
     "name": "stdout",
     "output_type": "stream",
     "text": [
      "Endereço não encontrado por Nominatim: RUA LETA DE SOUZA ALVES, 317, BELO HORIZONTE, MG\n"
     ]
    },
    {
     "name": "stderr",
     "output_type": "stream",
     "text": [
      " 11%|█         | 938/8657 [27:17<2:41:24,  1.25s/it]"
     ]
    },
    {
     "name": "stdout",
     "output_type": "stream",
     "text": [
      "Endereço não encontrado por Nominatim: RUA JORNALISTA MAGDA LENARD, 155, BELO HORIZONTE, MG\n"
     ]
    },
    {
     "name": "stderr",
     "output_type": "stream",
     "text": [
      " 11%|█         | 957/8657 [28:40<12:11:22,  5.70s/it]"
     ]
    },
    {
     "name": "stdout",
     "output_type": "stream",
     "text": [
      "Endereço não encontrado por Nominatim: RUA CONDE DE SARZEDAS, 125, BELO HORIZONTE, MG\n"
     ]
    },
    {
     "name": "stderr",
     "output_type": "stream",
     "text": [
      " 11%|█▏        | 980/8657 [29:35<2:55:28,  1.37s/it] "
     ]
    },
    {
     "name": "stdout",
     "output_type": "stream",
     "text": [
      "Endereço não encontrado por Nominatim: RUA BATISTINA ANDRADE, 52, BELO HORIZONTE, MG\n"
     ]
    },
    {
     "name": "stderr",
     "output_type": "stream",
     "text": [
      " 12%|█▏        | 1006/8657 [30:08<2:38:37,  1.24s/it]"
     ]
    },
    {
     "name": "stdout",
     "output_type": "stream",
     "text": [
      "Endereço não encontrado por Nominatim: RUA DO FELICISSIMO, 325, BELO HORIZONTE, MG\n"
     ]
    },
    {
     "name": "stderr",
     "output_type": "stream",
     "text": [
      " 12%|█▏        | 1022/8657 [30:30<2:57:01,  1.39s/it]"
     ]
    },
    {
     "name": "stdout",
     "output_type": "stream",
     "text": [
      "Endereço não encontrado por Nominatim: RUA SUSANA MARIA, 20, BELO HORIZONTE, MG\n"
     ]
    },
    {
     "name": "stderr",
     "output_type": "stream",
     "text": [
      " 12%|█▏        | 1056/8657 [31:16<2:59:45,  1.42s/it]"
     ]
    },
    {
     "name": "stdout",
     "output_type": "stream",
     "text": [
      "Endereço não encontrado por Nominatim: RUA PINTOR DI CAVALCANTI, 139, BELO HORIZONTE, MG\n"
     ]
    },
    {
     "name": "stderr",
     "output_type": "stream",
     "text": [
      " 12%|█▏        | 1082/8657 [31:51<3:00:50,  1.43s/it]"
     ]
    },
    {
     "name": "stdout",
     "output_type": "stream",
     "text": [
      "Endereço não encontrado por Nominatim: RUA ADRIANO CHAVES E MATOS, 486, BELO HORIZONTE, MG\n"
     ]
    },
    {
     "name": "stderr",
     "output_type": "stream",
     "text": [
      " 13%|█▎        | 1085/8657 [31:54<2:34:20,  1.22s/it]"
     ]
    },
    {
     "name": "stdout",
     "output_type": "stream",
     "text": [
      "Endereço não encontrado por Nominatim: RUA MANOEL XAVIER MACEDO, 27, BELO HORIZONTE, MG\n"
     ]
    },
    {
     "name": "stderr",
     "output_type": "stream",
     "text": [
      " 13%|█▎        | 1108/8657 [32:25<2:27:31,  1.17s/it]"
     ]
    },
    {
     "name": "stdout",
     "output_type": "stream",
     "text": [
      "Endereço não encontrado por Nominatim: RD STAEL MARY BICALHO MOTTA MAGALHAES, 421, BELO HORIZONTE, MG\n"
     ]
    },
    {
     "name": "stderr",
     "output_type": "stream",
     "text": [
      " 13%|█▎        | 1115/8657 [32:34<2:49:19,  1.35s/it]"
     ]
    },
    {
     "name": "stdout",
     "output_type": "stream",
     "text": [
      "Endereço não encontrado por Nominatim: RUA LUIZ CANTANHEDE, 432, BELO HORIZONTE, MG\n"
     ]
    },
    {
     "name": "stderr",
     "output_type": "stream",
     "text": [
      " 13%|█▎        | 1124/8657 [32:44<2:14:25,  1.07s/it]"
     ]
    },
    {
     "name": "stdout",
     "output_type": "stream",
     "text": [
      "Endereço não encontrado por Nominatim: RUA AGEO PIO, 74, BELO HORIZONTE, MG\n"
     ]
    },
    {
     "name": "stderr",
     "output_type": "stream",
     "text": [
      " 14%|█▍        | 1238/8657 [35:02<2:29:42,  1.21s/it]"
     ]
    },
    {
     "name": "stdout",
     "output_type": "stream",
     "text": [
      "Endereço não encontrado por Nominatim: AV DESEMBARGADOR FELIPPE IMMESI, 371, BELO HORIZONTE, MG\n"
     ]
    },
    {
     "name": "stderr",
     "output_type": "stream",
     "text": [
      " 15%|█▍        | 1260/8657 [35:32<2:41:08,  1.31s/it]"
     ]
    },
    {
     "name": "stdout",
     "output_type": "stream",
     "text": [
      "Endereço não encontrado por Nominatim: RD STAEL MARY BICALHO MOTTA MAGALHAES, 317, BELO HORIZONTE, MG\n"
     ]
    },
    {
     "name": "stderr",
     "output_type": "stream",
     "text": [
      " 15%|█▍        | 1267/8657 [35:42<2:48:57,  1.37s/it]"
     ]
    },
    {
     "name": "stdout",
     "output_type": "stream",
     "text": [
      "Endereço não encontrado por Nominatim: RUA NOSSA SENHORA D'AJUDA, 11, BELO HORIZONTE, MG\n"
     ]
    },
    {
     "name": "stderr",
     "output_type": "stream",
     "text": [
      " 15%|█▍        | 1273/8657 [35:49<2:37:25,  1.28s/it]"
     ]
    },
    {
     "name": "stdout",
     "output_type": "stream",
     "text": [
      "Endereço não encontrado por Nominatim: RUA BARAO DO MONTE ALTO, 537, BELO HORIZONTE, MG\n"
     ]
    },
    {
     "name": "stderr",
     "output_type": "stream",
     "text": [
      " 15%|█▍        | 1277/8657 [35:54<2:22:52,  1.16s/it]"
     ]
    },
    {
     "name": "stdout",
     "output_type": "stream",
     "text": [
      "Endereço não encontrado por Nominatim: RUA CHRISTIANO MARTINS DA SILVA, 269, BELO HORIZONTE, MG\n"
     ]
    },
    {
     "name": "stderr",
     "output_type": "stream",
     "text": [
      " 15%|█▍        | 1294/8657 [36:14<2:18:56,  1.13s/it]"
     ]
    },
    {
     "name": "stdout",
     "output_type": "stream",
     "text": [
      "Endereço não encontrado por Nominatim: RUA DESENGANO, 132, BELO HORIZONTE, MG\n"
     ]
    },
    {
     "name": "stderr",
     "output_type": "stream",
     "text": [
      " 15%|█▌        | 1299/8657 [36:21<2:56:42,  1.44s/it]"
     ]
    },
    {
     "name": "stdout",
     "output_type": "stream",
     "text": [
      "Endereço não encontrado por Nominatim: RUA ADRIANO CHAVES E MATOS, 100, BELO HORIZONTE, MG\n"
     ]
    },
    {
     "name": "stderr",
     "output_type": "stream",
     "text": [
      " 15%|█▌        | 1314/8657 [36:42<2:35:10,  1.27s/it]"
     ]
    },
    {
     "name": "stdout",
     "output_type": "stream",
     "text": [
      "Endereço não encontrado por Nominatim: RD BR TREZENTOS E CINQUENTA E SEIS, 3049, BELO HORIZONTE, MG\n"
     ]
    },
    {
     "name": "stderr",
     "output_type": "stream",
     "text": [
      " 15%|█▌        | 1331/8657 [37:06<2:41:37,  1.32s/it]"
     ]
    },
    {
     "name": "stdout",
     "output_type": "stream",
     "text": [
      "Endereço não encontrado por Nominatim: RUA LUCIO XAVIER DE OLIVEIRA, 245, BELO HORIZONTE, MG\n"
     ]
    },
    {
     "name": "stderr",
     "output_type": "stream",
     "text": [
      " 16%|█▌        | 1346/8657 [37:28<2:45:34,  1.36s/it]"
     ]
    },
    {
     "name": "stdout",
     "output_type": "stream",
     "text": [
      "Endereço não encontrado por Nominatim: RUA AUGUSTA PASSOS MAIA, 7, BELO HORIZONTE, MG\n"
     ]
    },
    {
     "name": "stderr",
     "output_type": "stream",
     "text": [
      " 16%|█▌        | 1369/8657 [37:59<2:41:44,  1.33s/it]"
     ]
    },
    {
     "name": "stdout",
     "output_type": "stream",
     "text": [
      "Endereço não encontrado por Nominatim: RUA ADAIR VIEIRA COSTA, 165, BELO HORIZONTE, MG\n"
     ]
    },
    {
     "name": "stderr",
     "output_type": "stream",
     "text": [
      " 16%|█▌        | 1377/8657 [38:11<2:36:27,  1.29s/it]"
     ]
    },
    {
     "name": "stdout",
     "output_type": "stream",
     "text": [
      "Endereço não encontrado por Nominatim: RUA OTACILIA RODRIGUES PEREIRA, 33, BELO HORIZONTE, MG\n"
     ]
    },
    {
     "name": "stderr",
     "output_type": "stream",
     "text": [
      " 16%|█▋        | 1411/8657 [38:56<2:44:56,  1.37s/it]"
     ]
    },
    {
     "name": "stdout",
     "output_type": "stream",
     "text": [
      "Endereço não encontrado por Nominatim: RUA PADRE CANDINHO, 111, BELO HORIZONTE, MG\n"
     ]
    },
    {
     "name": "stderr",
     "output_type": "stream",
     "text": [
      " 17%|█▋        | 1442/8657 [39:41<3:25:02,  1.71s/it]"
     ]
    },
    {
     "name": "stdout",
     "output_type": "stream",
     "text": [
      "Endereço não encontrado por Nominatim: RUA TRINTA DE JUNHO, 150, BELO HORIZONTE, MG\n"
     ]
    },
    {
     "name": "stderr",
     "output_type": "stream",
     "text": [
      " 17%|█▋        | 1449/8657 [39:52<2:58:15,  1.48s/it]"
     ]
    },
    {
     "name": "stdout",
     "output_type": "stream",
     "text": [
      "Endereço não encontrado por Nominatim: RD BR TREZENTOS E CINQUENTA E SEIS, 3049, BELO HORIZONTE, MG\n"
     ]
    },
    {
     "name": "stderr",
     "output_type": "stream",
     "text": [
      " 17%|█▋        | 1450/8657 [39:54<2:58:05,  1.48s/it]"
     ]
    },
    {
     "name": "stdout",
     "output_type": "stream",
     "text": [
      "Endereço não encontrado por Nominatim: RUA OTAVIO TARQUINIO DE SOUZA, 274, BELO HORIZONTE, MG\n"
     ]
    },
    {
     "name": "stderr",
     "output_type": "stream",
     "text": [
      " 17%|█▋        | 1480/8657 [40:36<2:35:04,  1.30s/it]"
     ]
    },
    {
     "name": "stdout",
     "output_type": "stream",
     "text": [
      "Endereço não encontrado por Nominatim: RUA CHRISTINA MARIA ASSIS, 205, BELO HORIZONTE, MG\n"
     ]
    },
    {
     "name": "stderr",
     "output_type": "stream",
     "text": [
      " 17%|█▋        | 1487/8657 [40:45<2:32:10,  1.27s/it]"
     ]
    },
    {
     "name": "stdout",
     "output_type": "stream",
     "text": [
      "Endereço não encontrado por Nominatim: RUA DONA GIUSEPPELA, 241, BELO HORIZONTE, MG\n"
     ]
    },
    {
     "name": "stderr",
     "output_type": "stream",
     "text": [
      " 17%|█▋        | 1499/8657 [41:01<2:51:39,  1.44s/it]"
     ]
    },
    {
     "name": "stdout",
     "output_type": "stream",
     "text": [
      "Endereço não encontrado por Nominatim: RUA BARAO DO MONTE ALTO, 17, BELO HORIZONTE, MG\n"
     ]
    },
    {
     "name": "stderr",
     "output_type": "stream",
     "text": [
      " 18%|█▊        | 1532/8657 [41:47<2:55:19,  1.48s/it]"
     ]
    },
    {
     "name": "stdout",
     "output_type": "stream",
     "text": [
      "Endereço não encontrado por Nominatim: RUA CRISANTO MUNIZ, 257, BELO HORIZONTE, MG\n"
     ]
    },
    {
     "name": "stderr",
     "output_type": "stream",
     "text": [
      " 18%|█▊        | 1561/8657 [42:28<2:38:45,  1.34s/it]"
     ]
    },
    {
     "name": "stdout",
     "output_type": "stream",
     "text": [
      "Endereço não encontrado por Nominatim: RUA COSTA SENNA, 441, BELO HORIZONTE, MG\n"
     ]
    },
    {
     "name": "stderr",
     "output_type": "stream",
     "text": [
      " 18%|█▊        | 1588/8657 [43:05<2:51:30,  1.46s/it]"
     ]
    },
    {
     "name": "stdout",
     "output_type": "stream",
     "text": [
      "Endereço não encontrado por Nominatim: RUA EDEZIA CORREA RABELO, 71, BELO HORIZONTE, MG\n"
     ]
    },
    {
     "name": "stderr",
     "output_type": "stream",
     "text": [
      " 19%|█▊        | 1621/8657 [43:47<2:38:13,  1.35s/it]"
     ]
    },
    {
     "name": "stdout",
     "output_type": "stream",
     "text": [
      "Endereço não encontrado por Nominatim: PC CARDEAL ARCO VERDE, 83, BELO HORIZONTE, MG\n"
     ]
    },
    {
     "name": "stderr",
     "output_type": "stream",
     "text": [
      " 19%|█▉        | 1653/8657 [44:28<2:30:30,  1.29s/it]"
     ]
    },
    {
     "name": "stdout",
     "output_type": "stream",
     "text": [
      "Endereço não encontrado por Nominatim: RUA JOAQUIM DE FIGUEIREDO, 176, BELO HORIZONTE, MG\n"
     ]
    },
    {
     "name": "stderr",
     "output_type": "stream",
     "text": [
      " 20%|█▉        | 1696/8657 [45:23<2:37:57,  1.36s/it]"
     ]
    },
    {
     "name": "stdout",
     "output_type": "stream",
     "text": [
      "Endereço não encontrado por Nominatim: RUA WALTER DINIZ CAMARGOS, 213, BELO HORIZONTE, MG\n"
     ]
    },
    {
     "name": "stderr",
     "output_type": "stream",
     "text": [
      " 20%|█▉        | 1707/8657 [45:36<2:13:27,  1.15s/it]"
     ]
    },
    {
     "name": "stdout",
     "output_type": "stream",
     "text": [
      "Endereço não encontrado por Nominatim: RUA VAGNER DA SILVA MARQUES, 223, BELO HORIZONTE, MG\n"
     ]
    },
    {
     "name": "stderr",
     "output_type": "stream",
     "text": [
      " 20%|█▉        | 1718/8657 [45:50<2:07:10,  1.10s/it]"
     ]
    },
    {
     "name": "stdout",
     "output_type": "stream",
     "text": [
      "Endereço não encontrado por Nominatim: RD BR TREZENTOS E CINQUENTA E SEIS, 7515, BELO HORIZONTE, MG\n"
     ]
    },
    {
     "name": "stderr",
     "output_type": "stream",
     "text": [
      " 20%|█▉        | 1724/8657 [45:56<2:06:08,  1.09s/it]"
     ]
    },
    {
     "name": "stdout",
     "output_type": "stream",
     "text": [
      "Endereço não encontrado por Nominatim: RD BR TREZENTOS E CINQUENTA E SEIS, 3049, BELO HORIZONTE, MG\n"
     ]
    },
    {
     "name": "stderr",
     "output_type": "stream",
     "text": [
      " 20%|██        | 1747/8657 [46:29<2:04:23,  1.08s/it]"
     ]
    },
    {
     "name": "stdout",
     "output_type": "stream",
     "text": [
      "Endereço não encontrado por Nominatim: RUA ANACYR DE ABREU, 126, BELO HORIZONTE, MG\n"
     ]
    },
    {
     "name": "stderr",
     "output_type": "stream",
     "text": [
      " 20%|██        | 1768/8657 [46:55<2:14:11,  1.17s/it]"
     ]
    },
    {
     "name": "stdout",
     "output_type": "stream",
     "text": [
      "Endereço não encontrado por Nominatim: RUA CHRISTINA MARIA ASSIS, 593, BELO HORIZONTE, MG\n"
     ]
    },
    {
     "name": "stderr",
     "output_type": "stream",
     "text": [
      " 21%|██        | 1822/8657 [48:06<2:21:32,  1.24s/it]"
     ]
    },
    {
     "name": "stdout",
     "output_type": "stream",
     "text": [
      "Endereço não encontrado por Nominatim: RUA JOAQUIM VIEIRA TORRES, 107, BELO HORIZONTE, MG\n"
     ]
    },
    {
     "name": "stderr",
     "output_type": "stream",
     "text": [
      " 21%|██▏       | 1861/8657 [48:55<2:06:32,  1.12s/it]"
     ]
    },
    {
     "name": "stdout",
     "output_type": "stream",
     "text": [
      "Endereço não encontrado por Nominatim: RUA CAISSARA, 672, BELO HORIZONTE, MG\n"
     ]
    },
    {
     "name": "stderr",
     "output_type": "stream",
     "text": [
      " 22%|██▏       | 1872/8657 [49:10<2:23:07,  1.27s/it]"
     ]
    },
    {
     "name": "stdout",
     "output_type": "stream",
     "text": [
      "Endereço não encontrado por Nominatim: BC PARAISO, 3, BELO HORIZONTE, MG\n"
     ]
    },
    {
     "name": "stderr",
     "output_type": "stream",
     "text": [
      " 22%|██▏       | 1918/8657 [50:12<2:27:55,  1.32s/it]"
     ]
    },
    {
     "name": "stdout",
     "output_type": "stream",
     "text": [
      "Endereço não encontrado por Nominatim: RUA BARAO DO MONTE ALTO, 177, BELO HORIZONTE, MG\n"
     ]
    },
    {
     "name": "stderr",
     "output_type": "stream",
     "text": [
      " 22%|██▏       | 1938/8657 [50:39<2:15:55,  1.21s/it]"
     ]
    },
    {
     "name": "stdout",
     "output_type": "stream",
     "text": [
      "Endereço não encontrado por Nominatim: TRV URUGUAI, 9, BELO HORIZONTE, MG\n"
     ]
    },
    {
     "name": "stderr",
     "output_type": "stream",
     "text": [
      " 22%|██▏       | 1940/8657 [50:41<2:03:42,  1.11s/it]"
     ]
    },
    {
     "name": "stdout",
     "output_type": "stream",
     "text": [
      "Endereço não encontrado por Nominatim: RUA MARIZA AFONSO, 181, BELO HORIZONTE, MG\n"
     ]
    },
    {
     "name": "stderr",
     "output_type": "stream",
     "text": [
      " 22%|██▏       | 1946/8657 [50:48<2:14:19,  1.20s/it]"
     ]
    },
    {
     "name": "stdout",
     "output_type": "stream",
     "text": [
      "Endereço não encontrado por Nominatim: RD BR TREZENTOS E CINQUENTA E SEIS, 3049, BELO HORIZONTE, MG\n"
     ]
    },
    {
     "name": "stderr",
     "output_type": "stream",
     "text": [
      " 23%|██▎       | 1977/8657 [51:29<2:35:11,  1.39s/it]"
     ]
    },
    {
     "name": "stdout",
     "output_type": "stream",
     "text": [
      "Endereço não encontrado por Nominatim: RD CAMILO TEIXEIRA DA COSTA, 45, BELO HORIZONTE, MG\n"
     ]
    },
    {
     "name": "stderr",
     "output_type": "stream",
     "text": [
      " 23%|██▎       | 2011/8657 [52:09<2:06:22,  1.14s/it]"
     ]
    },
    {
     "name": "stdout",
     "output_type": "stream",
     "text": [
      "Endereço não encontrado por Nominatim: RD BR TREZENTOS E CINQUENTA E SEIS, 3049, BELO HORIZONTE, MG\n"
     ]
    },
    {
     "name": "stderr",
     "output_type": "stream",
     "text": [
      " 24%|██▍       | 2082/8657 [53:40<2:27:21,  1.34s/it]"
     ]
    },
    {
     "name": "stdout",
     "output_type": "stream",
     "text": [
      "Endereço não encontrado por Nominatim: AV PROFESSOR EDMUNDO FONTENELLE, 98, BELO HORIZONTE, MG\n"
     ]
    },
    {
     "name": "stderr",
     "output_type": "stream",
     "text": [
      " 24%|██▍       | 2090/8657 [53:51<2:25:05,  1.33s/it]"
     ]
    },
    {
     "name": "stdout",
     "output_type": "stream",
     "text": [
      "Endereço não encontrado por Nominatim: RUA ADRIANO CHAVES E MATOS, 100, BELO HORIZONTE, MG\n"
     ]
    },
    {
     "name": "stderr",
     "output_type": "stream",
     "text": [
      " 24%|██▍       | 2093/8657 [53:56<2:51:04,  1.56s/it]"
     ]
    },
    {
     "name": "stdout",
     "output_type": "stream",
     "text": [
      "Endereço não encontrado por Nominatim: RUA AVE DO PARAISO, 230, BELO HORIZONTE, MG\n"
     ]
    },
    {
     "name": "stderr",
     "output_type": "stream",
     "text": [
      " 24%|██▍       | 2107/8657 [54:16<2:55:52,  1.61s/it]"
     ]
    },
    {
     "name": "stdout",
     "output_type": "stream",
     "text": [
      "Endereço não encontrado por Nominatim: RUA ODILA GONCALVES, 52, BELO HORIZONTE, MG\n"
     ]
    },
    {
     "name": "stderr",
     "output_type": "stream",
     "text": [
      " 24%|██▍       | 2113/8657 [54:25<2:37:17,  1.44s/it]"
     ]
    },
    {
     "name": "stdout",
     "output_type": "stream",
     "text": [
      "Endereço não encontrado por Nominatim: RUA LUIZ CANTANHEDE, 183, BELO HORIZONTE, MG\n"
     ]
    },
    {
     "name": "stderr",
     "output_type": "stream",
     "text": [
      " 24%|██▍       | 2117/8657 [54:31<2:31:33,  1.39s/it]"
     ]
    },
    {
     "name": "stdout",
     "output_type": "stream",
     "text": [
      "Endereço não encontrado por Nominatim: RUA FRANCISCO VERNHAGEM, 120, BELO HORIZONTE, MG\n"
     ]
    },
    {
     "name": "stderr",
     "output_type": "stream",
     "text": [
      " 25%|██▍       | 2164/8657 [55:33<2:56:58,  1.64s/it]"
     ]
    },
    {
     "name": "stdout",
     "output_type": "stream",
     "text": [
      "Endereço não encontrado por Nominatim: RUA NAIR TELES DOS SANTOS, 17, BELO HORIZONTE, MG\n"
     ]
    },
    {
     "name": "stderr",
     "output_type": "stream",
     "text": [
      " 27%|██▋       | 2303/8657 [58:58<2:36:22,  1.48s/it]"
     ]
    },
    {
     "name": "stdout",
     "output_type": "stream",
     "text": [
      "Endereço não encontrado por Nominatim: BC DO EDSON, 35, BELO HORIZONTE, MG\n"
     ]
    },
    {
     "name": "stderr",
     "output_type": "stream",
     "text": [
      " 27%|██▋       | 2343/8657 [59:58<2:36:54,  1.49s/it]"
     ]
    },
    {
     "name": "stdout",
     "output_type": "stream",
     "text": [
      "Endereço não encontrado por Nominatim: RUA JOSE ANGELO CUSTODIO, 140, BELO HORIZONTE, MG\n"
     ]
    },
    {
     "name": "stderr",
     "output_type": "stream",
     "text": [
      " 28%|██▊       | 2402/8657 [1:01:29<2:43:57,  1.57s/it]"
     ]
    },
    {
     "name": "stdout",
     "output_type": "stream",
     "text": [
      "Endereço não encontrado por Nominatim: PC CARLOS CHAGAS, 59, BELO HORIZONTE, MG\n"
     ]
    },
    {
     "name": "stderr",
     "output_type": "stream",
     "text": [
      " 28%|██▊       | 2423/8657 [1:02:00<2:24:53,  1.39s/it]"
     ]
    },
    {
     "name": "stdout",
     "output_type": "stream",
     "text": [
      "Endereço não encontrado por Nominatim: RUA LUIS, 256, BELO HORIZONTE, MG\n"
     ]
    },
    {
     "name": "stderr",
     "output_type": "stream",
     "text": [
      " 28%|██▊       | 2428/8657 [1:02:07<2:28:03,  1.43s/it]"
     ]
    },
    {
     "name": "stdout",
     "output_type": "stream",
     "text": [
      "Endereço não encontrado por Nominatim: RUA MARIA DOMINGAS DA ROCHA, 39, BELO HORIZONTE, MG\n"
     ]
    },
    {
     "name": "stderr",
     "output_type": "stream",
     "text": [
      " 28%|██▊       | 2438/8657 [1:02:22<2:23:54,  1.39s/it]"
     ]
    },
    {
     "name": "stdout",
     "output_type": "stream",
     "text": [
      "Endereço não encontrado por Nominatim: RUA BARAO DO MONTE ALTO, 942, BELO HORIZONTE, MG\n"
     ]
    },
    {
     "name": "stderr",
     "output_type": "stream",
     "text": [
      " 28%|██▊       | 2465/8657 [1:03:02<2:20:58,  1.37s/it]"
     ]
    },
    {
     "name": "stdout",
     "output_type": "stream",
     "text": [
      "Endereço não encontrado por Nominatim: RUA ARTHUR LUCCHESI, 730, BELO HORIZONTE, MG\n"
     ]
    },
    {
     "name": "stderr",
     "output_type": "stream",
     "text": [
      " 28%|██▊       | 2467/8657 [1:03:05<2:22:09,  1.38s/it]"
     ]
    },
    {
     "name": "stdout",
     "output_type": "stream",
     "text": [
      "Endereço não encontrado por Nominatim: RD BR TREZENTOS E CINQUENTA E SEIS, 3049, BELO HORIZONTE, MG\n"
     ]
    },
    {
     "name": "stderr",
     "output_type": "stream",
     "text": [
      " 29%|██▉       | 2498/8657 [1:04:05<3:59:41,  2.34s/it]"
     ]
    },
    {
     "name": "stdout",
     "output_type": "stream",
     "text": [
      "Endereço não encontrado por Nominatim: RUA ALVARO DA SILVEIRA, 38, BELO HORIZONTE, MG\n"
     ]
    },
    {
     "name": "stderr",
     "output_type": "stream",
     "text": [
      " 29%|██▉       | 2519/8657 [1:04:34<2:22:21,  1.39s/it]"
     ]
    },
    {
     "name": "stdout",
     "output_type": "stream",
     "text": [
      "Endereço não encontrado por Nominatim: RUA BOLIVAR CORREA DE FARIA, 54, BELO HORIZONTE, MG\n"
     ]
    },
    {
     "name": "stderr",
     "output_type": "stream",
     "text": [
      " 29%|██▉       | 2530/8657 [1:04:47<1:58:57,  1.16s/it]"
     ]
    },
    {
     "name": "stdout",
     "output_type": "stream",
     "text": [
      "Endereço não encontrado por Nominatim: RUA EDMON DE SOUSA MELO, 279, BELO HORIZONTE, MG\n"
     ]
    },
    {
     "name": "stderr",
     "output_type": "stream",
     "text": [
      " 30%|██▉       | 2579/8657 [1:05:49<2:16:04,  1.34s/it]"
     ]
    },
    {
     "name": "stdout",
     "output_type": "stream",
     "text": [
      "Endereço não encontrado por Nominatim: RD CAMILO TEIXEIRA DA COSTA, 196, BELO HORIZONTE, MG\n"
     ]
    },
    {
     "name": "stderr",
     "output_type": "stream",
     "text": [
      " 30%|██▉       | 2585/8657 [1:05:56<1:57:40,  1.16s/it]"
     ]
    },
    {
     "name": "stdout",
     "output_type": "stream",
     "text": [
      "Endereço não encontrado por Nominatim: PC DOIS MIL NOVENTA E QUATRO, 770, BELO HORIZONTE, MG\n"
     ]
    },
    {
     "name": "stderr",
     "output_type": "stream",
     "text": [
      " 30%|███       | 2628/8657 [1:06:51<2:06:16,  1.26s/it]"
     ]
    },
    {
     "name": "stdout",
     "output_type": "stream",
     "text": [
      "Endereço não encontrado por Nominatim: RUA PINTOR DI CAVALCANTI, 406, BELO HORIZONTE, MG\n"
     ]
    },
    {
     "name": "stderr",
     "output_type": "stream",
     "text": [
      " 30%|███       | 2630/8657 [1:06:54<1:58:07,  1.18s/it]"
     ]
    },
    {
     "name": "stdout",
     "output_type": "stream",
     "text": [
      "Endereço não encontrado por Nominatim: RUA QUINHENTOS E QUINZE, 90, BELO HORIZONTE, MG\n"
     ]
    },
    {
     "name": "stderr",
     "output_type": "stream",
     "text": [
      " 30%|███       | 2636/8657 [1:07:01<2:09:18,  1.29s/it]"
     ]
    },
    {
     "name": "stdout",
     "output_type": "stream",
     "text": [
      "Endereço não encontrado por Nominatim: RUA WANIA CARVALHO SILVEIRA, 33, BELO HORIZONTE, MG\n"
     ]
    },
    {
     "name": "stderr",
     "output_type": "stream",
     "text": [
      " 31%|███       | 2664/8657 [1:07:39<1:59:21,  1.19s/it]"
     ]
    },
    {
     "name": "stdout",
     "output_type": "stream",
     "text": [
      "Endereço não encontrado por Nominatim: RUA JORNALISTA HELVIDIO PRISCO, 98, BELO HORIZONTE, MG\n"
     ]
    },
    {
     "name": "stderr",
     "output_type": "stream",
     "text": [
      " 31%|███       | 2683/8657 [1:08:02<2:14:47,  1.35s/it]"
     ]
    },
    {
     "name": "stdout",
     "output_type": "stream",
     "text": [
      "Endereço não encontrado por Nominatim: RUA ENY, 53, BELO HORIZONTE, MG\n"
     ]
    },
    {
     "name": "stderr",
     "output_type": "stream",
     "text": [
      " 31%|███       | 2691/8657 [1:08:12<1:52:46,  1.13s/it]"
     ]
    },
    {
     "name": "stdout",
     "output_type": "stream",
     "text": [
      "Endereço não encontrado por Nominatim: RUA CAISSARA, 344, BELO HORIZONTE, MG\n"
     ]
    },
    {
     "name": "stderr",
     "output_type": "stream",
     "text": [
      " 31%|███       | 2700/8657 [1:08:23<1:53:39,  1.14s/it]"
     ]
    },
    {
     "name": "stdout",
     "output_type": "stream",
     "text": [
      "Endereço não encontrado por Nominatim: RUA EDEWELS BARCELOS, 178, BELO HORIZONTE, MG\n"
     ]
    },
    {
     "name": "stderr",
     "output_type": "stream",
     "text": [
      " 32%|███▏      | 2746/8657 [1:09:24<2:32:43,  1.55s/it]"
     ]
    },
    {
     "name": "stdout",
     "output_type": "stream",
     "text": [
      "Endereço não encontrado por Nominatim: RUA GERALDO ROSA FILHO, 140, BELO HORIZONTE, MG\n"
     ]
    },
    {
     "name": "stderr",
     "output_type": "stream",
     "text": [
      " 32%|███▏      | 2767/8657 [1:09:50<2:47:08,  1.70s/it]"
     ]
    },
    {
     "name": "stdout",
     "output_type": "stream",
     "text": [
      "Endereço não encontrado por Nominatim: RUA CARMELA PEZZUTI, 15, BELO HORIZONTE, MG\n"
     ]
    },
    {
     "name": "stderr",
     "output_type": "stream",
     "text": [
      " 32%|███▏      | 2787/8657 [1:10:19<2:34:05,  1.58s/it]"
     ]
    },
    {
     "name": "stdout",
     "output_type": "stream",
     "text": [
      "Endereço não encontrado por Nominatim: RUA MARIA GERTRUDES SANTOS, 980, BELO HORIZONTE, MG\n"
     ]
    },
    {
     "name": "stderr",
     "output_type": "stream",
     "text": [
      " 32%|███▏      | 2789/8657 [1:10:22<2:22:07,  1.45s/it]"
     ]
    },
    {
     "name": "stdout",
     "output_type": "stream",
     "text": [
      "Endereço não encontrado por Nominatim: RUA ENY, 159, BELO HORIZONTE, MG\n"
     ]
    },
    {
     "name": "stderr",
     "output_type": "stream",
     "text": [
      " 32%|███▏      | 2792/8657 [1:10:26<2:17:52,  1.41s/it]"
     ]
    },
    {
     "name": "stdout",
     "output_type": "stream",
     "text": [
      "Endereço não encontrado por Nominatim: AL CHICO MENDES, 52, BELO HORIZONTE, MG\n"
     ]
    },
    {
     "name": "stderr",
     "output_type": "stream",
     "text": [
      " 32%|███▏      | 2796/8657 [1:10:32<2:34:02,  1.58s/it]"
     ]
    },
    {
     "name": "stdout",
     "output_type": "stream",
     "text": [
      "Endereço não encontrado por Nominatim: RUA QUINZE DE ABRIL, 75, BELO HORIZONTE, MG\n"
     ]
    },
    {
     "name": "stderr",
     "output_type": "stream",
     "text": [
      " 32%|███▏      | 2812/8657 [1:10:55<2:28:40,  1.53s/it]"
     ]
    },
    {
     "name": "stdout",
     "output_type": "stream",
     "text": [
      "Endereço não encontrado por Nominatim: AV VICENTE PIMENTEL, 358, BELO HORIZONTE, MG\n"
     ]
    },
    {
     "name": "stderr",
     "output_type": "stream",
     "text": [
      " 33%|███▎      | 2878/8657 [1:12:29<2:07:48,  1.33s/it]"
     ]
    },
    {
     "name": "stdout",
     "output_type": "stream",
     "text": [
      "Endereço não encontrado por Nominatim: RUA DAVID FONSECA, 127, BELO HORIZONTE, MG\n"
     ]
    },
    {
     "name": "stderr",
     "output_type": "stream",
     "text": [
      " 34%|███▎      | 2916/8657 [1:13:20<1:59:14,  1.25s/it]"
     ]
    },
    {
     "name": "stdout",
     "output_type": "stream",
     "text": [
      "Endereço não encontrado por Nominatim: RUA ALTIVO MARCIO RIBEIRO, 80, BELO HORIZONTE, MG\n"
     ]
    },
    {
     "name": "stderr",
     "output_type": "stream",
     "text": [
      " 34%|███▍      | 2930/8657 [1:13:40<2:00:59,  1.27s/it]"
     ]
    },
    {
     "name": "stdout",
     "output_type": "stream",
     "text": [
      "Endereço não encontrado por Nominatim: RUA CRISANTO MUNIZ, 39, BELO HORIZONTE, MG\n"
     ]
    },
    {
     "name": "stderr",
     "output_type": "stream",
     "text": [
      " 34%|███▍      | 2931/8657 [1:13:42<1:59:55,  1.26s/it]"
     ]
    },
    {
     "name": "stdout",
     "output_type": "stream",
     "text": [
      "Endereço não encontrado por Nominatim: RUA OLYMPIO PEREZ MUNHOZ, 124, BELO HORIZONTE, MG\n"
     ]
    },
    {
     "name": "stderr",
     "output_type": "stream",
     "text": [
      " 34%|███▍      | 2942/8657 [1:13:57<2:04:27,  1.31s/it]"
     ]
    },
    {
     "name": "stdout",
     "output_type": "stream",
     "text": [
      "Endereço não encontrado por Nominatim: BC DAS AMORAS, 21, BELO HORIZONTE, MG\n"
     ]
    },
    {
     "name": "stderr",
     "output_type": "stream",
     "text": [
      " 34%|███▍      | 2970/8657 [1:14:41<1:53:25,  1.20s/it]"
     ]
    },
    {
     "name": "stdout",
     "output_type": "stream",
     "text": [
      "Endereço não encontrado por Nominatim: RUA PROFESSOR LICIO ASSAD, 52, BELO HORIZONTE, MG\n"
     ]
    },
    {
     "name": "stderr",
     "output_type": "stream",
     "text": [
      " 34%|███▍      | 2981/8657 [1:14:58<2:11:33,  1.39s/it]"
     ]
    },
    {
     "name": "stdout",
     "output_type": "stream",
     "text": [
      "Endereço não encontrado por Nominatim: RUA SAMUEL PERES SIQUEIRA, 151, BELO HORIZONTE, MG\n"
     ]
    },
    {
     "name": "stderr",
     "output_type": "stream",
     "text": [
      " 35%|███▍      | 3003/8657 [1:15:33<2:46:39,  1.77s/it]"
     ]
    },
    {
     "name": "stdout",
     "output_type": "stream",
     "text": [
      "Endereço não encontrado por Nominatim: RUA COSTA SENNA, 1699, BELO HORIZONTE, MG\n"
     ]
    },
    {
     "name": "stderr",
     "output_type": "stream",
     "text": [
      " 35%|███▌      | 3072/8657 [1:17:07<2:32:09,  1.63s/it]"
     ]
    },
    {
     "name": "stdout",
     "output_type": "stream",
     "text": [
      "Endereço não encontrado por Nominatim: RD ANEL RODOVIARIO CELSO MELLO AZEVEDO, 11, BELO HORIZONTE, MG\n"
     ]
    },
    {
     "name": "stderr",
     "output_type": "stream",
     "text": [
      " 36%|███▌      | 3078/8657 [1:17:14<2:03:19,  1.33s/it]"
     ]
    },
    {
     "name": "stdout",
     "output_type": "stream",
     "text": [
      "Endereço não encontrado por Nominatim: RUA JORNALISTA MAGDA LENARD, 155, BELO HORIZONTE, MG\n"
     ]
    },
    {
     "name": "stderr",
     "output_type": "stream",
     "text": [
      " 36%|███▌      | 3092/8657 [1:17:36<2:30:34,  1.62s/it]"
     ]
    },
    {
     "name": "stdout",
     "output_type": "stream",
     "text": [
      "Endereço não encontrado por Nominatim: PC SAO VICENTE DE PAULO, 36, BELO HORIZONTE, MG\n"
     ]
    },
    {
     "name": "stderr",
     "output_type": "stream",
     "text": [
      " 36%|███▌      | 3095/8657 [1:17:40<2:15:50,  1.47s/it]"
     ]
    },
    {
     "name": "stdout",
     "output_type": "stream",
     "text": [
      "Endereço não encontrado por Nominatim: RUA MAJOR DELFINO DE PAULA, 2745, BELO HORIZONTE, MG\n"
     ]
    },
    {
     "name": "stderr",
     "output_type": "stream",
     "text": [
      " 36%|███▌      | 3104/8657 [1:17:52<2:11:48,  1.42s/it]"
     ]
    },
    {
     "name": "stdout",
     "output_type": "stream",
     "text": [
      "Endereço não encontrado por Nominatim: RUA BERNARDINO THEODORO DA SILVA, 86, BELO HORIZONTE, MG\n"
     ]
    },
    {
     "name": "stderr",
     "output_type": "stream",
     "text": [
      " 36%|███▌      | 3108/8657 [1:17:59<2:42:41,  1.76s/it]"
     ]
    },
    {
     "name": "stdout",
     "output_type": "stream",
     "text": [
      "Endereço não encontrado por Nominatim: RUA JONAS LINS DE OLIVEIRA, 96, BELO HORIZONTE, MG\n"
     ]
    },
    {
     "name": "stderr",
     "output_type": "stream",
     "text": [
      " 36%|███▌      | 3123/8657 [1:18:20<2:02:21,  1.33s/it]"
     ]
    },
    {
     "name": "stdout",
     "output_type": "stream",
     "text": [
      "Endereço não encontrado por Nominatim: RUA MARIA DA MATTA CASTRO, 165, BELO HORIZONTE, MG\n"
     ]
    },
    {
     "name": "stderr",
     "output_type": "stream",
     "text": [
      " 36%|███▌      | 3124/8657 [1:18:22<2:02:41,  1.33s/it]"
     ]
    },
    {
     "name": "stdout",
     "output_type": "stream",
     "text": [
      "Endereço não encontrado por Nominatim: RUA MARIA DA MATTA CASTRO, 165, BELO HORIZONTE, MG\n"
     ]
    },
    {
     "name": "stderr",
     "output_type": "stream",
     "text": [
      " 36%|███▌      | 3128/8657 [1:18:27<1:58:41,  1.29s/it]"
     ]
    },
    {
     "name": "stdout",
     "output_type": "stream",
     "text": [
      "Endereço não encontrado por Nominatim: RUA PADRE CANDINHO, 117, BELO HORIZONTE, MG\n"
     ]
    },
    {
     "name": "stderr",
     "output_type": "stream",
     "text": [
      " 36%|███▌      | 3138/8657 [1:18:42<2:17:39,  1.50s/it]"
     ]
    },
    {
     "name": "stdout",
     "output_type": "stream",
     "text": [
      "Endereço não encontrado por Nominatim: RUA PROFESSOR GERSON BOSON, 5, BELO HORIZONTE, MG\n"
     ]
    },
    {
     "name": "stderr",
     "output_type": "stream",
     "text": [
      " 37%|███▋      | 3164/8657 [1:19:15<1:53:23,  1.24s/it]"
     ]
    },
    {
     "name": "stdout",
     "output_type": "stream",
     "text": [
      "Endereço não encontrado por Nominatim: RUA CORONEL MANOEL ASSUNCAO, 772, BELO HORIZONTE, MG\n"
     ]
    },
    {
     "name": "stderr",
     "output_type": "stream",
     "text": [
      " 37%|███▋      | 3172/8657 [1:19:24<1:45:30,  1.15s/it]"
     ]
    },
    {
     "name": "stdout",
     "output_type": "stream",
     "text": [
      "Endereço não encontrado por Nominatim: RUA JOAQUIM GONCALVES BITENCOURT, 135, BELO HORIZONTE, MG\n"
     ]
    },
    {
     "name": "stderr",
     "output_type": "stream",
     "text": [
      " 37%|███▋      | 3224/8657 [1:20:32<1:46:43,  1.18s/it]"
     ]
    },
    {
     "name": "stdout",
     "output_type": "stream",
     "text": [
      "Endereço não encontrado por Nominatim: RUA MANUEL NUNES VIANA, 954, BELO HORIZONTE, MG\n"
     ]
    },
    {
     "name": "stderr",
     "output_type": "stream",
     "text": [
      " 38%|███▊      | 3254/8657 [1:21:14<1:56:39,  1.30s/it]"
     ]
    },
    {
     "name": "stdout",
     "output_type": "stream",
     "text": [
      "Endereço não encontrado por Nominatim: RUA ARTHUR LUCCHESI, 356, BELO HORIZONTE, MG\n"
     ]
    },
    {
     "name": "stderr",
     "output_type": "stream",
     "text": [
      " 38%|███▊      | 3296/8657 [1:22:07<1:52:34,  1.26s/it]"
     ]
    },
    {
     "name": "stdout",
     "output_type": "stream",
     "text": [
      "Endereço não encontrado por Nominatim: RUA CHRISTINA MARIA ASSIS, 173, BELO HORIZONTE, MG\n"
     ]
    },
    {
     "name": "stderr",
     "output_type": "stream",
     "text": [
      " 38%|███▊      | 3328/8657 [1:22:53<1:57:05,  1.32s/it]"
     ]
    },
    {
     "name": "stdout",
     "output_type": "stream",
     "text": [
      "Endereço não encontrado por Nominatim: RUA ADRIANO CHAVES E MATOS, 486, BELO HORIZONTE, MG\n"
     ]
    },
    {
     "name": "stderr",
     "output_type": "stream",
     "text": [
      " 39%|███▊      | 3335/8657 [1:23:02<2:12:01,  1.49s/it]"
     ]
    },
    {
     "name": "stdout",
     "output_type": "stream",
     "text": [
      "Endereço não encontrado por Nominatim: RD BR TREZENTOS E CINQUENTA E SEIS, 3049, BELO HORIZONTE, MG\n"
     ]
    },
    {
     "name": "stderr",
     "output_type": "stream",
     "text": [
      " 39%|███▉      | 3391/8657 [1:24:06<1:34:14,  1.07s/it]"
     ]
    },
    {
     "name": "stdout",
     "output_type": "stream",
     "text": [
      "Endereço não encontrado por Nominatim: RUA CAISSARA, 672, BELO HORIZONTE, MG\n"
     ]
    },
    {
     "name": "stderr",
     "output_type": "stream",
     "text": [
      " 39%|███▉      | 3396/8657 [1:24:12<1:37:21,  1.11s/it]"
     ]
    },
    {
     "name": "stdout",
     "output_type": "stream",
     "text": [
      "Endereço não encontrado por Nominatim: RUA DO IPE ENCANTADO, 210, BELO HORIZONTE, MG\n"
     ]
    },
    {
     "name": "stderr",
     "output_type": "stream",
     "text": [
      " 39%|███▉      | 3405/8657 [1:24:22<1:36:20,  1.10s/it]"
     ]
    },
    {
     "name": "stdout",
     "output_type": "stream",
     "text": [
      "Endereço não encontrado por Nominatim: AV JORGE ESPESCHIT, 1020, BELO HORIZONTE, MG\n"
     ]
    },
    {
     "name": "stderr",
     "output_type": "stream",
     "text": [
      " 39%|███▉      | 3408/8657 [1:24:26<2:02:54,  1.40s/it]"
     ]
    },
    {
     "name": "stdout",
     "output_type": "stream",
     "text": [
      "Endereço não encontrado por Nominatim: RUA JOSE HONORATO DE MORAES, 157, BELO HORIZONTE, MG\n"
     ]
    },
    {
     "name": "stderr",
     "output_type": "stream",
     "text": [
      " 39%|███▉      | 3418/8657 [1:24:38<1:46:26,  1.22s/it]"
     ]
    },
    {
     "name": "stdout",
     "output_type": "stream",
     "text": [
      "Endereço não encontrado por Nominatim: RUA ONZE DE DEZEMBRO, 79, BELO HORIZONTE, MG\n"
     ]
    },
    {
     "name": "stderr",
     "output_type": "stream",
     "text": [
      " 40%|███▉      | 3423/8657 [1:24:45<1:49:27,  1.25s/it]"
     ]
    },
    {
     "name": "stdout",
     "output_type": "stream",
     "text": [
      "Endereço não encontrado por Nominatim: RUA DONA ANITA, 263, BELO HORIZONTE, MG\n"
     ]
    },
    {
     "name": "stderr",
     "output_type": "stream",
     "text": [
      " 40%|████      | 3465/8657 [1:25:34<1:47:57,  1.25s/it]"
     ]
    },
    {
     "name": "stdout",
     "output_type": "stream",
     "text": [
      "Endereço não encontrado por Nominatim: RUA TENENTE HELIM, 240, BELO HORIZONTE, MG\n"
     ]
    },
    {
     "name": "stderr",
     "output_type": "stream",
     "text": [
      " 40%|████      | 3472/8657 [1:25:42<1:48:35,  1.26s/it]"
     ]
    },
    {
     "name": "stdout",
     "output_type": "stream",
     "text": [
      "Endereço não encontrado por Nominatim: AV VICENTE PIMENTEL, 358, BELO HORIZONTE, MG\n"
     ]
    },
    {
     "name": "stderr",
     "output_type": "stream",
     "text": [
      " 40%|████      | 3498/8657 [1:26:13<1:39:25,  1.16s/it]"
     ]
    },
    {
     "name": "stdout",
     "output_type": "stream",
     "text": [
      "Endereço não encontrado por Nominatim: RUA BARAO DO MONTE ALTO, 537, BELO HORIZONTE, MG\n"
     ]
    },
    {
     "name": "stderr",
     "output_type": "stream",
     "text": [
      " 40%|████      | 3499/8657 [1:26:14<1:39:30,  1.16s/it]"
     ]
    },
    {
     "name": "stdout",
     "output_type": "stream",
     "text": [
      "Endereço não encontrado por Nominatim: RUA CHRISTINA MARIA ASSIS, 555, BELO HORIZONTE, MG\n"
     ]
    },
    {
     "name": "stderr",
     "output_type": "stream",
     "text": [
      " 40%|████      | 3505/8657 [1:26:21<1:37:52,  1.14s/it]"
     ]
    },
    {
     "name": "stdout",
     "output_type": "stream",
     "text": [
      "Endereço não encontrado por Nominatim: RUA QUINHENTOS E DEZENOVE, 15, BELO HORIZONTE, MG\n"
     ]
    },
    {
     "name": "stderr",
     "output_type": "stream",
     "text": [
      " 41%|████      | 3510/8657 [1:26:27<1:45:05,  1.23s/it]"
     ]
    },
    {
     "name": "stdout",
     "output_type": "stream",
     "text": [
      "Endereço não encontrado por Nominatim: RUA CAGERANA, 52, BELO HORIZONTE, MG\n"
     ]
    },
    {
     "name": "stderr",
     "output_type": "stream",
     "text": [
      " 41%|████      | 3534/8657 [1:26:57<1:51:30,  1.31s/it]"
     ]
    },
    {
     "name": "stdout",
     "output_type": "stream",
     "text": [
      "Endereço não encontrado por Nominatim: RUA GERALDO VASCONCELLOS, 485, BELO HORIZONTE, MG\n"
     ]
    },
    {
     "name": "stderr",
     "output_type": "stream",
     "text": [
      " 41%|████      | 3535/8657 [1:26:59<1:54:39,  1.34s/it]"
     ]
    },
    {
     "name": "stdout",
     "output_type": "stream",
     "text": [
      "Endereço não encontrado por Nominatim: RUA MARIA ELIZABET PESSOA, 329, BELO HORIZONTE, MG\n"
     ]
    },
    {
     "name": "stderr",
     "output_type": "stream",
     "text": [
      " 41%|████      | 3543/8657 [1:27:08<1:47:45,  1.26s/it]"
     ]
    },
    {
     "name": "stdout",
     "output_type": "stream",
     "text": [
      "Endereço não encontrado por Nominatim: RUA SAO JOAO DE MERITI, 154, BELO HORIZONTE, MG\n"
     ]
    },
    {
     "name": "stderr",
     "output_type": "stream",
     "text": [
      " 41%|████      | 3549/8657 [1:27:16<1:45:58,  1.24s/it]"
     ]
    },
    {
     "name": "stdout",
     "output_type": "stream",
     "text": [
      "Endereço não encontrado por Nominatim: RUA QUINHENTOS E DEZESSETE, 220, BELO HORIZONTE, MG\n"
     ]
    },
    {
     "name": "stderr",
     "output_type": "stream",
     "text": [
      " 41%|████      | 3561/8657 [1:27:31<1:44:01,  1.22s/it]"
     ]
    },
    {
     "name": "stdout",
     "output_type": "stream",
     "text": [
      "Endereço não encontrado por Nominatim: RUA CIBIPURUNA, 60, BELO HORIZONTE, MG\n"
     ]
    },
    {
     "name": "stderr",
     "output_type": "stream",
     "text": [
      " 41%|████▏     | 3582/8657 [1:28:00<2:18:51,  1.64s/it]"
     ]
    },
    {
     "name": "stdout",
     "output_type": "stream",
     "text": [
      "Endereço não encontrado por Nominatim: RUA JOSE PEDRO DE BRITO, 225, BELO HORIZONTE, MG\n"
     ]
    },
    {
     "name": "stderr",
     "output_type": "stream",
     "text": [
      " 41%|████▏     | 3584/8657 [1:28:03<2:14:51,  1.59s/it]"
     ]
    },
    {
     "name": "stdout",
     "output_type": "stream",
     "text": [
      "Endereço não encontrado por Nominatim: RUA PRINCIPE DA PAZ, 20, BELO HORIZONTE, MG\n"
     ]
    },
    {
     "name": "stderr",
     "output_type": "stream",
     "text": [
      " 42%|████▏     | 3622/8657 [1:28:57<1:40:13,  1.19s/it]"
     ]
    },
    {
     "name": "stdout",
     "output_type": "stream",
     "text": [
      "Endereço não encontrado por Nominatim: RUA BARAO DO MONTE ALTO, 347, BELO HORIZONTE, MG\n"
     ]
    },
    {
     "name": "stderr",
     "output_type": "stream",
     "text": [
      " 42%|████▏     | 3651/8657 [1:29:33<1:54:56,  1.38s/it]"
     ]
    },
    {
     "name": "stdout",
     "output_type": "stream",
     "text": [
      "Endereço não encontrado por Nominatim: AV WARLEY APARECIDO MARTINS, 566, BELO HORIZONTE, MG\n"
     ]
    },
    {
     "name": "stderr",
     "output_type": "stream",
     "text": [
      " 43%|████▎     | 3686/8657 [1:30:19<1:56:50,  1.41s/it]"
     ]
    },
    {
     "name": "stdout",
     "output_type": "stream",
     "text": [
      "Endereço não encontrado por Nominatim: RUA JOAQUIM DE FIGUEIREDO, 1431, BELO HORIZONTE, MG\n"
     ]
    },
    {
     "name": "stderr",
     "output_type": "stream",
     "text": [
      " 43%|████▎     | 3711/8657 [1:30:49<1:41:25,  1.23s/it]"
     ]
    },
    {
     "name": "stdout",
     "output_type": "stream",
     "text": [
      "Endereço não encontrado por Nominatim: RUA MARIA GERTRUDES SANTOS, 790, BELO HORIZONTE, MG\n"
     ]
    },
    {
     "name": "stderr",
     "output_type": "stream",
     "text": [
      " 44%|████▍     | 3793/8657 [1:32:39<1:26:11,  1.06s/it]"
     ]
    },
    {
     "name": "stdout",
     "output_type": "stream",
     "text": [
      "Endereço não encontrado por Nominatim: PC GUARACI, 46, BELO HORIZONTE, MG\n"
     ]
    },
    {
     "name": "stderr",
     "output_type": "stream",
     "text": [
      " 44%|████▍     | 3802/8657 [1:33:09<8:18:51,  6.16s/it]"
     ]
    },
    {
     "name": "stderr",
     "output_type": "stream",
     "text": [
      " 44%|████▍     | 3804/8657 [1:33:21<8:32:06,  6.33s/it]"
     ]
    },
    {
     "name": "stderr",
     "output_type": "stream",
     "text": [
      " 44%|████▍     | 3810/8657 [1:33:45<6:49:43,  5.07s/it]"
     ]
    },
    {
     "name": "stderr",
     "output_type": "stream",
     "text": [
      " 44%|████▍     | 3811/8657 [1:33:55<8:50:25,  6.57s/it]"
     ]
    },
    {
     "name": "stderr",
     "output_type": "stream",
     "text": [
      " 44%|████▍     | 3813/8657 [1:34:06<8:47:01,  6.53s/it]"
     ]
    },
    {
     "name": "stderr",
     "output_type": "stream",
     "text": [
      " 44%|████▍     | 3817/8657 [1:34:24<7:56:48,  5.91s/it]"
     ]
    },
    {
     "name": "stderr",
     "output_type": "stream",
     "text": [
      " 44%|████▍     | 3849/8657 [1:35:16<1:37:26,  1.22s/it]"
     ]
    },
    {
     "name": "stdout",
     "output_type": "stream",
     "text": [
      "Endereço não encontrado por Nominatim: RD STAEL MARY BICALHO MOTTA MAGALHAES, 421, BELO HORIZONTE, MG\n"
     ]
    },
    {
     "name": "stderr",
     "output_type": "stream",
     "text": [
      " 45%|████▍     | 3853/8657 [1:35:33<6:38:08,  4.97s/it]"
     ]
    },
    {
     "name": "stderr",
     "output_type": "stream",
     "text": [
      " 45%|████▍     | 3854/8657 [1:35:43<8:39:17,  6.49s/it]"
     ]
    },
    {
     "name": "stderr",
     "output_type": "stream",
     "text": [
      " 45%|████▍     | 3855/8657 [1:35:53<10:03:44,  7.54s/it]"
     ]
    },
    {
     "name": "stderr",
     "output_type": "stream",
     "text": [
      " 45%|████▍     | 3856/8657 [1:36:03<11:02:44,  8.28s/it]"
     ]
    },
    {
     "name": "stderr",
     "output_type": "stream",
     "text": [
      " 45%|████▍     | 3857/8657 [1:36:13<11:44:11,  8.80s/it]"
     ]
    },
    {
     "name": "stderr",
     "output_type": "stream",
     "text": [
      " 45%|████▍     | 3858/8657 [1:36:23<12:12:56,  9.16s/it]"
     ]
    },
    {
     "name": "stderr",
     "output_type": "stream",
     "text": [
      " 45%|████▍     | 3859/8657 [1:36:33<12:33:07,  9.42s/it]"
     ]
    },
    {
     "name": "stderr",
     "output_type": "stream",
     "text": [
      " 47%|████▋     | 4038/8657 [1:36:42<06:35, 11.67it/s]   "
     ]
    },
    {
     "name": "stderr",
     "output_type": "stream",
     "text": [
      " 56%|█████▌    | 4842/8657 [1:36:42<00:20, 183.68it/s]"
     ]
    },
    {
     "name": "stderr",
     "output_type": "stream",
     "text": [
      "100%|██████████| 8657/8657 [1:37:57<00:00,  1.47it/s] "
     ]
    },
    {
     "name": "stderr",
     "output_type": "stream",
     "text": [
      "\n"
     ]
    }
   ],
   "source": [
    "dados_geoloc = []\n",
    "dados_with_error = []\n",
    "for id, endereco in tqdm(filtered_table[['ID', 'ENDERECO_FORMATADO']].to_numpy()):\n",
    "    latitude, longitude, EnderecoNominatim = geocode_single_address(endereco)\n",
    "    if EnderecoNominatim == None: \n",
    "        dados_with_error.append([id, EnderecoNominatim])\n",
    "    dados_geoloc.append([id, latitude, longitude, EnderecoNominatim])"
   ]
  },
  {
   "cell_type": "markdown",
   "id": "91dd13f0",
   "metadata": {},
   "source": [
    "### Salvando os dados geolocalizados para casos de falha"
   ]
  },
  {
   "cell_type": "code",
   "execution_count": null,
   "id": "a3ab3c85",
   "metadata": {},
   "outputs": [
    {
     "name": "stdout",
     "output_type": "stream",
     "text": [
      "Arquivo salvo em: ./temp/dado_geoloc_sucesso.pkl\n"
     ]
    }
   ],
   "source": [
    "salvar_pkl(dados_geoloc, './temp/dado_geoloc_sucesso.pkl')"
   ]
  },
  {
   "cell_type": "markdown",
   "id": "66c6be8e",
   "metadata": {},
   "source": [
    "## Juntando os dados Geolocalizados com os dados da PBH Tratados"
   ]
  },
  {
   "cell_type": "code",
   "execution_count": 14,
   "id": "ffc2b808",
   "metadata": {},
   "outputs": [
    {
     "data": {
      "text/html": [
       "<div>\n",
       "<style scoped>\n",
       "    .dataframe tbody tr th:only-of-type {\n",
       "        vertical-align: middle;\n",
       "    }\n",
       "\n",
       "    .dataframe tbody tr th {\n",
       "        vertical-align: top;\n",
       "    }\n",
       "\n",
       "    .dataframe thead th {\n",
       "        text-align: right;\n",
       "    }\n",
       "</style>\n",
       "<table border=\"1\" class=\"dataframe\">\n",
       "  <thead>\n",
       "    <tr style=\"text-align: right;\">\n",
       "      <th></th>\n",
       "      <th>ID</th>\n",
       "      <th>LATITUDE</th>\n",
       "      <th>LONGITUDE</th>\n",
       "      <th>ENDERECO_NOMINATIM</th>\n",
       "    </tr>\n",
       "  </thead>\n",
       "  <tbody>\n",
       "    <tr>\n",
       "      <th>4604</th>\n",
       "      <td>1</td>\n",
       "      <td>-19.799323</td>\n",
       "      <td>-43.976029</td>\n",
       "      <td>Rua Luiz Pongellupe, Vila SESC, Jardim dos Com...</td>\n",
       "    </tr>\n",
       "    <tr>\n",
       "      <th>4605</th>\n",
       "      <td>2</td>\n",
       "      <td>-19.921143</td>\n",
       "      <td>-43.986082</td>\n",
       "      <td>Avenida Ressaca, Coração Eucarístico, Regional...</td>\n",
       "    </tr>\n",
       "    <tr>\n",
       "      <th>4606</th>\n",
       "      <td>3</td>\n",
       "      <td>-19.973201</td>\n",
       "      <td>-44.014192</td>\n",
       "      <td>Rua Desembargador Ribeiro da Luz, Barreiro de ...</td>\n",
       "    </tr>\n",
       "    <tr>\n",
       "      <th>4607</th>\n",
       "      <td>4</td>\n",
       "      <td>-19.890369</td>\n",
       "      <td>-43.928219</td>\n",
       "      <td>Feira dos Produtores, 1950, Avenida Cristiano ...</td>\n",
       "    </tr>\n",
       "    <tr>\n",
       "      <th>4608</th>\n",
       "      <td>5</td>\n",
       "      <td>-19.926088</td>\n",
       "      <td>-43.926185</td>\n",
       "      <td>Rua dos Otoni, Santa Efigênia, Regional Centro...</td>\n",
       "    </tr>\n",
       "    <tr>\n",
       "      <th>...</th>\n",
       "      <td>...</td>\n",
       "      <td>...</td>\n",
       "      <td>...</td>\n",
       "      <td>...</td>\n",
       "    </tr>\n",
       "    <tr>\n",
       "      <th>3757</th>\n",
       "      <td>8653</td>\n",
       "      <td>-19.868581</td>\n",
       "      <td>-43.987023</td>\n",
       "      <td>Rua Marcos de Oliveira, Ouro Preto, Itamarati,...</td>\n",
       "    </tr>\n",
       "    <tr>\n",
       "      <th>3758</th>\n",
       "      <td>8654</td>\n",
       "      <td>-19.922520</td>\n",
       "      <td>-43.919660</td>\n",
       "      <td>Avenida do Contorno, São Lucas, Santa Efigênia...</td>\n",
       "    </tr>\n",
       "    <tr>\n",
       "      <th>3759</th>\n",
       "      <td>8655</td>\n",
       "      <td>-19.944486</td>\n",
       "      <td>-43.934504</td>\n",
       "      <td>Avenida Nossa Senhora do Carmo, São Pedro, Reg...</td>\n",
       "    </tr>\n",
       "    <tr>\n",
       "      <th>3760</th>\n",
       "      <td>8656</td>\n",
       "      <td>-19.876441</td>\n",
       "      <td>-44.002659</td>\n",
       "      <td>Rua Castelo de Dover, Castelo, Pampulha, Belo ...</td>\n",
       "    </tr>\n",
       "    <tr>\n",
       "      <th>3761</th>\n",
       "      <td>8657</td>\n",
       "      <td>-19.962785</td>\n",
       "      <td>-43.975515</td>\n",
       "      <td>Rua Marcos Coelho Neto, Havaí, Regional Oeste,...</td>\n",
       "    </tr>\n",
       "  </tbody>\n",
       "</table>\n",
       "<p>8282 rows × 4 columns</p>\n",
       "</div>"
      ],
      "text/plain": [
       "        ID   LATITUDE  LONGITUDE  \\\n",
       "4604     1 -19.799323 -43.976029   \n",
       "4605     2 -19.921143 -43.986082   \n",
       "4606     3 -19.973201 -44.014192   \n",
       "4607     4 -19.890369 -43.928219   \n",
       "4608     5 -19.926088 -43.926185   \n",
       "...    ...        ...        ...   \n",
       "3757  8653 -19.868581 -43.987023   \n",
       "3758  8654 -19.922520 -43.919660   \n",
       "3759  8655 -19.944486 -43.934504   \n",
       "3760  8656 -19.876441 -44.002659   \n",
       "3761  8657 -19.962785 -43.975515   \n",
       "\n",
       "                                     ENDERECO_NOMINATIM  \n",
       "4604  Rua Luiz Pongellupe, Vila SESC, Jardim dos Com...  \n",
       "4605  Avenida Ressaca, Coração Eucarístico, Regional...  \n",
       "4606  Rua Desembargador Ribeiro da Luz, Barreiro de ...  \n",
       "4607  Feira dos Produtores, 1950, Avenida Cristiano ...  \n",
       "4608  Rua dos Otoni, Santa Efigênia, Regional Centro...  \n",
       "...                                                 ...  \n",
       "3757  Rua Marcos de Oliveira, Ouro Preto, Itamarati,...  \n",
       "3758  Avenida do Contorno, São Lucas, Santa Efigênia...  \n",
       "3759  Avenida Nossa Senhora do Carmo, São Pedro, Reg...  \n",
       "3760  Rua Castelo de Dover, Castelo, Pampulha, Belo ...  \n",
       "3761  Rua Marcos Coelho Neto, Havaí, Regional Oeste,...  \n",
       "\n",
       "[8282 rows x 4 columns]"
      ]
     },
     "execution_count": 14,
     "metadata": {},
     "output_type": "execute_result"
    }
   ],
   "source": [
    "dados_geoloc = ler_pkl( './temp/dado_geoloc_sucesso.pkl')\n",
    "df_dados_geoloc = pd.DataFrame(dados_geoloc, columns=['ID', 'LATITUDE', 'LONGITUDE', 'ENDERECO_NOMINATIM'])\n",
    "df_dados_geoloc['ID']= df_dados_geoloc['ID'].astype(int)\n",
    "df_dados_geoloc  = df_dados_geoloc.sort_values(by='ID')  \n",
    "df_dados_geoloc"
   ]
  },
  {
   "cell_type": "code",
   "execution_count": 15,
   "id": "c2530093",
   "metadata": {},
   "outputs": [
    {
     "data": {
      "text/html": [
       "<div>\n",
       "<style scoped>\n",
       "    .dataframe tbody tr th:only-of-type {\n",
       "        vertical-align: middle;\n",
       "    }\n",
       "\n",
       "    .dataframe tbody tr th {\n",
       "        vertical-align: top;\n",
       "    }\n",
       "\n",
       "    .dataframe thead th {\n",
       "        text-align: right;\n",
       "    }\n",
       "</style>\n",
       "<table border=\"1\" class=\"dataframe\">\n",
       "  <thead>\n",
       "    <tr style=\"text-align: right;\">\n",
       "      <th></th>\n",
       "      <th>DATA_INICIO_ATIVIDADE</th>\n",
       "      <th>IND_POSSUI_ALVARA</th>\n",
       "      <th>ENDERECO_FORMATADO</th>\n",
       "      <th>NOME_FANTASIA</th>\n",
       "      <th>ID</th>\n",
       "      <th>LATITUDE</th>\n",
       "      <th>LONGITUDE</th>\n",
       "      <th>ENDERECO_NOMINATIM</th>\n",
       "      <th>HAS_GEOLOC</th>\n",
       "    </tr>\n",
       "  </thead>\n",
       "  <tbody>\n",
       "    <tr>\n",
       "      <th>0</th>\n",
       "      <td>15-10-1993</td>\n",
       "      <td>NÃO</td>\n",
       "      <td>RUA LUIZ PONGELUPE, 290</td>\n",
       "      <td>PIZZARIA E CHURRASCARIA VARANDA</td>\n",
       "      <td>1</td>\n",
       "      <td>-19.799323</td>\n",
       "      <td>-43.976029</td>\n",
       "      <td>Rua Luiz Pongellupe, Vila SESC, Jardim dos Com...</td>\n",
       "      <td>True</td>\n",
       "    </tr>\n",
       "    <tr>\n",
       "      <th>1</th>\n",
       "      <td>02-05-1994</td>\n",
       "      <td>NÃO</td>\n",
       "      <td>AV RESSACA, 118</td>\n",
       "      <td>RABBIT BURGER</td>\n",
       "      <td>2</td>\n",
       "      <td>-19.921143</td>\n",
       "      <td>-43.986082</td>\n",
       "      <td>Avenida Ressaca, Coração Eucarístico, Regional...</td>\n",
       "      <td>True</td>\n",
       "    </tr>\n",
       "    <tr>\n",
       "      <th>2</th>\n",
       "      <td>24-11-1993</td>\n",
       "      <td>SIM</td>\n",
       "      <td>RUA DESEMBARGADOR RIBEIRO DA LUZ, 135</td>\n",
       "      <td>TATU REI DO ANGU A  BAHIANA</td>\n",
       "      <td>3</td>\n",
       "      <td>-19.973201</td>\n",
       "      <td>-44.014192</td>\n",
       "      <td>Rua Desembargador Ribeiro da Luz, Barreiro de ...</td>\n",
       "      <td>True</td>\n",
       "    </tr>\n",
       "    <tr>\n",
       "      <th>3</th>\n",
       "      <td>01-10-1993</td>\n",
       "      <td>SIM</td>\n",
       "      <td>AV CRISTIANO MACHADO, 1950</td>\n",
       "      <td>ESPACO DA FEIJOADA</td>\n",
       "      <td>4</td>\n",
       "      <td>-19.890369</td>\n",
       "      <td>-43.928219</td>\n",
       "      <td>Feira dos Produtores, 1950, Avenida Cristiano ...</td>\n",
       "      <td>True</td>\n",
       "    </tr>\n",
       "    <tr>\n",
       "      <th>4</th>\n",
       "      <td>16-09-2011</td>\n",
       "      <td>SIM</td>\n",
       "      <td>RUA DOS OTONI, 222</td>\n",
       "      <td>RESTAURANTE NOVO SABOR</td>\n",
       "      <td>5</td>\n",
       "      <td>-19.926088</td>\n",
       "      <td>-43.926185</td>\n",
       "      <td>Rua dos Otoni, Santa Efigênia, Regional Centro...</td>\n",
       "      <td>True</td>\n",
       "    </tr>\n",
       "    <tr>\n",
       "      <th>...</th>\n",
       "      <td>...</td>\n",
       "      <td>...</td>\n",
       "      <td>...</td>\n",
       "      <td>...</td>\n",
       "      <td>...</td>\n",
       "      <td>...</td>\n",
       "      <td>...</td>\n",
       "      <td>...</td>\n",
       "      <td>...</td>\n",
       "    </tr>\n",
       "    <tr>\n",
       "      <th>8652</th>\n",
       "      <td>24-04-2024</td>\n",
       "      <td>SIM</td>\n",
       "      <td>RUA MARCOS DE OLIVEIRA, 317</td>\n",
       "      <td>PASSELI PIZZAS E PAES ARTESANAIS</td>\n",
       "      <td>8653</td>\n",
       "      <td>-19.868581</td>\n",
       "      <td>-43.987023</td>\n",
       "      <td>Rua Marcos de Oliveira, Ouro Preto, Itamarati,...</td>\n",
       "      <td>True</td>\n",
       "    </tr>\n",
       "    <tr>\n",
       "      <th>8653</th>\n",
       "      <td>24-04-2024</td>\n",
       "      <td>SIM</td>\n",
       "      <td>AV DO CONTORNO, 4347</td>\n",
       "      <td>ARMAZEM DO CHOPP CHOPERIA E PETISCARIA</td>\n",
       "      <td>8654</td>\n",
       "      <td>-19.922520</td>\n",
       "      <td>-43.919660</td>\n",
       "      <td>Avenida do Contorno, São Lucas, Santa Efigênia...</td>\n",
       "      <td>True</td>\n",
       "    </tr>\n",
       "    <tr>\n",
       "      <th>8654</th>\n",
       "      <td>02-05-2024</td>\n",
       "      <td>NÃO</td>\n",
       "      <td>AV NOSSA SENHORA DO CARMO, 683</td>\n",
       "      <td>BAR IRMAOS GONCALVES</td>\n",
       "      <td>8655</td>\n",
       "      <td>-19.944486</td>\n",
       "      <td>-43.934504</td>\n",
       "      <td>Avenida Nossa Senhora do Carmo, São Pedro, Reg...</td>\n",
       "      <td>True</td>\n",
       "    </tr>\n",
       "    <tr>\n",
       "      <th>8655</th>\n",
       "      <td>17-04-2024</td>\n",
       "      <td>SIM</td>\n",
       "      <td>RUA CASTELO DE DOVER, 70</td>\n",
       "      <td>GORDINHO CARNES E BEBIBAS BH</td>\n",
       "      <td>8656</td>\n",
       "      <td>-19.876441</td>\n",
       "      <td>-44.002659</td>\n",
       "      <td>Rua Castelo de Dover, Castelo, Pampulha, Belo ...</td>\n",
       "      <td>True</td>\n",
       "    </tr>\n",
       "    <tr>\n",
       "      <th>8656</th>\n",
       "      <td>08-05-2024</td>\n",
       "      <td>NÃO</td>\n",
       "      <td>RUA MARCOS COELHO NETO, 465</td>\n",
       "      <td>JESSE HAMBURGUERIA</td>\n",
       "      <td>8657</td>\n",
       "      <td>-19.962785</td>\n",
       "      <td>-43.975515</td>\n",
       "      <td>Rua Marcos Coelho Neto, Havaí, Regional Oeste,...</td>\n",
       "      <td>True</td>\n",
       "    </tr>\n",
       "  </tbody>\n",
       "</table>\n",
       "<p>8657 rows × 9 columns</p>\n",
       "</div>"
      ],
      "text/plain": [
       "     DATA_INICIO_ATIVIDADE IND_POSSUI_ALVARA  \\\n",
       "0               15-10-1993               NÃO   \n",
       "1               02-05-1994               NÃO   \n",
       "2               24-11-1993               SIM   \n",
       "3               01-10-1993               SIM   \n",
       "4               16-09-2011               SIM   \n",
       "...                    ...               ...   \n",
       "8652            24-04-2024               SIM   \n",
       "8653            24-04-2024               SIM   \n",
       "8654            02-05-2024               NÃO   \n",
       "8655            17-04-2024               SIM   \n",
       "8656            08-05-2024               NÃO   \n",
       "\n",
       "                         ENDERECO_FORMATADO  \\\n",
       "0                   RUA LUIZ PONGELUPE, 290   \n",
       "1                           AV RESSACA, 118   \n",
       "2     RUA DESEMBARGADOR RIBEIRO DA LUZ, 135   \n",
       "3                AV CRISTIANO MACHADO, 1950   \n",
       "4                        RUA DOS OTONI, 222   \n",
       "...                                     ...   \n",
       "8652            RUA MARCOS DE OLIVEIRA, 317   \n",
       "8653                   AV DO CONTORNO, 4347   \n",
       "8654         AV NOSSA SENHORA DO CARMO, 683   \n",
       "8655               RUA CASTELO DE DOVER, 70   \n",
       "8656            RUA MARCOS COELHO NETO, 465   \n",
       "\n",
       "                               NOME_FANTASIA    ID   LATITUDE  LONGITUDE  \\\n",
       "0            PIZZARIA E CHURRASCARIA VARANDA     1 -19.799323 -43.976029   \n",
       "1                              RABBIT BURGER     2 -19.921143 -43.986082   \n",
       "2                TATU REI DO ANGU A  BAHIANA     3 -19.973201 -44.014192   \n",
       "3                         ESPACO DA FEIJOADA     4 -19.890369 -43.928219   \n",
       "4                     RESTAURANTE NOVO SABOR     5 -19.926088 -43.926185   \n",
       "...                                      ...   ...        ...        ...   \n",
       "8652        PASSELI PIZZAS E PAES ARTESANAIS  8653 -19.868581 -43.987023   \n",
       "8653  ARMAZEM DO CHOPP CHOPERIA E PETISCARIA  8654 -19.922520 -43.919660   \n",
       "8654                    BAR IRMAOS GONCALVES  8655 -19.944486 -43.934504   \n",
       "8655            GORDINHO CARNES E BEBIBAS BH  8656 -19.876441 -44.002659   \n",
       "8656                      JESSE HAMBURGUERIA  8657 -19.962785 -43.975515   \n",
       "\n",
       "                                     ENDERECO_NOMINATIM  HAS_GEOLOC  \n",
       "0     Rua Luiz Pongellupe, Vila SESC, Jardim dos Com...        True  \n",
       "1     Avenida Ressaca, Coração Eucarístico, Regional...        True  \n",
       "2     Rua Desembargador Ribeiro da Luz, Barreiro de ...        True  \n",
       "3     Feira dos Produtores, 1950, Avenida Cristiano ...        True  \n",
       "4     Rua dos Otoni, Santa Efigênia, Regional Centro...        True  \n",
       "...                                                 ...         ...  \n",
       "8652  Rua Marcos de Oliveira, Ouro Preto, Itamarati,...        True  \n",
       "8653  Avenida do Contorno, São Lucas, Santa Efigênia...        True  \n",
       "8654  Avenida Nossa Senhora do Carmo, São Pedro, Reg...        True  \n",
       "8655  Rua Castelo de Dover, Castelo, Pampulha, Belo ...        True  \n",
       "8656  Rua Marcos Coelho Neto, Havaí, Regional Oeste,...        True  \n",
       "\n",
       "[8657 rows x 9 columns]"
      ]
     },
     "execution_count": 15,
     "metadata": {},
     "output_type": "execute_result"
    }
   ],
   "source": [
    "df_full_dataset = pd.merge(filtered_table, df_dados_geoloc, on='ID', how='left')\n",
    "df_full_dataset['HAS_GEOLOC'] = df_full_dataset['LATITUDE'].notna()\n",
    "df_full_dataset"
   ]
  },
  {
   "cell_type": "markdown",
   "id": "733fef91",
   "metadata": {},
   "source": [
    "## Juntando com dados de Comida de Boteco"
   ]
  },
  {
   "cell_type": "markdown",
   "id": "71ba7285",
   "metadata": {},
   "source": [
    "Aqui vamos pegar os dados extraidos do site sobre o festival comida de boteco.\n",
    "\n",
    "Para obter esses dados, execute o notebook [./extract_comida_di_boteco.ipynb](./extract_comida_di_boteco.ipynb)"
   ]
  },
  {
   "cell_type": "code",
   "execution_count": 18,
   "id": "d6c6dea2",
   "metadata": {},
   "outputs": [
    {
     "data": {
      "text/html": [
       "<div>\n",
       "<style scoped>\n",
       "    .dataframe tbody tr th:only-of-type {\n",
       "        vertical-align: middle;\n",
       "    }\n",
       "\n",
       "    .dataframe tbody tr th {\n",
       "        vertical-align: top;\n",
       "    }\n",
       "\n",
       "    .dataframe thead th {\n",
       "        text-align: right;\n",
       "    }\n",
       "</style>\n",
       "<table border=\"1\" class=\"dataframe\">\n",
       "  <thead>\n",
       "    <tr style=\"text-align: right;\">\n",
       "      <th></th>\n",
       "      <th>BAR_NAME</th>\n",
       "      <th>NOME_PRATO</th>\n",
       "      <th>PRATO_DESCRICAO</th>\n",
       "      <th>ENDERECO_FORMATADO</th>\n",
       "      <th>PRATO_IMAGEM</th>\n",
       "      <th>HAS_CDB</th>\n",
       "    </tr>\n",
       "  </thead>\n",
       "  <tbody>\n",
       "    <tr>\n",
       "      <th>0</th>\n",
       "      <td>Alexandre’s Bar</td>\n",
       "      <td>O fabuloso discão</td>\n",
       "      <td>Polpetone com recheio de muçarela acompanhada ...</td>\n",
       "      <td>Rua David Alves do Vale, 68 | Santa Rosa, Belo...</td>\n",
       "      <td>https://s2-g1.glbimg.com/w6xgTZb45ExVKcLoRAFIa...</td>\n",
       "      <td>True</td>\n",
       "    </tr>\n",
       "    <tr>\n",
       "      <th>1</th>\n",
       "      <td>Amarelim do Prado</td>\n",
       "      <td>Trem de roças</td>\n",
       "      <td>Bochecha de porco na cama de angu mole, pesto ...</td>\n",
       "      <td>Avenida Francisco Sá, 658 | Prado, Belo Horizonte</td>\n",
       "      <td>https://s2-g1.glbimg.com/A1sXFeWp6YE12bpInykst...</td>\n",
       "      <td>True</td>\n",
       "    </tr>\n",
       "    <tr>\n",
       "      <th>2</th>\n",
       "      <td>Andrade’s Beer</td>\n",
       "      <td>Chora canelinha</td>\n",
       "      <td>Ossobuco com purê de batatas, acompanhado de t...</td>\n",
       "      <td>Rua Dona Geni, 32 | Jardim Florência (Venda No...</td>\n",
       "      <td>https://s2-g1.glbimg.com/9tZo4O55GproBN850s0km...</td>\n",
       "      <td>True</td>\n",
       "    </tr>\n",
       "    <tr>\n",
       "      <th>3</th>\n",
       "      <td>Arcos Bar e Restaurante</td>\n",
       "      <td>Panela da Diversidade</td>\n",
       "      <td>Acém cozido com ervas finas, acompanhado com b...</td>\n",
       "      <td>Rua da Bahia, 1144 | Centro, Belo Horizonte.</td>\n",
       "      <td>https://s2-g1.glbimg.com/TBJlO2gBA-eoaA_0XK6kM...</td>\n",
       "      <td>True</td>\n",
       "    </tr>\n",
       "    <tr>\n",
       "      <th>4</th>\n",
       "      <td>Armazém Santa Amélia</td>\n",
       "      <td>Segredo do Armazém</td>\n",
       "      <td>Polenta cremosa com ragu de carnes cheio de sa...</td>\n",
       "      <td>Avenida da Sinfonia, 253 | Santa Amélia, Belo ...</td>\n",
       "      <td>https://s2-g1.glbimg.com/z23BBsunx09X3iGDgJq31...</td>\n",
       "      <td>True</td>\n",
       "    </tr>\n",
       "    <tr>\n",
       "      <th>...</th>\n",
       "      <td>...</td>\n",
       "      <td>...</td>\n",
       "      <td>...</td>\n",
       "      <td>...</td>\n",
       "      <td>...</td>\n",
       "      <td>...</td>\n",
       "    </tr>\n",
       "    <tr>\n",
       "      <th>116</th>\n",
       "      <td>Xambar</td>\n",
       "      <td>Mineirin Oriental</td>\n",
       "      <td>Miolo de acém assado na pressão, acompanhado d...</td>\n",
       "      <td>Avenida Augusto de Lima, 233 | Centro, Belo Ho...</td>\n",
       "      <td>https://cdb-static-files.s3.amazonaws.com/wp-c...</td>\n",
       "      <td>True</td>\n",
       "    </tr>\n",
       "    <tr>\n",
       "      <th>117</th>\n",
       "      <td>Xico da Kafua</td>\n",
       "      <td>Pé na areia</td>\n",
       "      <td>Mão suína, acompanhada de farofa crocante de s...</td>\n",
       "      <td>Avenida Itaú, 1195 – Loja A | João Pinheiro, B...</td>\n",
       "      <td>https://cdb-static-files.s3.amazonaws.com/wp-c...</td>\n",
       "      <td>True</td>\n",
       "    </tr>\n",
       "    <tr>\n",
       "      <th>118</th>\n",
       "      <td>Xico do Churrasco</td>\n",
       "      <td>Xico Balaio</td>\n",
       "      <td>Asinhas de frango com provolone com tempero.</td>\n",
       "      <td>Av Altamiro avelino Soares 920 – Castelo, Belo...</td>\n",
       "      <td>https://cdb-static-files.s3.amazonaws.com/wp-c...</td>\n",
       "      <td>True</td>\n",
       "    </tr>\n",
       "    <tr>\n",
       "      <th>119</th>\n",
       "      <td>Zé Bolacha</td>\n",
       "      <td>Rabicó</td>\n",
       "      <td>Bolinho de costelinha desfiada com requeijão e...</td>\n",
       "      <td>Rua das Melancias, 35 | Vila Cloris, Belo Hori...</td>\n",
       "      <td>https://comidadibuteco.com.br/wp-content/uploa...</td>\n",
       "      <td>True</td>\n",
       "    </tr>\n",
       "    <tr>\n",
       "      <th>120</th>\n",
       "      <td>Zoo Bar</td>\n",
       "      <td>Canjiquinha da Vovó</td>\n",
       "      <td>Canjiquinha à moda da vovó, acompanhada de cos...</td>\n",
       "      <td>Avenida Otacílio Negrão de Lima, 7844 | Pampul...</td>\n",
       "      <td>https://cdb-static-files.s3.amazonaws.com/wp-c...</td>\n",
       "      <td>True</td>\n",
       "    </tr>\n",
       "  </tbody>\n",
       "</table>\n",
       "<p>121 rows × 6 columns</p>\n",
       "</div>"
      ],
      "text/plain": [
       "                    BAR_NAME             NOME_PRATO  \\\n",
       "0            Alexandre’s Bar      O fabuloso discão   \n",
       "1          Amarelim do Prado          Trem de roças   \n",
       "2             Andrade’s Beer        Chora canelinha   \n",
       "3    Arcos Bar e Restaurante  Panela da Diversidade   \n",
       "4       Armazém Santa Amélia     Segredo do Armazém   \n",
       "..                       ...                    ...   \n",
       "116                   Xambar      Mineirin Oriental   \n",
       "117            Xico da Kafua            Pé na areia   \n",
       "118        Xico do Churrasco            Xico Balaio   \n",
       "119               Zé Bolacha                 Rabicó   \n",
       "120                  Zoo Bar    Canjiquinha da Vovó   \n",
       "\n",
       "                                       PRATO_DESCRICAO  \\\n",
       "0    Polpetone com recheio de muçarela acompanhada ...   \n",
       "1    Bochecha de porco na cama de angu mole, pesto ...   \n",
       "2    Ossobuco com purê de batatas, acompanhado de t...   \n",
       "3    Acém cozido com ervas finas, acompanhado com b...   \n",
       "4    Polenta cremosa com ragu de carnes cheio de sa...   \n",
       "..                                                 ...   \n",
       "116  Miolo de acém assado na pressão, acompanhado d...   \n",
       "117  Mão suína, acompanhada de farofa crocante de s...   \n",
       "118       Asinhas de frango com provolone com tempero.   \n",
       "119  Bolinho de costelinha desfiada com requeijão e...   \n",
       "120  Canjiquinha à moda da vovó, acompanhada de cos...   \n",
       "\n",
       "                                    ENDERECO_FORMATADO  \\\n",
       "0    Rua David Alves do Vale, 68 | Santa Rosa, Belo...   \n",
       "1    Avenida Francisco Sá, 658 | Prado, Belo Horizonte   \n",
       "2    Rua Dona Geni, 32 | Jardim Florência (Venda No...   \n",
       "3         Rua da Bahia, 1144 | Centro, Belo Horizonte.   \n",
       "4    Avenida da Sinfonia, 253 | Santa Amélia, Belo ...   \n",
       "..                                                 ...   \n",
       "116  Avenida Augusto de Lima, 233 | Centro, Belo Ho...   \n",
       "117  Avenida Itaú, 1195 – Loja A | João Pinheiro, B...   \n",
       "118  Av Altamiro avelino Soares 920 – Castelo, Belo...   \n",
       "119  Rua das Melancias, 35 | Vila Cloris, Belo Hori...   \n",
       "120  Avenida Otacílio Negrão de Lima, 7844 | Pampul...   \n",
       "\n",
       "                                          PRATO_IMAGEM  HAS_CDB  \n",
       "0    https://s2-g1.glbimg.com/w6xgTZb45ExVKcLoRAFIa...     True  \n",
       "1    https://s2-g1.glbimg.com/A1sXFeWp6YE12bpInykst...     True  \n",
       "2    https://s2-g1.glbimg.com/9tZo4O55GproBN850s0km...     True  \n",
       "3    https://s2-g1.glbimg.com/TBJlO2gBA-eoaA_0XK6kM...     True  \n",
       "4    https://s2-g1.glbimg.com/z23BBsunx09X3iGDgJq31...     True  \n",
       "..                                                 ...      ...  \n",
       "116  https://cdb-static-files.s3.amazonaws.com/wp-c...     True  \n",
       "117  https://cdb-static-files.s3.amazonaws.com/wp-c...     True  \n",
       "118  https://cdb-static-files.s3.amazonaws.com/wp-c...     True  \n",
       "119  https://comidadibuteco.com.br/wp-content/uploa...     True  \n",
       "120  https://cdb-static-files.s3.amazonaws.com/wp-c...     True  \n",
       "\n",
       "[121 rows x 6 columns]"
      ]
     },
     "execution_count": 18,
     "metadata": {},
     "output_type": "execute_result"
    }
   ],
   "source": [
    "df_comida = pd.read_csv('./data/comida_di_boteco_2025.csv').rename(columns={\n",
    "    'bar_name': 'BAR_NAME',\n",
    "    'plate_name': 'NOME_PRATO',\n",
    "    'plate_description': 'PRATO_DESCRICAO',\n",
    "    'endereco': 'ENDERECO_FORMATADO',\n",
    "    'image_path': 'PRATO_IMAGEM',\n",
    "})\n",
    "df_comida['HAS_CDB'] = True\n",
    "df_comida"
   ]
  },
  {
   "cell_type": "code",
   "execution_count": 19,
   "id": "a69df9cd",
   "metadata": {},
   "outputs": [],
   "source": [
    "df_comida['NORMALIZED_NAME'] = df_comida['BAR_NAME'].apply(normalize_name)\n",
    "df_full_dataset['NORMALIZED_NAME'] = df_full_dataset['NOME_FANTASIA'].apply(normalize_name)"
   ]
  },
  {
   "cell_type": "code",
   "execution_count": 24,
   "id": "5078cfe1",
   "metadata": {},
   "outputs": [
    {
     "name": "stderr",
     "output_type": "stream",
     "text": [
      "/var/folders/33/gy7xm05x097chg59653_qr3m0000gn/T/ipykernel_37428/2775903342.py:7: FutureWarning: Downcasting object dtype arrays on .fillna, .ffill, .bfill is deprecated and will change in a future version. Call result.infer_objects(copy=False) instead. To opt-in to the future behavior, set `pd.set_option('future.no_silent_downcasting', True)`\n",
      "  df_full_dataset_complete['HAS_CDB'] = df_full_dataset_complete['HAS_CDB'].fillna(False).astype(bool)\n"
     ]
    },
    {
     "data": {
      "text/html": [
       "<div>\n",
       "<style scoped>\n",
       "    .dataframe tbody tr th:only-of-type {\n",
       "        vertical-align: middle;\n",
       "    }\n",
       "\n",
       "    .dataframe tbody tr th {\n",
       "        vertical-align: top;\n",
       "    }\n",
       "\n",
       "    .dataframe thead th {\n",
       "        text-align: right;\n",
       "    }\n",
       "</style>\n",
       "<table border=\"1\" class=\"dataframe\">\n",
       "  <thead>\n",
       "    <tr style=\"text-align: right;\">\n",
       "      <th></th>\n",
       "      <th>DATA_INICIO_ATIVIDADE</th>\n",
       "      <th>IND_POSSUI_ALVARA</th>\n",
       "      <th>ENDERECO_FORMATADO</th>\n",
       "      <th>NOME_FANTASIA</th>\n",
       "      <th>ID</th>\n",
       "      <th>LATITUDE</th>\n",
       "      <th>LONGITUDE</th>\n",
       "      <th>ENDERECO_NOMINATIM</th>\n",
       "      <th>HAS_GEOLOC</th>\n",
       "      <th>NORMALIZED_NAME</th>\n",
       "      <th>NOME_PRATO</th>\n",
       "      <th>PRATO_DESCRICAO</th>\n",
       "      <th>PRATO_IMAGEM</th>\n",
       "      <th>HAS_CDB</th>\n",
       "    </tr>\n",
       "  </thead>\n",
       "  <tbody>\n",
       "    <tr>\n",
       "      <th>0</th>\n",
       "      <td>15-10-1993</td>\n",
       "      <td>NÃO</td>\n",
       "      <td>RUA LUIZ PONGELUPE, 290</td>\n",
       "      <td>PIZZARIA E CHURRASCARIA VARANDA</td>\n",
       "      <td>1</td>\n",
       "      <td>-19.799323</td>\n",
       "      <td>-43.976029</td>\n",
       "      <td>Rua Luiz Pongellupe, Vila SESC, Jardim dos Com...</td>\n",
       "      <td>True</td>\n",
       "      <td>pizzaria_e_churrascaria_varanda</td>\n",
       "      <td>NaN</td>\n",
       "      <td>NaN</td>\n",
       "      <td>NaN</td>\n",
       "      <td>False</td>\n",
       "    </tr>\n",
       "    <tr>\n",
       "      <th>1</th>\n",
       "      <td>02-05-1994</td>\n",
       "      <td>NÃO</td>\n",
       "      <td>AV RESSACA, 118</td>\n",
       "      <td>RABBIT BURGER</td>\n",
       "      <td>2</td>\n",
       "      <td>-19.921143</td>\n",
       "      <td>-43.986082</td>\n",
       "      <td>Avenida Ressaca, Coração Eucarístico, Regional...</td>\n",
       "      <td>True</td>\n",
       "      <td>rabbit_burger</td>\n",
       "      <td>NaN</td>\n",
       "      <td>NaN</td>\n",
       "      <td>NaN</td>\n",
       "      <td>False</td>\n",
       "    </tr>\n",
       "    <tr>\n",
       "      <th>2</th>\n",
       "      <td>24-11-1993</td>\n",
       "      <td>SIM</td>\n",
       "      <td>RUA DESEMBARGADOR RIBEIRO DA LUZ, 135</td>\n",
       "      <td>TATU REI DO ANGU A  BAHIANA</td>\n",
       "      <td>3</td>\n",
       "      <td>-19.973201</td>\n",
       "      <td>-44.014192</td>\n",
       "      <td>Rua Desembargador Ribeiro da Luz, Barreiro de ...</td>\n",
       "      <td>True</td>\n",
       "      <td>tatu_rei_do_angu_a_bahiana</td>\n",
       "      <td>NaN</td>\n",
       "      <td>NaN</td>\n",
       "      <td>NaN</td>\n",
       "      <td>False</td>\n",
       "    </tr>\n",
       "    <tr>\n",
       "      <th>3</th>\n",
       "      <td>01-10-1993</td>\n",
       "      <td>SIM</td>\n",
       "      <td>AV CRISTIANO MACHADO, 1950</td>\n",
       "      <td>ESPACO DA FEIJOADA</td>\n",
       "      <td>4</td>\n",
       "      <td>-19.890369</td>\n",
       "      <td>-43.928219</td>\n",
       "      <td>Feira dos Produtores, 1950, Avenida Cristiano ...</td>\n",
       "      <td>True</td>\n",
       "      <td>espaco_da_feijoada</td>\n",
       "      <td>NaN</td>\n",
       "      <td>NaN</td>\n",
       "      <td>NaN</td>\n",
       "      <td>False</td>\n",
       "    </tr>\n",
       "    <tr>\n",
       "      <th>4</th>\n",
       "      <td>16-09-2011</td>\n",
       "      <td>SIM</td>\n",
       "      <td>RUA DOS OTONI, 222</td>\n",
       "      <td>RESTAURANTE NOVO SABOR</td>\n",
       "      <td>5</td>\n",
       "      <td>-19.926088</td>\n",
       "      <td>-43.926185</td>\n",
       "      <td>Rua dos Otoni, Santa Efigênia, Regional Centro...</td>\n",
       "      <td>True</td>\n",
       "      <td>restaurante_novo_sabor</td>\n",
       "      <td>NaN</td>\n",
       "      <td>NaN</td>\n",
       "      <td>NaN</td>\n",
       "      <td>False</td>\n",
       "    </tr>\n",
       "    <tr>\n",
       "      <th>...</th>\n",
       "      <td>...</td>\n",
       "      <td>...</td>\n",
       "      <td>...</td>\n",
       "      <td>...</td>\n",
       "      <td>...</td>\n",
       "      <td>...</td>\n",
       "      <td>...</td>\n",
       "      <td>...</td>\n",
       "      <td>...</td>\n",
       "      <td>...</td>\n",
       "      <td>...</td>\n",
       "      <td>...</td>\n",
       "      <td>...</td>\n",
       "      <td>...</td>\n",
       "    </tr>\n",
       "    <tr>\n",
       "      <th>8652</th>\n",
       "      <td>24-04-2024</td>\n",
       "      <td>SIM</td>\n",
       "      <td>RUA MARCOS DE OLIVEIRA, 317</td>\n",
       "      <td>PASSELI PIZZAS E PAES ARTESANAIS</td>\n",
       "      <td>8653</td>\n",
       "      <td>-19.868581</td>\n",
       "      <td>-43.987023</td>\n",
       "      <td>Rua Marcos de Oliveira, Ouro Preto, Itamarati,...</td>\n",
       "      <td>True</td>\n",
       "      <td>passeli_pizzas_e_paes_artesanais</td>\n",
       "      <td>NaN</td>\n",
       "      <td>NaN</td>\n",
       "      <td>NaN</td>\n",
       "      <td>False</td>\n",
       "    </tr>\n",
       "    <tr>\n",
       "      <th>8653</th>\n",
       "      <td>24-04-2024</td>\n",
       "      <td>SIM</td>\n",
       "      <td>AV DO CONTORNO, 4347</td>\n",
       "      <td>ARMAZEM DO CHOPP CHOPERIA E PETISCARIA</td>\n",
       "      <td>8654</td>\n",
       "      <td>-19.922520</td>\n",
       "      <td>-43.919660</td>\n",
       "      <td>Avenida do Contorno, São Lucas, Santa Efigênia...</td>\n",
       "      <td>True</td>\n",
       "      <td>armazem_do_chopp_choperia_e_petiscaria</td>\n",
       "      <td>NaN</td>\n",
       "      <td>NaN</td>\n",
       "      <td>NaN</td>\n",
       "      <td>False</td>\n",
       "    </tr>\n",
       "    <tr>\n",
       "      <th>8654</th>\n",
       "      <td>02-05-2024</td>\n",
       "      <td>NÃO</td>\n",
       "      <td>AV NOSSA SENHORA DO CARMO, 683</td>\n",
       "      <td>BAR IRMAOS GONCALVES</td>\n",
       "      <td>8655</td>\n",
       "      <td>-19.944486</td>\n",
       "      <td>-43.934504</td>\n",
       "      <td>Avenida Nossa Senhora do Carmo, São Pedro, Reg...</td>\n",
       "      <td>True</td>\n",
       "      <td>bar_irmaos_goncalves</td>\n",
       "      <td>NaN</td>\n",
       "      <td>NaN</td>\n",
       "      <td>NaN</td>\n",
       "      <td>False</td>\n",
       "    </tr>\n",
       "    <tr>\n",
       "      <th>8655</th>\n",
       "      <td>17-04-2024</td>\n",
       "      <td>SIM</td>\n",
       "      <td>RUA CASTELO DE DOVER, 70</td>\n",
       "      <td>GORDINHO CARNES E BEBIBAS BH</td>\n",
       "      <td>8656</td>\n",
       "      <td>-19.876441</td>\n",
       "      <td>-44.002659</td>\n",
       "      <td>Rua Castelo de Dover, Castelo, Pampulha, Belo ...</td>\n",
       "      <td>True</td>\n",
       "      <td>gordinho_carnes_e_bebibas_bh</td>\n",
       "      <td>NaN</td>\n",
       "      <td>NaN</td>\n",
       "      <td>NaN</td>\n",
       "      <td>False</td>\n",
       "    </tr>\n",
       "    <tr>\n",
       "      <th>8656</th>\n",
       "      <td>08-05-2024</td>\n",
       "      <td>NÃO</td>\n",
       "      <td>RUA MARCOS COELHO NETO, 465</td>\n",
       "      <td>JESSE HAMBURGUERIA</td>\n",
       "      <td>8657</td>\n",
       "      <td>-19.962785</td>\n",
       "      <td>-43.975515</td>\n",
       "      <td>Rua Marcos Coelho Neto, Havaí, Regional Oeste,...</td>\n",
       "      <td>True</td>\n",
       "      <td>jesse_hamburgueria</td>\n",
       "      <td>NaN</td>\n",
       "      <td>NaN</td>\n",
       "      <td>NaN</td>\n",
       "      <td>False</td>\n",
       "    </tr>\n",
       "  </tbody>\n",
       "</table>\n",
       "<p>8657 rows × 14 columns</p>\n",
       "</div>"
      ],
      "text/plain": [
       "     DATA_INICIO_ATIVIDADE IND_POSSUI_ALVARA  \\\n",
       "0               15-10-1993               NÃO   \n",
       "1               02-05-1994               NÃO   \n",
       "2               24-11-1993               SIM   \n",
       "3               01-10-1993               SIM   \n",
       "4               16-09-2011               SIM   \n",
       "...                    ...               ...   \n",
       "8652            24-04-2024               SIM   \n",
       "8653            24-04-2024               SIM   \n",
       "8654            02-05-2024               NÃO   \n",
       "8655            17-04-2024               SIM   \n",
       "8656            08-05-2024               NÃO   \n",
       "\n",
       "                         ENDERECO_FORMATADO  \\\n",
       "0                   RUA LUIZ PONGELUPE, 290   \n",
       "1                           AV RESSACA, 118   \n",
       "2     RUA DESEMBARGADOR RIBEIRO DA LUZ, 135   \n",
       "3                AV CRISTIANO MACHADO, 1950   \n",
       "4                        RUA DOS OTONI, 222   \n",
       "...                                     ...   \n",
       "8652            RUA MARCOS DE OLIVEIRA, 317   \n",
       "8653                   AV DO CONTORNO, 4347   \n",
       "8654         AV NOSSA SENHORA DO CARMO, 683   \n",
       "8655               RUA CASTELO DE DOVER, 70   \n",
       "8656            RUA MARCOS COELHO NETO, 465   \n",
       "\n",
       "                               NOME_FANTASIA    ID   LATITUDE  LONGITUDE  \\\n",
       "0            PIZZARIA E CHURRASCARIA VARANDA     1 -19.799323 -43.976029   \n",
       "1                              RABBIT BURGER     2 -19.921143 -43.986082   \n",
       "2                TATU REI DO ANGU A  BAHIANA     3 -19.973201 -44.014192   \n",
       "3                         ESPACO DA FEIJOADA     4 -19.890369 -43.928219   \n",
       "4                     RESTAURANTE NOVO SABOR     5 -19.926088 -43.926185   \n",
       "...                                      ...   ...        ...        ...   \n",
       "8652        PASSELI PIZZAS E PAES ARTESANAIS  8653 -19.868581 -43.987023   \n",
       "8653  ARMAZEM DO CHOPP CHOPERIA E PETISCARIA  8654 -19.922520 -43.919660   \n",
       "8654                    BAR IRMAOS GONCALVES  8655 -19.944486 -43.934504   \n",
       "8655            GORDINHO CARNES E BEBIBAS BH  8656 -19.876441 -44.002659   \n",
       "8656                      JESSE HAMBURGUERIA  8657 -19.962785 -43.975515   \n",
       "\n",
       "                                     ENDERECO_NOMINATIM  HAS_GEOLOC  \\\n",
       "0     Rua Luiz Pongellupe, Vila SESC, Jardim dos Com...        True   \n",
       "1     Avenida Ressaca, Coração Eucarístico, Regional...        True   \n",
       "2     Rua Desembargador Ribeiro da Luz, Barreiro de ...        True   \n",
       "3     Feira dos Produtores, 1950, Avenida Cristiano ...        True   \n",
       "4     Rua dos Otoni, Santa Efigênia, Regional Centro...        True   \n",
       "...                                                 ...         ...   \n",
       "8652  Rua Marcos de Oliveira, Ouro Preto, Itamarati,...        True   \n",
       "8653  Avenida do Contorno, São Lucas, Santa Efigênia...        True   \n",
       "8654  Avenida Nossa Senhora do Carmo, São Pedro, Reg...        True   \n",
       "8655  Rua Castelo de Dover, Castelo, Pampulha, Belo ...        True   \n",
       "8656  Rua Marcos Coelho Neto, Havaí, Regional Oeste,...        True   \n",
       "\n",
       "                             NORMALIZED_NAME NOME_PRATO PRATO_DESCRICAO  \\\n",
       "0            pizzaria_e_churrascaria_varanda        NaN             NaN   \n",
       "1                              rabbit_burger        NaN             NaN   \n",
       "2                 tatu_rei_do_angu_a_bahiana        NaN             NaN   \n",
       "3                         espaco_da_feijoada        NaN             NaN   \n",
       "4                     restaurante_novo_sabor        NaN             NaN   \n",
       "...                                      ...        ...             ...   \n",
       "8652        passeli_pizzas_e_paes_artesanais        NaN             NaN   \n",
       "8653  armazem_do_chopp_choperia_e_petiscaria        NaN             NaN   \n",
       "8654                    bar_irmaos_goncalves        NaN             NaN   \n",
       "8655            gordinho_carnes_e_bebibas_bh        NaN             NaN   \n",
       "8656                      jesse_hamburgueria        NaN             NaN   \n",
       "\n",
       "     PRATO_IMAGEM  HAS_CDB  \n",
       "0             NaN    False  \n",
       "1             NaN    False  \n",
       "2             NaN    False  \n",
       "3             NaN    False  \n",
       "4             NaN    False  \n",
       "...           ...      ...  \n",
       "8652          NaN    False  \n",
       "8653          NaN    False  \n",
       "8654          NaN    False  \n",
       "8655          NaN    False  \n",
       "8656          NaN    False  \n",
       "\n",
       "[8657 rows x 14 columns]"
      ]
     },
     "execution_count": 24,
     "metadata": {},
     "output_type": "execute_result"
    }
   ],
   "source": [
    "df_full_dataset_complete = pd.merge(\n",
    "    left=df_full_dataset,\n",
    "    right=df_comida[['NORMALIZED_NAME', 'NOME_PRATO', 'PRATO_DESCRICAO', 'PRATO_IMAGEM','HAS_CDB']],\n",
    "    how='left',\n",
    "    on='NORMALIZED_NAME',\n",
    ")\n",
    "df_full_dataset_complete['HAS_CDB'] = df_full_dataset_complete['HAS_CDB'].fillna(False).astype(bool)\n",
    "df_full_dataset_complete"
   ]
  },
  {
   "cell_type": "code",
   "execution_count": 27,
   "id": "105f5180",
   "metadata": {},
   "outputs": [
    {
     "data": {
      "text/plain": [
       "HAS_CDB\n",
       "False    8562\n",
       "True       95\n",
       "Name: count, dtype: int64"
      ]
     },
     "execution_count": 27,
     "metadata": {},
     "output_type": "execute_result"
    }
   ],
   "source": [
    "df_full_dataset_complete['HAS_CDB'].value_counts()"
   ]
  },
  {
   "cell_type": "markdown",
   "id": "9735f9b9",
   "metadata": {},
   "source": [
    "## Salvando os Dados Processados"
   ]
  },
  {
   "cell_type": "code",
   "execution_count": 26,
   "id": "9f1035a7",
   "metadata": {},
   "outputs": [],
   "source": [
    "df_full_dataset_complete.to_csv('data/dados_tratados_geolocalizados.csv', index=False)"
   ]
  }
 ],
 "metadata": {
  "kernelspec": {
   "display_name": "pylab312",
   "language": "python",
   "name": "python3"
  },
  "language_info": {
   "codemirror_mode": {
    "name": "ipython",
    "version": 3
   },
   "file_extension": ".py",
   "mimetype": "text/x-python",
   "name": "python",
   "nbconvert_exporter": "python",
   "pygments_lexer": "ipython3",
   "version": "3.12.7"
  }
 },
 "nbformat": 4,
 "nbformat_minor": 5
}
